{
 "cells": [
  {
   "cell_type": "markdown",
   "id": "08401312",
   "metadata": {},
   "source": [
    "# import packages"
   ]
  },
  {
   "cell_type": "code",
   "execution_count": 1,
   "id": "6ccc2858",
   "metadata": {},
   "outputs": [
    {
     "name": "stderr",
     "output_type": "stream",
     "text": [
      "C:\\Users\\monkeydc\\.conda\\envs\\561\\lib\\site-packages\\tqdm\\auto.py:22: TqdmWarning: IProgress not found. Please update jupyter and ipywidgets. See https://ipywidgets.readthedocs.io/en/stable/user_install.html\n",
      "  from .autonotebook import tqdm as notebook_tqdm\n"
     ]
    }
   ],
   "source": [
    "import torch\n",
    "import torch.nn as nn\n",
    "import torch.optim as optim\n",
    "from torch.utils.data import DataLoader, Dataset\n",
    "import numpy as np\n",
    "from torch.utils.data import TensorDataset, DataLoader\n",
    "import gzip\n",
    "import shutil\n",
    "import os"
   ]
  },
  {
   "cell_type": "markdown",
   "id": "0bb80037",
   "metadata": {},
   "source": [
    "# data processing"
   ]
  },
  {
   "cell_type": "code",
   "execution_count": 2,
   "id": "5edcf742",
   "metadata": {},
   "outputs": [],
   "source": [
    "with gzip.open('glove.6B.100d.gz', 'rb') as f_in:\n",
    "    with open('glove.6B.100d', 'wb') as f_out:\n",
    "        shutil.copyfileobj(f_in, f_out)"
   ]
  },
  {
   "cell_type": "code",
   "execution_count": 3,
   "id": "ab5ddb6a",
   "metadata": {},
   "outputs": [],
   "source": [
    "def word_type(word:str):\n",
    "    if word.isdigit(): #Is a digit\n",
    "        return \"unk_num\"\n",
    "    elif word.islower(): \n",
    "        return \"unk_all_lower\"    \n",
    "    elif word.isupper(): \n",
    "        return \"unk_all_upper\"              \n",
    "    elif any(char.isdigit() for char in word):\n",
    "        return \"unk_contain_num\"    \n",
    "    else:\n",
    "        return \"unk\""
   ]
  },
  {
   "cell_type": "code",
   "execution_count": 4,
   "id": "59be6c1d",
   "metadata": {},
   "outputs": [],
   "source": [
    "def read_in_data(filename):\n",
    "    vocab = dict()\n",
    "    sentences =[] # generating original output\n",
    "    tags = set()\n",
    "    tmp_sentence = []\n",
    "    targets = []\n",
    "    tmp_target = []\n",
    "    with open(filename, \"r\") as file:\n",
    "        for line in file.readlines():\n",
    "            if len(line) > 1:\n",
    "                _, word, tag = line.strip().split(\" \")\n",
    "                if word not in vocab.keys():\n",
    "                    vocab[word] = 1\n",
    "                else:\n",
    "                    vocab[word] += 1\n",
    "                tags.add(tag)\n",
    "                tmp_sentence.append(word)\n",
    "                tmp_target.append(tag)\n",
    "            else:\n",
    "                sentences.append(tmp_sentence)\n",
    "                targets.append(tmp_target)\n",
    "                tmp_sentence = []\n",
    "                tmp_target = []\n",
    "        if len(tmp_sentence)>0:\n",
    "            sentences.append(tmp_sentence)\n",
    "            targets.append(tmp_target)\n",
    "    return vocab, sentences, tags, targets\n",
    "\n",
    "def remove_low_frequency_word(vocab, occurences):\n",
    "    candidates = set()\n",
    "    for word in vocab.keys():\n",
    "        if vocab[word] >= occurences:\n",
    "            if any(w.isdigit() for w in word):\n",
    "                candidates.add(word_type(word))\n",
    "            else:\n",
    "                candidates.add(word)\n",
    "        else:\n",
    "            candidates.add(word_type(word))\n",
    "    return candidates\n"
   ]
  },
  {
   "cell_type": "code",
   "execution_count": 5,
   "id": "7552889e",
   "metadata": {},
   "outputs": [],
   "source": [
    "vocab_OCC, sentences, tags, targets = read_in_data(\"./data/train\")"
   ]
  },
  {
   "cell_type": "code",
   "execution_count": 6,
   "id": "2051d5bf",
   "metadata": {
    "scrolled": true
   },
   "outputs": [],
   "source": [
    "vocab = remove_low_frequency_word(vocab_OCC, occurences = 2)"
   ]
  },
  {
   "cell_type": "code",
   "execution_count": 7,
   "id": "06d25395",
   "metadata": {},
   "outputs": [],
   "source": [
    "def get_idx_vocab_tags(vocab, tags):\n",
    "    word_to_idx = {}\n",
    "    tag_to_idx = {}\n",
    "    # word_to_idx[\"unk\"] = 1\n",
    "    word_to_idx[\"PAD\"] = 0\n",
    "    start_word = 1\n",
    "    for word in vocab:\n",
    "        word_to_idx[word] = start_word\n",
    "        start_word += 1\n",
    "    start_tag = 0\n",
    "    for tag in tags:\n",
    "        tag_to_idx[tag] = start_tag\n",
    "        start_tag += 1\n",
    "    return word_to_idx, tag_to_idx"
   ]
  },
  {
   "cell_type": "code",
   "execution_count": 8,
   "id": "78aaa642",
   "metadata": {},
   "outputs": [],
   "source": [
    "word_to_idx, tag_to_idx = get_idx_vocab_tags(vocab, tags)"
   ]
  },
  {
   "cell_type": "code",
   "execution_count": 9,
   "id": "ba6de3af",
   "metadata": {},
   "outputs": [
    {
     "data": {
      "text/plain": [
       "10732"
      ]
     },
     "execution_count": 9,
     "metadata": {},
     "output_type": "execute_result"
    }
   ],
   "source": [
    "len(word_to_idx)"
   ]
  },
  {
   "cell_type": "code",
   "execution_count": 10,
   "id": "bfe3f7ae",
   "metadata": {},
   "outputs": [
    {
     "name": "stdout",
     "output_type": "stream",
     "text": [
      "{'PAD': 0, 'boosted': 1, 'previous': 2, 'unnamed': 3, 'estimated': 4, 'Skopje': 5, 'Fernando': 6, 'Pudvah': 7, 'Wickman': 8, 'Antwerp': 9, 'velodrome': 10, 'Niugini': 11, 'totalled': 12, 'vicious': 13, 'dissidents': 14, 'PRECIOUS': 15, 'complaining': 16, 'Rockies': 17, 'lingers': 18, 'easier': 19, 'Unsecured': 20, 'ABIDJAN': 21, 'Dick': 22, 'fill': 23, 'Yingkou': 24, 'Sukarnoputri': 25, 'Refined': 26, 'century': 27, 'cease': 28, 'troubled': 29, 'balloting': 30, 'Olaf': 31, 'carries': 32, 'Petr': 33, 'Roger': 34, 'STRAIGHT': 35, 'officials': 36, 'swings': 37, 'Eksportfinans': 38, 'complaints': 39, 'Congressman': 40, 'tool': 41, 'valuing': 42, 'failed': 43, 'Conservative': 44, 'objective': 45, 'bowled': 46, 'understand': 47, 'repeatedly': 48, 'defensive': 49, 'rebellion': 50, 'Rad': 51, 'past': 52, 'Mustapha': 53, 'fund': 54, 'Andria': 55, 'generated': 56, 'pilot': 57, 'GETS': 58, 'regime': 59, 'topple': 60, 'K': 61, 'immediate': 62, 'association': 63, 'McGrath': 64, 'Cologne': 65, 'TUE': 66, 'Human': 67, 'Archbishop': 68, 'Maynard': 69, 'LEAGUE': 70, 'historic': 71, 'concerns': 72, 'Only': 73, 'Cox': 74, 'Nations': 75, 'presence': 76, 'rate': 77, 'Three': 78, 'Miller': 79, 'Luciano': 80, 'Edouard': 81, 'Majesty': 82, 'Industrial': 83, 'dwt': 84, 'CAREER': 85, 'situations': 86, 'KUALA': 87, 'say': 88, 'Society': 89, 'alliance': 90, 'aggregate': 91, 'achievement': 92, 'escorted': 93, 'soldiers': 94, 'clearly': 95, 'Corretja': 96, 'barter': 97, 'comparison': 98, 'find': 99, 'quest': 100, 'Scoreboard': 101, '-': 102, 'helicopters': 103, 'men': 104, 'Nevertheless': 105, 'launching': 106, 'Ferrigato': 107, 'Kongsvinger': 108, 'spongiform': 109, 'sic': 110, 'cancel': 111, 'Semifinals': 112, 'SPRINT': 113, 'Georgiopoulos': 114, 'Channel': 115, 'Bordeaux': 116, 'Berri': 117, 'container': 118, 'finishing': 119, 'agree': 120, 'Doctors': 121, 'I.': 122, 'arrangements': 123, 'Credit': 124, 'soldier': 125, 'KOREAN': 126, 'regarded': 127, 'ministry': 128, 'DIARIO': 129, 'Tanzania': 130, 'Sewa': 131, 'Li': 132, 'Susan': 133, 'Col': 134, 'Rica': 135, 'names': 136, 'serious': 137, 'Malaysia': 138, 'material': 139, 'anniversary': 140, 'sleep': 141, 'Cukaricki': 142, 'overall': 143, 'Luke': 144, 'temperatures': 145, 'candidates': 146, 'Equitas': 147, 'militants': 148, 'diplomats': 149, 'Joakim': 150, 'measure': 151, 'Interpol': 152, 'KNU': 153, 'consumption': 154, 'changes': 155, 'started': 156, 'soyoil': 157, 'holders': 158, 'anything': 159, 'Ujpest': 160, 'Baeron': 161, 'Gallagher': 162, 'Ingrid': 163, 'expenditures': 164, 'EASTERN': 165, 'Bogota': 166, 'Mirren': 167, 'COLORADO': 168, 'protein': 169, 'Anders': 170, 'scenes': 171, 'Parent': 172, 'div': 173, 'della': 174, 'confronted': 175, 'dipped': 176, 'Hermawan': 177, 'decided': 178, 'testify': 179, 'Lebanon': 180, 'difficulty': 181, 'salary': 182, 'SHORT': 183, 'frequent': 184, 'Sint': 185, 'Coal': 186, 'leave': 187, 'indices': 188, 'Zimbabwe': 189, 'Rohrabacher': 190, 'IFK': 191, 'Davidson': 192, 'sadistic': 193, 'OFF': 194, 'deported': 195, 'boycott': 196, 'Ieng': 197, 'Friday': 198, \"O'Meara\": 199, \"O'Leary\": 200, 'comics': 201, 'regulate': 202, 'Monetary': 203, 'Kwasniewski': 204, 'Terry': 205, 'Zhang': 206, 'Shrewsbury': 207, 'Zaglebie': 208, 'bounce': 209, 'Atagi': 210, 'with': 211, 'eyes': 212, 'ease': 213, 'intercepted': 214, 'PAY': 215, 'fighting': 216, 'mothers': 217, 'Paribas': 218, 'Ukraine': 219, 'shared': 220, 'idea': 221, 'EDT': 222, 'slaughtered': 223, 'pressing': 224, 'soft': 225, 'Hans': 226, 'won': 227, 'blast': 228, 'relief': 229, 'Ebe': 230, 'FRN': 231, 'Information': 232, 'interrogated': 233, 'Swardt': 234, 'waters': 235, 'yield': 236, 'DIES': 237, 'visit': 238, 'Roe': 239, 'schools': 240, 'LKS': 241, 'batter': 242, 'Dragomir': 243, 'massacre': 244, 'Broadcasting': 245, 'quartet': 246, 'underground': 247, 'Mujtaba': 248, 'sources': 249, 'access': 250, 'FBI': 251, 'fled': 252, 'belonging': 253, 'money': 254, 'Inc.': 255, 'active': 256, 'Randall': 257, 'PM': 258, 'goalless': 259, 'speak': 260, 'cost': 261, 'consolidation': 262, 'marked': 263, 'third-set': 264, 'direction': 265, 'relationship': 266, 'Name': 267, 'Panis': 268, 'Suvit': 269, 'treating': 270, 'Huizinga': 271, 'wartime': 272, 'INDIA': 273, 'Gibbs': 274, 'enough': 275, 'climbed': 276, 'Chonnam': 277, 'Tavarez': 278, 'McRae': 279, 'agreement': 280, 'Randriantefy': 281, 'Tom': 282, 'training': 283, 'unwinding': 284, 'Arabs': 285, 'beating': 286, 'Resalat': 287, 'January': 288, 'victim': 289, 'sponsors': 290, 'anti-drug': 291, 'any': 292, 'Great': 293, 'heard': 294, 'Test': 295, 'overnight': 296, 'dried': 297, 'fields': 298, 'focusing': 299, 'Export': 300, 'Caribs': 301, 'granted': 302, 'Airdrieonians': 303, 'Lancien': 304, 'CONAKRY': 305, 'perfect': 306, 'schedule': 307, 'First': 308, 'INA': 309, 'Championship': 310, 'real': 311, 'Colo': 312, 'Ruehe': 313, 'distance': 314, 'hearing': 315, 'Willie': 316, 'library': 317, 'novelist': 318, 'extraction': 319, 'urgent': 320, 'workforce': 321, 'interviews': 322, 'Celtic': 323, 'Superman': 324, 'irreplaceable': 325, 'launches': 326, 'Basic': 327, 'SEP': 328, 'MIAMI': 329, 'placing': 330, 'acquire': 331, 'Jet': 332, 'rivers': 333, 'becomes': 334, 'Patrick': 335, 'yourself': 336, 'Abidjan': 337, 'fifth-inning': 338, 'Gencor': 339, 'disagreed': 340, 'Brasov': 341, 'ACTUAL': 342, 'approached': 343, 'died': 344, 'Bangkok': 345, 'confirm': 346, 'IMED': 347, 'chief': 348, 'Ed': 349, 'homes': 350, 'Wessels': 351, 'two': 352, 'Dumbarton': 353, 'afternoon': 354, 'Major': 355, 'commanding': 356, 'stationery': 357, 'resistance': 358, 'Wrexham': 359, 'Tracy': 360, 'technologies': 361, 'marched': 362, 'era': 363, 'dispute': 364, 'ANGOLA': 365, 'H.': 366, 'Monaco': 367, 'Caen': 368, 'Sheikh': 369, 'welcomed': 370, 'showdown': 371, 'Brugge': 372, 'Dominic': 373, 'Newt': 374, 'fourth-seeded': 375, 'consumers': 376, 'want': 377, 'argue': 378, 'discharge': 379, 'blames': 380, 'easily': 381, 'Sary': 382, 'Liechtenstein': 383, 'blow': 384, 'bus': 385, 'Kleiner': 386, 'Ivorian': 387, 'non-trade': 388, 'SCOREBOARD': 389, 'LOT': 390, 'silence': 391, 'doubted': 392, 'Chandra': 393, 'earthquake': 394, 'motocross': 395, 'Osborne': 396, 'Brenda': 397, 'peso': 398, 'Helibor': 399, 'Dahman': 400, 'pays': 401, 'championship': 402, 'inspectors': 403, 'weakens': 404, 'Thiel': 405, 'pleas': 406, 'Trent': 407, 'DETROIT': 408, 'Kosice': 409, 'country': 410, 'cover': 411, 'language': 412, 'meal': 413, 'figures': 414, 'deserves': 415, 'gunmen': 416, 'Xavier': 417, 'declares': 418, 'Palace': 419, 'heavily': 420, 'wider': 421, 'Ssangbangwool': 422, 'Rwanda': 423, 'tree': 424, 'Bugno': 425, 'WED': 426, 'GENOA': 427, 'notice': 428, 'briefing': 429, 'Jun': 430, 'militant': 431, 'unc': 432, 'Schultz-McCarthy': 433, 'Overseas': 434, 'Security': 435, 'Ulihrach': 436, 'nominated': 437, 'German': 438, 'immune': 439, 'Newspapers': 440, 'Moroccan': 441, 'Kingston': 442, 'oust': 443, 'No': 444, 'organised': 445, 'Bench': 446, 'ATLANTIC': 447, 'Flavin': 448, 'deaths': 449, 'Grozny': 450, 'trip': 451, 'Fowler': 452, 'Shares': 453, 'Aronkasei': 454, 'Corrects': 455, 'month-end': 456, 'Corser': 457, 'recovering': 458, 'halted': 459, 'city': 460, 'Consultancy': 461, 'Oliveira': 462, 'arch-rivals': 463, 'LATEST': 464, 'FIRST': 465, 'Jalal': 466, 'elaborate': 467, 'cooperate': 468, 'Lahore': 469, 'Names': 470, 'Walton': 471, 'OR': 472, 'expressed': 473, 'Gabon': 474, 'tankan': 475, 'target': 476, 'Baltimore': 477, 'Saskatchewan': 478, 'Phil': 479, 'Feldhoff': 480, 'pregnant': 481, 'p.m.': 482, 'perpetrators': 483, 'wet': 484, 'march': 485, 'Brigita': 486, 'Ek': 487, 'upset': 488, 'round-trip': 489, 'Kabariti': 490, 'HAMLET': 491, 'increased': 492, 'Kremlin': 493, 'sad': 494, 'Tutsi': 495, 'STRIKE': 496, 'scorer': 497, 'taka': 498, 'importers': 499, 'Pay': 500, 'Suedwest': 501, 'fixed': 502, 'grain': 503, 'Meligeni': 504, 'Sergi': 505, 'push': 506, 'FRIDAY': 507, 'orthodox': 508, 'including': 509, 'colonial': 510, 'unarmed': 511, 'CME': 512, 'Claus': 513, 'unions': 514, 'MALAYSIAN': 515, 'Stockport': 516, 'Rapid': 517, 'Atherton': 518, 'time': 519, 'but': 520, 'Salah': 521, 'About': 522, 'precedence': 523, 'fall': 524, 'abducted': 525, 'Interbank': 526, 'advance': 527, 'lost': 528, 'Vairelles': 529, 'move': 530, 'umbrella': 531, 'conviction': 532, 'five-hitter': 533, 'Sally': 534, 'strongest': 535, 'Michel': 536, 'tanks': 537, 'Westlake': 538, 'mountains': 539, 'Blackpool': 540, 'feet': 541, 'Juan': 542, 'costly': 543, 'smiling': 544, 'patrol': 545, 'buys': 546, 'Carretero': 547, 'raged': 548, 'OF': 549, 'Dublin': 550, 'value': 551, 'per': 552, 'Mia': 553, 'Sidhu': 554, 'unauthorised': 555, 'asked': 556, 'users': 557, 'separatists': 558, 'unprecedented': 559, 'Pa': 560, 'litigation': 561, 'occupation': 562, 'sitting': 563, 'predictions': 564, 'stubborn': 565, 'building': 566, 'nomination': 567, 'six-run': 568, 'Michele': 569, 'anybody': 570, 'Canada': 571, 'decade': 572, 'newsdesk': 573, 'cutting': 574, 'Bedouin': 575, 'Many': 576, 'Thursday': 577, 'jewelry': 578, 'breathing': 579, 'This': 580, 'accumulated': 581, 'He': 582, 'Still': 583, 'Doncaster': 584, 'significant': 585, 'Banharn': 586, 'pitches': 587, 'Instead': 588, 'Research': 589, 'Takuma': 590, 'Sauber': 591, 'birthday': 592, 'balls': 593, 'will': 594, 'balance': 595, 'LAGOS': 596, 'Fund': 597, 'cycling': 598, 'fertiliser': 599, 'rose': 600, 'much-delayed': 601, 'Newsroom': 602, 'ASIA': 603, 'bruises': 604, 'TWA': 605, 'Ronaldo': 606, 'separatist': 607, 'Juniors': 608, 'attack': 609, 'think': 610, 'aged': 611, 'homeland': 612, 'Looking': 613, 'Westner': 614, 'en': 615, 'islands': 616, 'tentative': 617, 'Ethiopia': 618, 'Stakes': 619, 'kept': 620, 'guys': 621, 'prefix': 622, 'HOCKEY': 623, 'Diplomats': 624, 'stomach': 625, 'Jiangling': 626, 'unsure': 627, 'Tuesday': 628, 'Arulanandam': 629, 'Strait': 630, 'Woodruff': 631, 'Road': 632, 'spent': 633, 'bound': 634, 'lbs': 635, 'apiece': 636, 'Nicole': 637, 'customers': 638, 'stiff': 639, 'PMC-Sierra': 640, 'confident': 641, 'Gabrich': 642, 'Cincinnati': 643, 'Jakarta': 644, 'device': 645, 'Benazir': 646, 'vols': 647, 'Convention': 648, 'old': 649, 'Weston-super-Mare': 650, 'escaped': 651, 'Ecuador': 652, 'three-stroke': 653, 'AIDS': 654, 'Kerametal': 655, 'performances': 656, 'OAKLAND': 657, 'Rouge': 658, 'villages': 659, 'Bratislava': 660, 'May': 661, 'Costis': 662, 'combined': 663, 'Baath': 664, 'Paul': 665, 'Rangers': 666, 'tonne': 667, 'Ferris': 668, 'grow': 669, 'Cesena': 670, 'belief': 671, 'five': 672, 'ACC': 673, 'inside': 674, 'bankruptcy': 675, 'fresh': 676, 'Mayock': 677, 'gathered': 678, 'Plzen': 679, 'Florida': 680, 'essential': 681, 'Rovers': 682, 'Asanka': 683, 'RESIGNS': 684, 'Zicot': 685, 'client': 686, 'Kurt': 687, 'Motherwell': 688, 'rebels': 689, 'Luehrs': 690, 'Mideast': 691, 'QUALIFIER': 692, 'concluding': 693, 'Plains': 694, 'Grobbelaar': 695, 'Namibian': 696, 'file': 697, 'stand': 698, 'become': 699, 'Zadar': 700, 'Novgorod': 701, 'wave': 702, 'Takemura': 703, 'Toure': 704, 'Rameswaram': 705, 'confirmation': 706, 'friendly': 707, 'Kantharoopan': 708, 'regard': 709, 'Jiang': 710, 'restrictions': 711, 'representatives': 712, 'Tillekeratne': 713, 'feeder': 714, 'fielder': 715, 'profit-taking': 716, 'Vojvodina': 717, 'three-month': 718, 'international': 719, 'arable': 720, 'concrete': 721, 'yard': 722, 'Boston': 723, 'Artmedia': 724, 'improve': 725, 'housing': 726, 'negotiator': 727, 'Oliver': 728, 'consolation': 729, 'football': 730, 'fractionally': 731, 'approaching': 732, 'washed': 733, 'Estates': 734, 'Iceland': 735, 'Betaseron': 736, 'Mark': 737, 'Treasuries': 738, 'meningitis': 739, 'Arthur': 740, 'BANGKOK': 741, 'unchanged': 742, 'a.m.': 743, 'Inverness': 744, 'At': 745, 'East': 746, 'Sui': 747, 'talking': 748, 'happy': 749, 'adoptive': 750, 'post': 751, 'Diana': 752, 'Orvieto': 753, 'widow': 754, 'branded': 755, 'spend': 756, 'Dejan': 757, 'Raymond': 758, 'question': 759, 'books': 760, 'parts': 761, 'definitely': 762, 'Ferencvaros': 763, 'Transport': 764, 'Slovenia': 765, 'steadily': 766, 'fishermen': 767, 'overturned': 768, 'Kucan': 769, 'Sakigake': 770, 'cargo': 771, 'Brundle': 772, 'Ross': 773, 'Jane': 774, 'issue': 775, 'drachma': 776, 'district': 777, 'BUCHAREST': 778, 'METALS': 779, 'Espinho': 780, 'night': 781, 'Shimaponda': 782, 'Srinath': 783, 'circle': 784, 'Renzo': 785, 'medals': 786, 'unpaid': 787, 'Ozers': 788, 'BOJ': 789, 'Housecall': 790, 'relegated': 791, 'guide': 792, 'Grain': 793, 'COLOMBO': 794, 'Kashmir': 795, 'Nitra': 796, 'beat': 797, 'There': 798, 'cords': 799, 'Saint': 800, 'elephant': 801, 'identities': 802, 'municipality': 803, 'Linz': 804, 'Glen': 805, 'financial': 806, 'Azerbaijan': 807, 'PT': 808, 'Patricia': 809, 'Leyton': 810, 'WHEAT': 811, 'Beograd': 812, 'Steaua': 813, 'rural': 814, 'tries': 815, 'rallying': 816, 'indicating': 817, 'Austrian': 818, 'propaganda': 819, 'Auckland': 820, 'partially': 821, 'Radulescu': 822, 'Partizan': 823, 'welcoming': 824, 'expects': 825, 'fan': 826, 'Colombia': 827, 'passenger': 828, 'Itar-Tass': 829, 'boards': 830, 'endorsed': 831, 'Gulbuddin': 832, 'follow': 833, 'constant': 834, 'possibly': 835, 'Qualifier': 836, 'Gloria': 837, 'lunch': 838, 'handing': 839, 'gains': 840, 'suspicion': 841, 'venue': 842, 'Jacek': 843, 'industrial': 844, 'resident': 845, 'Sullivan': 846, 'lack': 847, 'Mineiro': 848, 'Laca': 849, 'CHRISTIE': 850, 'digital': 851, 'Marshall': 852, 'patrolled': 853, 'investigations': 854, 'storage': 855, 'Himalayan': 856, 'Hawksworth': 857, 'Kent': 858, 'fighter': 859, 'father': 860, 'your': 861, 'Mexican': 862, 'grammes': 863, 'hampered': 864, 'It': 865, 'Henman': 866, 'Stanley': 867, 'PEC': 868, 'Viktor': 869, 'Freeman': 870, 'very': 871, 'Highs': 872, 'questioned': 873, 'Madrid': 874, 'SC': 875, 'unlisted': 876, 'justified': 877, 'AGENT': 878, 'MQM': 879, 'strike': 880, 'V.': 881, 'himself': 882, 'join': 883, 'shows': 884, 'cast': 885, 'Olazabal': 886, 'reward': 887, 'AMT': 888, 'Alberta': 889, 'noble': 890, 'taxi': 891, 'registering': 892, 'discussions': 893, 'send': 894, 'ECOMOG': 895, 'affecting': 896, 'post-Soviet': 897, 'Rashid': 898, 'Australian': 899, 'five-run': 900, 'calf': 901, 'Administration': 902, 'Flushing': 903, 'supporting': 904, 'Pivotal': 905, 'Ipswich': 906, 'Dekker': 907, 'Antioquia': 908, 'widened': 909, 'plantation': 910, 'enthusiasm': 911, 'shareholder': 912, 'good': 913, 'Francisco': 914, 'definitive': 915, 'industries': 916, 'congressional': 917, 'Costantino': 918, 'distributing': 919, 'Rabinovich': 920, 'Kansas': 921, 'LUMPUR': 922, 'two-time': 923, 'operates': 924, 'Horvath': 925, 'Iranian': 926, 'registration': 927, 'blaze': 928, 'head': 929, 'Pires': 930, 'clothes': 931, 'demolition': 932, 'Data': 933, 'Jamie': 934, 'Wild': 935, 'motorist': 936, 'Dahshour': 937, 'Archives': 938, 'solidify': 939, 'break': 940, 'students': 941, 'Carnival': 942, 'Pushpakumara': 943, 'Bernd': 944, 'damaged': 945, 'BISTRITA': 946, 'surge': 947, 'U.K.': 948, 'Statistics': 949, 'blanked': 950, 'desk': 951, 'listed': 952, 'pride': 953, 'golf': 954, 'rhythm': 955, 'increasing': 956, 'champions': 957, 'JAKARTA': 958, 'borrowing': 959, 'Angolan': 960, 'others': 961, 'discus': 962, 'by': 963, 'owed': 964, 'assure': 965, 'cleric': 966, 'RE': 967, 'Kilda': 968, 'MANILA': 969, 'bpd': 970, 'Committee': 971, 'Hock': 972, 'Gloucestershire': 973, 'shops': 974, 'Sainz': 975, 'Carlton': 976, 're-examine': 977, 'bribes': 978, 'ride': 979, 'seeding': 980, 'Sion': 981, 'criticism': 982, 'VfL': 983, 'compassion': 984, 'own': 985, 'speed': 986, 'cleansing': 987, 'day-night': 988, 'WELLINGTON': 989, 'growth': 990, 'crown': 991, 'ROVERETO': 992, 'dry': 993, 'Spanish': 994, 'marathon': 995, 'Novotna': 996, 'Farul': 997, 'eve': 998, 'EPS': 999, 'smaller': 1000, 'close': 1001, 'College': 1002, 'economists': 1003, 'productive': 1004, 'California': 1005, 'capture': 1006, 'inspections': 1007, 'crippled': 1008, 'data': 1009, 'my': 1010, 'Unlike': 1011, 'Sierd': 1012, 'stranded': 1013, 'asleep': 1014, 'voter': 1015, 'outspoken': 1016, 'criticised': 1017, 'rest': 1018, 'declared': 1019, 'Pines': 1020, 'Ames': 1021, 'promoting': 1022, 'disease': 1023, 'Eindhoven': 1024, 'view': 1025, 'warring': 1026, 'Bondholders': 1027, 'commitments': 1028, 'Seychelles': 1029, 'OTTAWA': 1030, 'The': 1031, 'veteran': 1032, 'Last': 1033, 'Along': 1034, 'spring': 1035, 'observed': 1036, 'study': 1037, 'rebound': 1038, 'appreciate': 1039, 'Lopez': 1040, 'nationalists': 1041, 'same': 1042, 'barrel': 1043, 'Belgium': 1044, 'deep': 1045, 'aides': 1046, 'funds': 1047, 'bowling': 1048, 'AB': 1049, 'Vasco': 1050, 'strategy': 1051, 'mental': 1052, 'Path': 1053, 'handling': 1054, 'Chamorro': 1055, 'fought': 1056, 'doubling': 1057, 'Africa': 1058, 'sentence': 1059, 'critics': 1060, 'annual': 1061, 'Pool': 1062, 'unq': 1063, 'blood': 1064, 'trying': 1065, 'divorce': 1066, 'Taipei': 1067, 'bids': 1068, 'Helmut': 1069, 'defender': 1070, 'parrots': 1071, 'elite': 1072, 'unhurt': 1073, 'MSK': 1074, 'forced': 1075, 'Jimenez': 1076, 'Rubin': 1077, 'tight': 1078, 'note': 1079, 'Kathy': 1080, 'sentenced': 1081, 'dated': 1082, 'Yi': 1083, 'Refugees': 1084, 'Kristina': 1085, 'parted': 1086, 'Toluca': 1087, 'TOKYO': 1088, 'places': 1089, 'Haga': 1090, 'moved': 1091, 'providing': 1092, 'Klinsmann': 1093, 'Spring': 1094, 'stance': 1095, 'soil': 1096, 'Missionaries': 1097, 'Sean': 1098, 'balances': 1099, 'bln': 1100, 'Wong': 1101, 'VAN': 1102, 'stalled': 1103, 'establishment': 1104, 'possibility': 1105, 'reconciliation': 1106, 'Advanced': 1107, 'Sachs': 1108, 'Germany': 1109, 'specialist': 1110, 'primarily': 1111, 'spiritual': 1112, 'Bulldogs': 1113, 'Start': 1114, 'composer': 1115, 'Devers': 1116, 'Woodbridge': 1117, 'speaking': 1118, 'dependent': 1119, 'charges': 1120, 'motion': 1121, 'Sons': 1122, 'prison': 1123, 'Bosnian': 1124, 'Portsmouth': 1125, 'voted': 1126, 'double': 1127, 'tabulate': 1128, 'Zirka-Nibas': 1129, '*': 1130, 'triple': 1131, 'exploded': 1132, 'sporadic': 1133, 'absence': 1134, 'Millwall': 1135, 'even': 1136, 'immigration': 1137, 'Bacau': 1138, 'Botha': 1139, 'let': 1140, 'Socialist': 1141, 'Tortelli': 1142, 'consulate': 1143, 'Ternopil': 1144, 'Bernard': 1145, 'Washington': 1146, 'Investment': 1147, 'Palestinian': 1148, 'dismissed': 1149, 'pronounced': 1150, 'modest': 1151, 'auction': 1152, 'concealed': 1153, 'Stadium': 1154, 'nations': 1155, 'leads': 1156, 'notionally': 1157, 'report': 1158, 'Asian': 1159, 'track': 1160, 'respectively': 1161, 'volatility': 1162, 'premier': 1163, 'fire': 1164, 'Freund': 1165, 'Candy': 1166, 'Prinosil': 1167, 'ZIMBABWE': 1168, 'walking': 1169, 'WEATHER': 1170, 'Near': 1171, 'ears': 1172, 'hectares': 1173, 'Cardoso': 1174, 'Mohamed': 1175, 'legitimate': 1176, 'on': 1177, 'non-traditional': 1178, 'recognition': 1179, 'securities': 1180, 'sharp': 1181, 'measures': 1182, 'Ryo': 1183, 'She': 1184, 'CUP': 1185, 'Cremonese': 1186, 'Commission': 1187, 'northwestern': 1188, 'circumstances': 1189, 'Bahamas': 1190, 'Mapourdit': 1191, 'P.W.': 1192, 'Ai': 1193, 'venture': 1194, 'Abdul': 1195, 'Institute': 1196, 'Couples': 1197, 'Onyali': 1198, 'Kucera': 1199, 'Graafschap': 1200, 'trampled': 1201, 'Haarlem': 1202, 'comeback': 1203, 'Warsaw': 1204, 'routing': 1205, 'Microsoft': 1206, 'KDPI': 1207, 'invading': 1208, 'across': 1209, 'slight': 1210, 'illegally': 1211, 'supporters': 1212, 'answer': 1213, 'Dimitrios': 1214, 'Warner': 1215, 'Yedioth': 1216, 'garlic': 1217, 'Motorola': 1218, 'Hutu': 1219, 'CO': 1220, 'examined': 1221, 'Thon': 1222, 'Serb': 1223, 'Mamiit': 1224, 'businesses': 1225, 'ailing': 1226, 'weapon': 1227, 'flying': 1228, 'Monde': 1229, 'tens': 1230, 'gold': 1231, 'missiles': 1232, 'films': 1233, 'cross-border': 1234, 'vault': 1235, 'banned': 1236, 'eventual': 1237, 'Skandalidis': 1238, 'downwards': 1239, 'interviewed': 1240, 'Wood': 1241, 'monitors': 1242, 'Sep': 1243, 'Prescott': 1244, 'citing': 1245, 'Rwandan': 1246, 'ROUND': 1247, 'Pantic': 1248, 'Fusai': 1249, 'Gluten': 1250, 'eight-year-old': 1251, 'Delivery': 1252, 'if': 1253, 'knowledge': 1254, 'Volkov': 1255, 'Lada': 1256, 'Moin': 1257, 'Albanians': 1258, 'black': 1259, 'Goias': 1260, 'Mapei': 1261, 'ZTE': 1262, 'flown': 1263, 'exploration': 1264, 'silver': 1265, 'Hebron': 1266, 'dragged': 1267, 'Byron': 1268, 'jail': 1269, 'full-year': 1270, 'taking': 1271, 'KIEV': 1272, 'action': 1273, 'You': 1274, 'Ended': 1275, 'Serbian': 1276, 'sport': 1277, 'numerous': 1278, 'Kijimuta': 1279, 'Cup': 1280, 'resulting': 1281, 'interbank': 1282, 'accusing': 1283, 'Felicia': 1284, 'With': 1285, 'multiple': 1286, 'rejected': 1287, 'Islam': 1288, 'Simon': 1289, 'Pat': 1290, 'Southland': 1291, 'Overall': 1292, 'Up': 1293, 'Helsinki': 1294, 'top-ranked': 1295, 'Dariusz': 1296, 'quickly': 1297, 'Ekeren': 1298, 'Don': 1299, 'Love': 1300, 'precautions': 1301, 'High': 1302, 'began': 1303, 'Camerlengo': 1304, 'Langrova': 1305, 'CRP': 1306, 'Cowdenbeath': 1307, 'mountain': 1308, 'sometimes': 1309, 'Dnevi': 1310, 'convincing': 1311, 'vast': 1312, 'defenders': 1313, 'Sky': 1314, 'CALIFORNIA': 1315, 'calendar': 1316, 'milk': 1317, 'Mechelen': 1318, 'Rosati': 1319, 'Benin': 1320, 'Lejeune': 1321, 'process': 1322, 'CLASSIC': 1323, 'measles': 1324, 'pre-season': 1325, 'Swansea': 1326, 'elements': 1327, 'contesting': 1328, 'foil': 1329, 'Weaver': 1330, 'Hakkinen': 1331, 'Promodes': 1332, 'youthful': 1333, 'academics': 1334, 'Bristol': 1335, 'unemployed': 1336, 'Jerusalem': 1337, 'Ministry': 1338, 'Cecil': 1339, 'fixing': 1340, 'Markus': 1341, 'male': 1342, 'AMMAN': 1343, 'squads': 1344, 'PHILIPPINE': 1345, 'trends': 1346, 'risk': 1347, 'signing': 1348, 'subscribers': 1349, 'batons': 1350, 'Alpha': 1351, 'Krakow': 1352, 'Craiova': 1353, 'Between': 1354, 'Auxerre': 1355, 'DKBA': 1356, 'Alkmaar': 1357, 'positions': 1358, 'evasion': 1359, 'reach': 1360, 'falls': 1361, 'constitution': 1362, 'necessarily': 1363, 'estimate': 1364, 'suffer': 1365, 'civilian': 1366, 'Tatyana': 1367, 'Primedia': 1368, 'Seoul': 1369, 'Nasr': 1370, 'light': 1371, 'Insurance': 1372, 'department': 1373, 'A.': 1374, 'Marion': 1375, 'Motors': 1376, 'Vice': 1377, 'dogs': 1378, 'Dos': 1379, 'standard': 1380, 'CHAMPIONSHIP': 1381, 'Defence': 1382, 'Peat': 1383, 'involvement': 1384, 'equal': 1385, 'seize': 1386, 'STATEMENT': 1387, 'Zaman': 1388, 'medicine': 1389, 'barrels': 1390, 'Justice': 1391, 'Hiddink': 1392, 'quiet': 1393, 'Jesus': 1394, 'brokers': 1395, 'Saint-Germain': 1396, 'manufacture': 1397, 'volunteers': 1398, 'F': 1399, 'Formula': 1400, 'occupy': 1401, 'Syrian': 1402, 'cut': 1403, 'MAKINEN': 1404, 'Malu': 1405, 'PULPEX': 1406, 'photograph': 1407, 'vehicles': 1408, 'Newark': 1409, 'REUTER': 1410, 'Real': 1411, 'making': 1412, 'belongs': 1413, 'Raphael': 1414, 'Mariano': 1415, 'lawsuits': 1416, 'Brisbane': 1417, 'actively': 1418, 'Kafelnikov': 1419, 'settlers': 1420, 'copy': 1421, 'Spain': 1422, 'confusing': 1423, 'normal': 1424, 'panel': 1425, 'Bak': 1426, 'diverted': 1427, 'Pescara': 1428, 'condition': 1429, 'MAJOR': 1430, 'Mexico': 1431, 'illegal': 1432, 'Baldato': 1433, 'Twente': 1434, 'wish': 1435, 'Bukovec': 1436, 'not': 1437, 'Exchange': 1438, 'instantly': 1439, 'subsidies': 1440, 'Lausanne': 1441, 'acceptance': 1442, 'Revolutionary': 1443, 'function': 1444, 'full': 1445, 'Lane': 1446, 'speeding': 1447, 'ample': 1448, 'Matt': 1449, 'Goldman': 1450, 'Tibetan': 1451, 'Zaporizhya': 1452, 'dissolve': 1453, 'rally': 1454, 'Faber': 1455, 'law': 1456, 'directors': 1457, 'Jonathon': 1458, 'able': 1459, 'round': 1460, 'Yasushi': 1461, 'birds': 1462, 'forward': 1463, 'tourism': 1464, 'nine': 1465, 'empire': 1466, 'Zilina': 1467, 'Timisoara': 1468, 'Sabatini': 1469, 'restored': 1470, 'neighbouring': 1471, 'tap': 1472, 'senior': 1473, 'Tonga': 1474, 'Serbia': 1475, 'nervousness': 1476, 'PRIX': 1477, 'LB': 1478, 'Patriotic': 1479, 'Habibullah': 1480, 'Sheu': 1481, 'stepping': 1482, 'Sergei': 1483, 'Liberal': 1484, 'A.G.': 1485, 'Note': 1486, 'sensitive': 1487, 'INDICATORS': 1488, 'Pioline': 1489, 'jointly': 1490, 'RECORD': 1491, 'prostitute': 1492, 'Tyrrell': 1493, 'battered': 1494, 'Fastest': 1495, 'thermal': 1496, 'produce': 1497, 'Lauck': 1498, 'Honda': 1499, 'acknowledged': 1500, 'Wijaya': 1501, 'R': 1502, 'Wouden': 1503, 'indicates': 1504, 'Sittard': 1505, 'combination': 1506, 'Tarango': 1507, 'Deby': 1508, 'Jason': 1509, 'elaborating': 1510, 'points': 1511, 'shocked': 1512, 'foot': 1513, 'Hueite': 1514, 'leading': 1515, 'DAYS': 1516, 'visiting': 1517, 'feeling': 1518, 'Jeffrey': 1519, 'losing': 1520, 'Klongprem': 1521, 'published': 1522, 'AUSTRALIA': 1523, 'seeded': 1524, 'Kevin': 1525, 'Wolverhampton': 1526, 'Zwingmann': 1527, 'census': 1528, 'object': 1529, 'village': 1530, 'closed': 1531, 'Theybers': 1532, 'Carlsson': 1533, 'SIMEX': 1534, '/': 1535, 'staying': 1536, 'burden': 1537, 'showers': 1538, 'Hernan': 1539, 'WW': 1540, 'DIAS': 1541, 'Aynaoui': 1542, 'no-confidence': 1543, 'Alejandro': 1544, 'Karim': 1545, 'POLICE': 1546, 'Bistrita': 1547, 'desperate': 1548, 'Book': 1549, 'changed': 1550, 'I': 1551, 'draft': 1552, 'scientist': 1553, 'pedestrian': 1554, 'withering': 1555, 'asks': 1556, 'Heinrich': 1557, 'Avonex': 1558, 'element': 1559, 'Campana': 1560, 'basement': 1561, 'had': 1562, 'raised': 1563, 'Nov.': 1564, 'bacteria': 1565, 'O': 1566, 'MONDAY': 1567, 'Law': 1568, 'pre-abnormals': 1569, 'Dhaka': 1570, 'territory': 1571, 'Sam': 1572, 'Neuchatel': 1573, 'care': 1574, 'match': 1575, 'Sven': 1576, 'Egyptian': 1577, 'votes': 1578, 'Matagalpa': 1579, 'electricity': 1580, 'our': 1581, 'STUTTGART': 1582, 'Acre': 1583, 'Monrovia': 1584, 'proposed': 1585, 'Yelena': 1586, 'Blue': 1587, 'miracle': 1588, 'Rep': 1589, 'why': 1590, 'Hatoyama': 1591, 'lengths': 1592, 'scheduled': 1593, 'walks': 1594, '?': 1595, 'Larnaca': 1596, 'Bonds': 1597, 'Olga': 1598, 'marriage': 1599, 'Scarborough': 1600, 'Amica': 1601, 'Lanka': 1602, 'Jakob': 1603, 'suspects': 1604, 'TOSS': 1605, 'Chernomorets': 1606, 'deposed': 1607, 'Interfax': 1608, 'vertebrae': 1609, 'Angola': 1610, 'title': 1611, 'Fine': 1612, 'Government': 1613, 'various': 1614, 'favour': 1615, 'longer': 1616, 'Italy': 1617, 'Truiden': 1618, 'Apache': 1619, 'Luton': 1620, 'Perot': 1621, 'Commander': 1622, 'autumn': 1623, 'Leading': 1624, 'inspired': 1625, 'effectively': 1626, 'steady': 1627, 'latest': 1628, 'Bay': 1629, 'arrested': 1630, 'only': 1631, 'merger': 1632, 'FOR': 1633, 'accounting': 1634, 'Adams': 1635, 'clemency': 1636, 'extrusion': 1637, 'tied': 1638, 'sales': 1639, 'media': 1640, 'STANDINGS': 1641, 'Islamist': 1642, 'Street': 1643, 'Andersson': 1644, 'collect': 1645, 'attributable': 1646, 'starting': 1647, 'intends': 1648, 'Naoko': 1649, 'Nigerian': 1650, 'makes': 1651, 'net': 1652, '&': 1653, 'Livingston': 1654, 'Tel': 1655, 'Shane': 1656, 'Wyborcza': 1657, 'brothers': 1658, 'pct': 1659, 'EC': 1660, 'imported': 1661, 'weather': 1662, 'Score': 1663, 'Widad': 1664, 'US$': 1665, 'purchase': 1666, 'USDA': 1667, 'Den': 1668, 'INTERNATIONAL': 1669, 'journalists': 1670, 'exile': 1671, 'eliminating': 1672, 'JOSE': 1673, 'contaminated': 1674, 'collision': 1675, 'asylum': 1676, 'tough': 1677, 'long-term': 1678, 'releases': 1679, 'Bonnet': 1680, 'ANNEX': 1681, 'Netherlands': 1682, 'bureau': 1683, 'Garcia': 1684, 'Gore': 1685, 'Economic': 1686, 'frost': 1687, 'DELHI': 1688, 'Essendon': 1689, 'Bangladeshi': 1690, 'premiership': 1691, 'eastern': 1692, 'cuts': 1693, 'investment': 1694, 'Olympics': 1695, 'understanding': 1696, 'Organisation': 1697, 'resort': 1698, 'Bahn': 1699, 'Gounon': 1700, 'Julie': 1701, 'instructions': 1702, 'son': 1703, 'Likud': 1704, 'industry': 1705, 'Edgar': 1706, 'Gallen': 1707, 'and': 1708, 'protesters': 1709, 'hijack': 1710, 'Airport': 1711, 'COUNCIL': 1712, 'outfit': 1713, 'Flight': 1714, 'Henri': 1715, 'car': 1716, 'sweat': 1717, 'hectare': 1718, 'declare': 1719, 'fixtures': 1720, 'after-hours': 1721, 'attempts': 1722, 'Schumacher': 1723, 'Summaries': 1724, 'Jens': 1725, 'INT': 1726, 'K.': 1727, 'affidavit': 1728, 'Corporation': 1729, 'stabbed': 1730, 'policies': 1731, 'Muslim': 1732, 'Constitutional': 1733, 'worry': 1734, 'cents': 1735, 'lung': 1736, 'Knowles': 1737, 'OFFICIAL': 1738, 'CORRECTED': 1739, 'Kombouare': 1740, 'Paola': 1741, 'ARC': 1742, 'Moslem': 1743, 'fishing': 1744, 'Lodz': 1745, 'Paes': 1746, 'mayor': 1747, 'slumber': 1748, 'suit': 1749, 'Dickson': 1750, 'selected': 1751, 'promptly': 1752, 'marred': 1753, 'PORTO': 1754, 'Pakistan-ruled': 1755, 'Mubarak': 1756, 'Harelbeke': 1757, 'Grand': 1758, 'Edison': 1759, 'Technologies': 1760, 'Shortly': 1761, 'put': 1762, 'Disney': 1763, 'group': 1764, 'riots': 1765, 'Sidot': 1766, 'advanced': 1767, 'shacks': 1768, 'Erdei': 1769, 'MATCH': 1770, 'initially': 1771, 'invalid': 1772, 'Salahuddin': 1773, 'Haitai': 1774, 'appointed': 1775, 'advised': 1776, 'praised': 1777, 'bowler': 1778, 'Orii': 1779, 'Naberezhnye': 1780, 'year-end': 1781, 'Anne-Gaelle': 1782, 'Gane': 1783, 'Burillo': 1784, 'Now': 1785, 'club': 1786, 'Welsh': 1787, 'tiny': 1788, 'intentions': 1789, 'Calcutta': 1790, 'storm': 1791, 'Borac': 1792, 'Valle': 1793, 'engines': 1794, 'dropped': 1795, 'travelling': 1796, 'toughest': 1797, 'SWISS': 1798, 'apparently': 1799, 'Mount': 1800, 'Blacks': 1801, 'typically': 1802, 'List': 1803, 'realised': 1804, 'Lapentti': 1805, 'WOMEN': 1806, 'understands': 1807, 'prepared': 1808, 'Petra': 1809, 'HK$': 1810, 'gunpoint': 1811, 'surrounding': 1812, 'ship': 1813, 'centuries': 1814, 'called': 1815, 'life': 1816, 'exactly': 1817, 'verified': 1818, 'S.AFRICAN': 1819, 'girls': 1820, 'helped': 1821, 'Liberation': 1822, 'Grossman': 1823, 'Jordan': 1824, 'Suspected': 1825, 'relive': 1826, 'Nacar': 1827, 'officers': 1828, 'Natalia': 1829, 'prime': 1830, 'Brentford': 1831, 'Struver': 1832, \"'S\": 1833, 'setting': 1834, 'states': 1835, 'standards': 1836, 'said': 1837, 'Humphries': 1838, 'Athletics': 1839, 'ANKARA': 1840, 'GOLD': 1841, 'Soir': 1842, 'shutout': 1843, 'ordered': 1844, 'Bastia': 1845, 'fuel': 1846, 'Braves': 1847, 'undercover': 1848, 'St.': 1849, 'CBOT': 1850, 'J': 1851, 'Slough': 1852, 'guards': 1853, 'sidelined': 1854, 'Oil': 1855, 'Foindu': 1856, 'expansion': 1857, 'having': 1858, 'Faroe': 1859, 'UNION': 1860, 'Rodriguez': 1861, 'religious': 1862, 'OSCE': 1863, 'attended': 1864, 'restitution': 1865, 'These': 1866, 'Slovakia': 1867, 'submit': 1868, 'Hick': 1869, 'Trafford': 1870, 'as': 1871, 'fifth': 1872, 'two-thirds': 1873, 'impact': 1874, 'thrusting': 1875, 'cent': 1876, 'killing': 1877, 'Inez': 1878, 'stolen': 1879, 'replied': 1880, 'Teams': 1881, 'broke': 1882, 'cool': 1883, 'Gene': 1884, 'KV': 1885, 'capturing': 1886, 'Sloboda': 1887, 'progressing': 1888, 'indications': 1889, 'monetary': 1890, 'ice': 1891, 'Wheaton': 1892, 'triggered': 1893, 'grounds': 1894, 'Elsewhere': 1895, 'ND': 1896, 'protest': 1897, 'FDA': 1898, 'Greek': 1899, 'marks': 1900, 'Anderson': 1901, 'acreage': 1902, 'Grimsby': 1903, 'service': 1904, 'ca': 1905, 'plunged': 1906, 'pressure': 1907, 'six-year': 1908, 'year-earlier': 1909, 'Castilla': 1910, 'Weizman': 1911, 'operated': 1912, 'TOP': 1913, 'Voica': 1914, 'alter': 1915, 'bomb': 1916, 'parliamentary': 1917, 'Weiss': 1918, 'qualifying': 1919, 'five-year': 1920, 'boatman': 1921, 'promises': 1922, 'Asif': 1923, 'Katarina': 1924, 'Kallis': 1925, 'Sox': 1926, 'drinkers': 1927, 'Riga': 1928, 'barred': 1929, 'Bruguera': 1930, 'Ripken': 1931, 'Sawamatsu': 1932, 'help': 1933, 'Jim': 1934, 'ANSA': 1935, 'scepticism': 1936, 'transitional': 1937, 'Dravid': 1938, 'Kornblum': 1939, 'crushed': 1940, 'RMT': 1941, 'TUNIS': 1942, 'review': 1943, 'miss': 1944, 'Banda': 1945, 'short': 1946, 'kilometre': 1947, 'incompatible': 1948, 'prevented': 1949, 'season': 1950, 'MARKET': 1951, 'third-round': 1952, 'tried': 1953, 'circulation': 1954, 'scale': 1955, 'discuss': 1956, 'normalisation': 1957, 'Yates': 1958, 'Mafia': 1959, 'Parana': 1960, 'Chechens': 1961, 'event': 1962, 'kingdom': 1963, 'Kocinski': 1964, 'prevailed': 1965, 'Figures': 1966, 'poor': 1967, 'anger': 1968, 'Palmans': 1969, 'remove': 1970, 'rising': 1971, 'Peterborough': 1972, 'awaiting': 1973, 'positive': 1974, 'Sanchez': 1975, 'attempt': 1976, 'Both': 1977, 'JD': 1978, 'collar': 1979, 'movies': 1980, 'flows': 1981, 'Huddersfield': 1982, 'Almere': 1983, 'military': 1984, 'Gennadi': 1985, 'declined': 1986, 'levels': 1987, 'Lancer': 1988, 'newly': 1989, 'punishment': 1990, 'profit': 1991, 'affected': 1992, 'riot': 1993, 'agriculture': 1994, 'Dmitry': 1995, 'fighters': 1996, 'Phan': 1997, 'crude': 1998, 'Justin': 1999, 'Sitanyi': 2000, 'OLYMPIC': 2001, 'Hull': 2002, 'coming': 2003, 'Final': 2004, 'al-Kabariti': 2005, 'furlongs': 2006, 'Danny': 2007, 'GKS': 2008, 'Nawaz': 2009, 'end': 2010, 'freed': 2011, 'Rapeseed': 2012, 'Shigeki': 2013, 'west': 2014, 'Polonia': 2015, 'July': 2016, 'Herbert': 2017, 'tamper': 2018, 'TVM': 2019, 'envoy': 2020, 'addressed': 2021, 'II': 2022, 'Aleksandra': 2023, 'OJ': 2024, 'defending': 2025, 'maintenance': 2026, 'hurled': 2027, 'engineering': 2028, 'Hansma': 2029, 'tournaments': 2030, 'Guingamp': 2031, 'couple': 2032, 'absolute': 2033, 'instead': 2034, 'Belchatow': 2035, 'Ronald': 2036, 'part': 2037, 'earned': 2038, 'grant': 2039, 'Books': 2040, 'targets': 2041, 'seven-year': 2042, 'movie': 2043, 'information': 2044, 'allocation': 2045, 'take': 2046, 'community': 2047, '...': 2048, 'Belarus': 2049, 'conditions': 2050, 'Valerenga': 2051, 'actress': 2052, 'Northfield': 2053, 'billions': 2054, 'buggy': 2055, 'amid': 2056, 'prediction': 2057, 'Skhirat': 2058, 'Democrat': 2059, 'impeachment': 2060, 'bruised': 2061, 'sniffer': 2062, 'corner': 2063, 'Kingdom': 2064, 'Fischler': 2065, 'down': 2066, 'Haladas': 2067, 'Facilities': 2068, 'backing': 2069, 'D.': 2070, 'attributed': 2071, 'centers': 2072, 'opener': 2073, 'plans': 2074, 'Marseille': 2075, 'nominee': 2076, 'achieve': 2077, 'Beijing': 2078, 'Christie': 2079, 'churches': 2080, 'Speculation': 2081, 'rare': 2082, 'true': 2083, 'Tilburg': 2084, 'Pescosolido': 2085, 'AEI': 2086, 'Arum': 2087, 'bill': 2088, 'considered': 2089, 'added': 2090, 'Smirnov': 2091, 'federation': 2092, 'Turkey': 2093, 'reform': 2094, 'Richard': 2095, 'Arminia': 2096, 'Zurich': 2097, 'Investors': 2098, 'Wally': 2099, 'Majoli': 2100, 'developers': 2101, 'Puebla': 2102, 'allege': 2103, 'Eau': 2104, 'revive': 2105, 'Les': 2106, 'mass': 2107, 'Karbacher': 2108, 'Moody': 2109, 'link': 2110, 'procedure': 2111, 'Trailing': 2112, 'Sammy': 2113, 'assassination': 2114, 'lasagna': 2115, 'lifted': 2116, 'Horst': 2117, 'stopped': 2118, 'TEST': 2119, 'Jornada': 2120, 'Thieves': 2121, 'Emilio': 2122, 'fly': 2123, 'murder': 2124, 'fielding': 2125, 'cultures': 2126, 'Anna': 2127, 'Edwin': 2128, 'NEG': 2129, 'defeated': 2130, 'output': 2131, 'Philippoussis': 2132, 'Desmond': 2133, 'Baseball': 2134, 'shook': 2135, 'surrender': 2136, 'Palkhivala': 2137, 'joined': 2138, 'capped': 2139, 'Zinzan': 2140, 'ATHENS': 2141, 'Tendulkar': 2142, 'hanged': 2143, 'Islands': 2144, 'Miles': 2145, 'Linford': 2146, 'Kadian': 2147, 'way': 2148, 'Griqualand': 2149, 'new': 2150, 'Dalian': 2151, 'Relations': 2152, 'baby': 2153, 'Vac': 2154, 'Ranatunga': 2155, 'Soyoil': 2156, 'transmitter': 2157, 'acting': 2158, 'replaced': 2159, 'fast': 2160, 'Vale': 2161, 'Belmondo': 2162, 'ranking': 2163, 'Wacker': 2164, 'product': 2165, 'collected': 2166, 'Galina': 2167, 'Indies': 2168, 'Boby': 2169, 'Earlier': 2170, 'forecast': 2171, 'wicket': 2172, 'Rochdale': 2173, 'SERIES': 2174, 'loses': 2175, 'Cooperation': 2176, 'finally': 2177, 'JORNAL': 2178, 'Miltiadis': 2179, 'starts': 2180, 'Kremin': 2181, 'Curuchet': 2182, 'Mujahideen': 2183, 'Tang': 2184, 'backwardation': 2185, 'medical': 2186, 'Albania': 2187, 'AZ': 2188, 'readily': 2189, 'Caddick': 2190, 'compensation': 2191, 'SCORES': 2192, 'Marcin': 2193, 'GTR': 2194, 'attempted': 2195, 'Church': 2196, 'Praha': 2197, 'Phelps': 2198, 'Schneiter': 2199, 'entered': 2200, 'weakened': 2201, 'lords': 2202, 'Petrzalka': 2203, '---': 2204, 'addressing': 2205, 'chemical': 2206, 'four': 2207, 'newspapers': 2208, 'two-day': 2209, 'liaison': 2210, 'demonstrators': 2211, 'lists': 2212, 'tender': 2213, 'decades': 2214, 'Robson': 2215, 'Communist': 2216, 'L': 2217, 'sexually': 2218, 'Kay': 2219, 'ill-fated': 2220, 'Dundee': 2221, 'Worcestershire': 2222, 'flee': 2223, 'deter': 2224, 'birdied': 2225, 'hospitalised': 2226, 'everyone': 2227, 'passing': 2228, 'CDU': 2229, 'benefits': 2230, 'Damm': 2231, 'equaliser': 2232, 'Ottawa': 2233, 'patchy': 2234, 'socialists': 2235, 'winner': 2236, 'Yamaha': 2237, 'Weibring': 2238, 'Politehnica': 2239, 'War': 2240, 'wins': 2241, 'Reuter': 2242, 'malaria': 2243, 'callers': 2244, 'Ajax': 2245, 'clinched': 2246, 'PSG': 2247, 'Marial': 2248, 'preconditions': 2249, 'proprietary': 2250, 'Columbia': 2251, 'Rabobank': 2252, 'August': 2253, 'rains': 2254, 'Cagliari': 2255, 'monopoly': 2256, 'Portuguesa': 2257, 'trophy': 2258, 'takeover': 2259, 'Rights': 2260, 'Sieg': 2261, 'links': 2262, 'them': 2263, 'Eyles': 2264, 'CNR': 2265, 'reply': 2266, 'DRAW': 2267, 'turnover': 2268, 'Albion': 2269, 'version': 2270, 'CEO': 2271, 'large': 2272, 'scarce': 2273, 'relatively': 2274, 'Tremila': 2275, 'Hingis': 2276, 'unbeatable': 2277, 'Stephens': 2278, 'bogeyed': 2279, 'lose': 2280, 'Naina': 2281, 'Agricultural': 2282, 'liquidated': 2283, 'invitation': 2284, 'PSV': 2285, 'Senegalese': 2286, 'Dakota': 2287, 'Crystal': 2288, 'Clayton': 2289, 'unworthy': 2290, 'TRIPOLI': 2291, 'endurance': 2292, 'requiring': 2293, 'Lankans': 2294, 'Csepel': 2295, 'Batting': 2296, 'themselves': 2297, 'cocktail': 2298, 'eliminated': 2299, 'republic': 2300, 'Ciments': 2301, 'Cozma': 2302, 'DAKAR': 2303, 'floating': 2304, 'sale': 2305, 'Awdankiewicz': 2306, 'ROMANIAN': 2307, 'McGinley': 2308, 'Pole': 2309, 'Over': 2310, 'Clean': 2311, 'stress': 2312, 'CYCLING': 2313, 'Nuour': 2314, 'Dugmore': 2315, 'Slight': 2316, 'PAO': 2317, 'Irani': 2318, 'Northcote': 2319, 'raft': 2320, 'den': 2321, 'endorse': 2322, 'Colin': 2323, 'quotes': 2324, 'mind': 2325, 'dying': 2326, 'big': 2327, 'Conservation': 2328, 'is': 2329, 'midnight': 2330, 'Roma': 2331, 'limit': 2332, 'Ezer': 2333, 'Newcrest': 2334, 'millions': 2335, 'FALL': 2336, 'PACIFIC': 2337, 'XI': 2338, 'begun': 2339, 'lovebites': 2340, 'Surrey': 2341, 'act': 2342, 'eating': 2343, 'street': 2344, 'Fairview': 2345, 'Gilbert': 2346, 'landing': 2347, 'Ambassador': 2348, 'scientific': 2349, 'missile': 2350, 'Resources': 2351, 'such': 2352, 'plight': 2353, 'September': 2354, 'epidemic': 2355, 'cargoes': 2356, 'effigy': 2357, 'Claverie': 2358, 'sq': 2359, 'Linzer': 2360, 'IRAQ': 2361, 'challenger': 2362, 'publishing': 2363, 'pact': 2364, 'Choudhury': 2365, 'Brigade': 2366, 'call': 2367, 'AS': 2368, 'Stromsgodset': 2369, 'Cyprien': 2370, 'Playing': 2371, 'Gregory': 2372, 'tag': 2373, 'stated': 2374, 'disguised': 2375, 'Orioles': 2376, 'sectors': 2377, 'manager': 2378, 'limited': 2379, 'Varteks': 2380, 'crime': 2381, 'initiated': 2382, 'online': 2383, 'writing': 2384, 'needed': 2385, 'hidden': 2386, 'hundred': 2387, 'neck': 2388, 'ingot': 2389, 'IS': 2390, 'Date': 2391, 'ceasefire': 2392, 'Kennedy': 2393, 'Barrick': 2394, 'Whittier': 2395, 'Sukova': 2396, 'International': 2397, 'Padres': 2398, 'striking': 2399, 'Boardman': 2400, 'contests': 2401, \"'m\": 2402, 'Lloyds': 2403, 'negotiations': 2404, 'summit': 2405, 'critic': 2406, 'replace': 2407, 'Pier': 2408, 'prospect': 2409, 'Falilat': 2410, 'roads': 2411, 'results': 2412, 'upstaged': 2413, 'Duffield': 2414, 'Etruscan': 2415, 'undisclosed': 2416, 'Bahia': 2417, 'imposed': 2418, 'facilities': 2419, 'brilliant': 2420, 'Goran': 2421, 'straight': 2422, 'Fleurian': 2423, 'family': 2424, 'treaty': 2425, 'Wednesday': 2426, 'Amanda': 2427, 'second-quarter': 2428, 'Adkins': 2429, 'demands': 2430, 'Strikers': 2431, 'tabloid': 2432, 'exposure': 2433, 'SEATTLE': 2434, 'Glenn': 2435, 'militia': 2436, 'parties': 2437, 'midfielder': 2438, 'again': 2439, 'grows': 2440, 'D': 2441, 'Debbah': 2442, 'protected': 2443, 'rolled': 2444, 'tell': 2445, 'Black': 2446, 'Khartoum': 2447, 'wrangle': 2448, 'STANSTED': 2449, 'image': 2450, 'commander': 2451, 'Museum': 2452, 'Broadhurst': 2453, 'Lotte': 2454, 'perfected': 2455, 'civil': 2456, 'opening': 2457, 'coast': 2458, 'injuring': 2459, 'Laboratories': 2460, 'Punjab': 2461, 'posted': 2462, 'machine': 2463, 'update': 2464, 'Anatolian': 2465, 'Rostov': 2466, 'ENGLAND': 2467, 'resuming': 2468, 'Eighth': 2469, 'Frost': 2470, 'Sofia': 2471, 'BY': 2472, 'alone': 2473, 'centre': 2474, 'upstairs': 2475, 'shore': 2476, 'Croat': 2477, 'Results': 2478, 'Istanbul': 2479, 'doubles': 2480, 'Japan': 2481, 'Jerome': 2482, 'Pacific': 2483, 'Huge': 2484, 'kg': 2485, 'pending': 2486, 'blocking': 2487, 'RATES': 2488, 'university': 2489, 'one-match': 2490, 'Voie': 2491, 'Ark': 2492, 'postpone': 2493, 'owns': 2494, 'proclamation': 2495, 'Anyang': 2496, 'Kosgei': 2497, 'Howell': 2498, 'Moreau': 2499, 'wrote': 2500, 'Faction': 2501, 'termed': 2502, 'reduce': 2503, 'first-place': 2504, 'Neiwand': 2505, 'national': 2506, 'Widness': 2507, 'Shabana': 2508, 'laboratory': 2509, 'veterans': 2510, 'him': 2511, 'unk_all_upper': 2512, 'conquest': 2513, 'fundamental': 2514, 'Fred': 2515, 'LAST': 2516, 'Passengers': 2517, 'Macedonia': 2518, 'attorney': 2519, 'Petroleums': 2520, 'marketing': 2521, 'MADRID': 2522, 'TOUR': 2523, 'Bonn': 2524, 'Odnosum': 2525, 'entertainment': 2526, 'dignity': 2527, 'edition': 2528, 'Hentgen': 2529, 'Gcaleka': 2530, 'tense': 2531, 'soccer': 2532, 'chaired': 2533, 'Action': 2534, 'first': 2535, 'NO': 2536, 'Democratic': 2537, 'disposal': 2538, 'Sometimes': 2539, 'pitted': 2540, 'truck': 2541, 'Krylya': 2542, 'Zardari': 2543, 'GENEVA': 2544, 'MIDEAST': 2545, 'college': 2546, 'OB': 2547, 'Conversion': 2548, 'Akam': 2549, 'Although': 2550, 'Top': 2551, 'Further': 2552, 'overtake': 2553, 'Videoton': 2554, 'yr': 2555, 'cup': 2556, 'Catholic': 2557, 'faction': 2558, 'Jetsi': 2559, 'are': 2560, 'they': 2561, 'November': 2562, 'believe': 2563, 'margin': 2564, 'slice': 2565, 'cannabis': 2566, 'Currin': 2567, 'introduced': 2568, 'Sales': 2569, 'sequel': 2570, 'Arkansas': 2571, 'meet': 2572, 'democracy': 2573, 'Viktoria': 2574, 'underage': 2575, 'soybean': 2576, 'into': 2577, 'glad': 2578, 'reflecting': 2579, 'Seguin': 2580, 'celebrated': 2581, 'Osmond': 2582, 'E': 2583, 'Faure': 2584, 'intelligence': 2585, 'GERMAN': 2586, 'motor': 2587, 'Sampras': 2588, 'Jacob': 2589, 'Beirut': 2590, 'camp': 2591, 'allegations': 2592, 'Hakkari': 2593, 'liquids': 2594, 'reject': 2595, 'Grant': 2596, 'Wang': 2597, 'Aliuska': 2598, 'subject': 2599, 'more': 2600, 'prior': 2601, 'partner': 2602, 'Alaniya': 2603, 'journalist': 2604, 'representative': 2605, 'Middlesex': 2606, 'Piazza': 2607, 'probing': 2608, 'isolated': 2609, 'Allied': 2610, 'shortfall': 2611, 'examination': 2612, 'posts': 2613, 'Palmeiras': 2614, 'Greenock': 2615, 'Leone': 2616, 'posting': 2617, 'Municipal': 2618, 'worst': 2619, 'Later': 2620, 'singer': 2621, 'staff': 2622, 'his': 2623, 'Apparel': 2624, 'Boldon': 2625, 'rupiah': 2626, 'LP': 2627, 'conflict': 2628, 'internal': 2629, 'clock': 2630, 'Belgrade': 2631, 'could': 2632, 'projected': 2633, 'Furlan': 2634, 'payment': 2635, 'Gerhard': 2636, 'Wiesner': 2637, 'Meri': 2638, 'Coughlan': 2639, 'suffers': 2640, 'Duisburg': 2641, 'Steffi': 2642, 'HAS': 2643, 'blew': 2644, 'CIS': 2645, 'split': 2646, 'special': 2647, 'violent': 2648, 'maintained': 2649, 'Jared': 2650, 'striker': 2651, 'sixes': 2652, 'OSLO': 2653, 'factions': 2654, 'lot': 2655, 'meets': 2656, 'Oppenheimer': 2657, 'struggle': 2658, 'McLaren': 2659, 'Jablonec': 2660, 'yarn': 2661, 'billion': 2662, 'spirits': 2663, 'sort': 2664, 'Jaffray': 2665, 'children': 2666, 'CSU': 2667, 'swift': 2668, 'Here': 2669, 'ideal': 2670, 'Steel': 2671, 'Grabb': 2672, 'messages': 2673, 'MTH': 2674, 'Fortuna': 2675, 'in': 2676, 'road': 2677, 'Tunisia': 2678, 'unexpected': 2679, 'Forget': 2680, 'shop': 2681, 'pushed': 2682, 'Els': 2683, 'HELENS': 2684, 'centrist': 2685, 'sending': 2686, 'Crawley': 2687, 'Stomil': 2688, 'Bragg': 2689, 'Christine': 2690, 'benefit': 2691, 'dictator': 2692, 'CLEVELAND': 2693, 'whites': 2694, 'Sudanese': 2695, 'seemed': 2696, 'trouble': 2697, 'Hashimoto': 2698, 'Buzuku': 2699, 'ruled': 2700, 'Witschge': 2701, 'SBC': 2702, 'conversion': 2703, 'cases': 2704, 'detail': 2705, 'corporate': 2706, 'press': 2707, 'MOODY': 2708, 'ties': 2709, 'Swedish': 2710, 'LAW': 2711, 'administrative': 2712, 'see-saw': 2713, 'Paris': 2714, 'bones': 2715, 'Slams': 2716, 'Domingos': 2717, 'Frederick': 2718, 'continue': 2719, 'Islamabad': 2720, 'refuelled': 2721, 'Berasategui': 2722, 'accomplished': 2723, 'oppose': 2724, 'Unity': 2725, 'relay': 2726, 'Lancashire': 2727, 'buyback': 2728, 'Arjuna': 2729, 'Cuba': 2730, 'comment': 2731, 'Amtrak': 2732, 'regulation': 2733, 'millfeed': 2734, 'Tebbutt': 2735, 'Korneev': 2736, 'stole': 2737, 'arrived': 2738, 'shocking': 2739, 'hostility': 2740, 'Gazeta': 2741, 'God': 2742, 'manufacturing': 2743, 'terrorism': 2744, 'Haeggman': 2745, 'Cameroon': 2746, 'Sturrup': 2747, 'Stabaek': 2748, 'dates': 2749, 'SAO': 2750, 'small': 2751, 'Golan': 2752, 'prix': 2753, 'week-long': 2754, 'Alleyne': 2755, 'EVEREN': 2756, 'cells': 2757, 'Vega': 2758, 'Coetzer': 2759, 'manages': 2760, 'views': 2761, 'm': 2762, 'Gwen': 2763, 'bond': 2764, 'Deputy': 2765, 'surveillance': 2766, 'Sumitomo': 2767, 'bright': 2768, 'denial': 2769, 'Algerians': 2770, 'Brunswijk': 2771, 'midday': 2772, 'bags': 2773, 'Petrosani': 2774, 'massacres': 2775, 'follows': 2776, 'kidnapped': 2777, 'ignoring': 2778, 'prepares': 2779, 'valley': 2780, 'percentage': 2781, 'Andreas': 2782, 'Korda': 2783, 'Delgado': 2784, 'joked': 2785, 'engineers': 2786, 'Jetty': 2787, 'FORT': 2788, 'situation': 2789, 'Walsall': 2790, 'Olympic': 2791, 'revenues': 2792, 'priced': 2793, 'studying': 2794, 'builders': 2795, 'draws': 2796, 'meantime': 2797, 'responding': 2798, 'career': 2799, 'Kazakhstan': 2800, 'host': 2801, 'crossing': 2802, 'fix': 2803, 'forecasts': 2804, 'overwhelmingly': 2805, 'mate': 2806, 'distribute': 2807, 'windows': 2808, 'CAPE': 2809, 'Patriarch': 2810, 'Eamonn': 2811, 'protocol': 2812, 'FIXTURES': 2813, 'Davids': 2814, 'According': 2815, 'reasonable': 2816, 'go': 2817, 'temperature': 2818, 'GPG': 2819, 'insisted': 2820, 'GM': 2821, 'shut': 2822, 'influx': 2823, 'Villeneuve': 2824, 'coached': 2825, 'X': 2826, 'surgery': 2827, 'Fluminense': 2828, 'showing': 2829, 'Bscher': 2830, 'Hussein': 2831, 'VanLandingham': 2832, 'Chester-le-Street': 2833, 'headache': 2834, 'tackling': 2835, 'broad': 2836, 'spot': 2837, 'journalism': 2838, 'interim': 2839, 'Gravelaine': 2840, 'Trnava': 2841, 'Hanwha': 2842, 'TORONTO': 2843, 'accomplices': 2844, 'Jean-Philippe': 2845, 'Xhelili': 2846, 'division': 2847, 'discrimination': 2848, 'Food': 2849, 'endorsement': 2850, 'left-field': 2851, 'bid': 2852, 'sank': 2853, 'sense': 2854, 'murdering': 2855, 'smuggle': 2856, 'producers': 2857, 'Dubnica': 2858, 'Van': 2859, 'Pukstys': 2860, 'homered': 2861, 'U.S.-mediated': 2862, 'Reconciliation': 2863, 'reputation': 2864, 'candidate': 2865, 'Goydos': 2866, 'viral': 2867, 'Lathwell': 2868, 'NZ': 2869, 'Jr': 2870, 'Garry': 2871, 'Healy': 2872, 'improvement': 2873, 'districts': 2874, 'locked': 2875, 'knows': 2876, 'Kabir': 2877, 'Maru': 2878, 'fee': 2879, 'Richards': 2880, 'Assn': 2881, 'wrong': 2882, 'breaking': 2883, 'Royals': 2884, 'sweeping': 2885, 'grew': 2886, 'Queens': 2887, 'coastal': 2888, 'BRASILIA': 2889, 'registry': 2890, 'watchdog': 2891, 'Illawarra': 2892, 'Klerk': 2893, 'attracts': 2894, 'inter-ethnic': 2895, 'reporters': 2896, 'fat': 2897, 'Malakwen': 2898, 'no': 2899, 'Siraj': 2900, 'servant': 2901, 'decisive': 2902, 'Yr': 2903, 'Actor': 2904, 'technical': 2905, 'Eugen': 2906, 'substances': 2907, 'Arabia': 2908, 'friends': 2909, 'RESEARCH': 2910, 'THU': 2911, 'Arabic': 2912, 'END': 2913, 'Voinea': 2914, 'directed': 2915, 'polling': 2916, 'alloy': 2917, 'Cyprus': 2918, 'Hicham': 2919, 'catcher': 2920, 'Castleford': 2921, 'terms': 2922, 'GOVT': 2923, 'seek': 2924, 'commission': 2925, 'NICE': 2926, 'prevailing': 2927, 'Dec': 2928, 'Wayne': 2929, 'column': 2930, 'reorganization': 2931, 'inquiry': 2932, 'unknown': 2933, 'Krajina': 2934, 'Gisenyi': 2935, 'BNP': 2936, 'Belga': 2937, 'explosives': 2938, 'firearm': 2939, 'contents': 2940, 'wells': 2941, 'goddess': 2942, 'Americans': 2943, 'majors': 2944, 'rewarded': 2945, 'Amman': 2946, 'Cause': 2947, 'Prykarpattya': 2948, 'Craig': 2949, 'Alan': 2950, 'By': 2951, 'slow': 2952, 'Eveningperformance': 2953, 'Kamaz': 2954, 'Amr': 2955, 'Jon': 2956, 'Impala': 2957, 'Maskhadov': 2958, 'famous': 2959, 'robbing': 2960, 'Group': 2961, 'Cultural': 2962, 'reaches': 2963, 'all-time': 2964, 'Euromark': 2965, 'Hekmatyar': 2966, 'advertising': 2967, 'canteen': 2968, 'freight': 2969, 'commissioner': 2970, 'Leon': 2971, 'lbw': 2972, 'Heavy': 2973, 'boys': 2974, 'grandson': 2975, 'huge': 2976, 'who': 2977, 'consumer': 2978, 'power': 2979, 'politicians': 2980, 'violations': 2981, 'roughly': 2982, 'Roca': 2983, 'runway': 2984, 'Basle': 2985, 'Begum': 2986, 'DAX': 2987, 'Lebed': 2988, 'AUGUST': 2989, 'proposal': 2990, 'Fax': 2991, 'intended': 2992, 'operations': 2993, 'took': 2994, 'Chisinau': 2995, 'knew': 2996, 'healthy': 2997, 'Bell': 2998, 'string': 2999, 'TUESDAY': 3000, 'Daniel': 3001, 'bumped': 3002, 'Seles': 3003, 'conducting': 3004, 'risen': 3005, 'Sanath': 3006, 'resorts': 3007, 'AUSTRIA': 3008, 'sound': 3009, 'wife': 3010, 'die': 3011, 'Satoshi': 3012, 'guided': 3013, 'depth': 3014, 'whom': 3015, 'Watts': 3016, 'first-team': 3017, 'performance': 3018, 'Wisinga': 3019, 'Children': 3020, 'Roche': 3021, 'replacing': 3022, 'tourists': 3023, 'Richter': 3024, 'Pakistani': 3025, 'GOLF': 3026, 'Kschwendt': 3027, 'Anza': 3028, 'blue': 3029, 'mission': 3030, 'Goossens': 3031, 'Becej': 3032, 'Chiron': 3033, 'payments': 3034, 'Derrick': 3035, 'custody': 3036, 'proceedings': 3037, 'questions': 3038, 'occur': 3039, 'Zubair': 3040, 'Gastel': 3041, 'interferon': 3042, 'Olympiakos': 3043, 'sentiment': 3044, 'Dalglish': 3045, 'Arnaud': 3046, 'Olomouc': 3047, 'Samokhalova': 3048, 'umpires': 3049, 'rated': 3050, 'accompanied': 3051, 'counterpart': 3052, 'Cleveland': 3053, 'Golden': 3054, 'how': 3055, 'unless': 3056, 'authority': 3057, 'Property': 3058, 'U.N.': 3059, 'confirmed': 3060, 'South': 3061, 'precise': 3062, 'green': 3063, 'experience': 3064, 'PRACTICE': 3065, '\"': 3066, 'education': 3067, 'Debbie': 3068, 'overs': 3069, 'involving': 3070, 'none': 3071, 'joy': 3072, 'COMEX': 3073, 'violence': 3074, 'On': 3075, 'extend': 3076, 'Peiris': 3077, 'AUSTRALIAN': 3078, 'friend': 3079, 'Akbel': 3080, 'young': 3081, 'combatants': 3082, 'Proleter': 3083, 'pressed': 3084, 'Higher': 3085, 'choose': 3086, 'semifinalist': 3087, 'unbeaten': 3088, 'boss': 3089, 'Gujral': 3090, 'Bystrica': 3091, 'ninth': 3092, 'laps': 3093, 'stunning': 3094, 'contenders': 3095, 'democratic': 3096, 'amusement': 3097, 'Hristo': 3098, 'Sharif': 3099, 'acts': 3100, 'Birmingham': 3101, 'Tibet': 3102, 'possession': 3103, 'partly': 3104, 'Regulation': 3105, 'flag': 3106, 'damaging': 3107, 'Rocky': 3108, 'basketball': 3109, 'Sirnak': 3110, 'Gagne': 3111, 'recorded': 3112, 'secondary': 3113, 'lending': 3114, 'saline': 3115, 'been': 3116, 'Straits': 3117, 'procure': 3118, 'Courier': 3119, 'Frowick': 3120, 'Novye': 3121, 'Cherbourg': 3122, 'semifinals': 3123, 'vomiting': 3124, 'tests': 3125, 'response': 3126, 'Suleyman': 3127, 'Monterrey': 3128, 'Jennifer': 3129, 'long': 3130, 'Marty': 3131, 'Arequipa': 3132, 'expelled': 3133, 'Olhovskiy': 3134, 'yuan': 3135, 'singled': 3136, 'An': 3137, 'Khalq': 3138, 'defence': 3139, 'Stuttgart': 3140, 'LIMITS': 3141, 'County': 3142, 'sixth': 3143, 'Marcel': 3144, 'exhaustion': 3145, 'required': 3146, 'Queensland': 3147, 'Bongo': 3148, 'Times': 3149, 'sign': 3150, 'promoter': 3151, 'Monte': 3152, 'this': 3153, 'OFK': 3154, 'vessels': 3155, 'Hashan': 3156, 'political': 3157, 'spell': 3158, 'Hapoel': 3159, 'beef': 3160, 'pitcher': 3161, 'ambassador': 3162, 'trained': 3163, 'batches': 3164, 'massive': 3165, 'kidney': 3166, 'SEC': 3167, 'LOUIS': 3168, 'Daoud': 3169, 'wear': 3170, 'drilled': 3171, 'Ekeus': 3172, 'Feinstein': 3173, 'related': 3174, 'suspended': 3175, 'Series': 3176, 'Senate': 3177, 'committees': 3178, 'citizen': 3179, 'judgment': 3180, 'issued': 3181, 'entertaining': 3182, 'resolution': 3183, 'Bekescsaba': 3184, 'Oasis': 3185, 'noon': 3186, 'fixture': 3187, 'Mitchell': 3188, 'Barton': 3189, 'unwanted': 3190, 'Operating': 3191, 'expand': 3192, 'goods': 3193, 'interests': 3194, 'packers': 3195, 'taken': 3196, 'punches': 3197, 'unfair': 3198, 'bullet': 3199, 'separate': 3200, 'Orr': 3201, 'feed': 3202, 'markets': 3203, 'discovered': 3204, 'sweep': 3205, 'Kandahar': 3206, 'Secretary': 3207, 'heavier': 3208, 'Algiers': 3209, 'areas': 3210, 'Perrin': 3211, 'spy': 3212, 'embattled': 3213, 'honours': 3214, 'Kabul': 3215, 'forints': 3216, 'opens': 3217, 'hands': 3218, 'low-lying': 3219, 'shelling': 3220, 'kerosene': 3221, 'slumping': 3222, 'Massachusetts': 3223, 'Berkshire': 3224, 'Collinelli': 3225, 'Tommi': 3226, 'praising': 3227, 'pursuit': 3228, 'strengthen': 3229, 'PROFIT': 3230, 'clause': 3231, 'Unitog': 3232, 'makers': 3233, 'economic': 3234, 'Seattle': 3235, 'When': 3236, 'Salamanca': 3237, 'infection': 3238, 'first-half': 3239, 'Jahan': 3240, 'though': 3241, 'saying': 3242, 'babies': 3243, 'deputy': 3244, 'Ord': 3245, 'observers': 3246, 'when': 3247, 'stalker': 3248, 'CNIEC': 3249, 'four-game': 3250, 'immediately': 3251, 'increases': 3252, 'seedings': 3253, 'appearance': 3254, 'chamber': 3255, 'AGAINST': 3256, 'apparent': 3257, 'result': 3258, 'Oriente': 3259, 'spared': 3260, 'brains': 3261, 'Scores': 3262, 'Lanner': 3263, 'tonight': 3264, 'Exceptional': 3265, 'Like': 3266, 'gasoline': 3267, 'described': 3268, 'Hinchcliffe': 3269, 'Komarica': 3270, 'enjoyed': 3271, 'CONC': 3272, 'Under-Secretary': 3273, 'corn': 3274, 'important': 3275, 'apartheid-era': 3276, 'Atlantic': 3277, 'killers': 3278, 'strikers': 3279, 'Svetlana': 3280, 'invaded': 3281, 'turned': 3282, 'resolved': 3283, 'Commissioner': 3284, 'schoolgirl': 3285, 'courts': 3286, 'skipper': 3287, 'advancing': 3288, 'francs': 3289, 'detained': 3290, 'Philippine': 3291, 'packed': 3292, 'Ahronoth': 3293, 'Kan': 3294, 'Freiburg': 3295, 'Press': 3296, 'factors': 3297, 'Hong': 3298, 'human': 3299, 'overcome': 3300, 'Bucharest': 3301, 'expenses': 3302, 'falling': 3303, 'cause': 3304, 'Pablo': 3305, 'Perkins': 3306, 'door': 3307, 'women': 3308, 'location': 3309, 'racial': 3310, 'Caltex': 3311, 'mood': 3312, 'Bromwich': 3313, 'contribute': 3314, 'coups': 3315, 'Kinkel': 3316, 'Strip': 3317, 'convinced': 3318, 'piece': 3319, 'baseline': 3320, 'software': 3321, 'DUBAI': 3322, 'insurance': 3323, 'northeast': 3324, 'bad': 3325, 'Widzew': 3326, 'collective': 3327, 'Dhabi': 3328, 'Charlton': 3329, 'Metz': 3330, 'SWP': 3331, 'Georgia': 3332, 'denounced': 3333, 'Dacia': 3334, 'seasonally': 3335, 'Americast': 3336, 'elect': 3337, 'responsibility': 3338, 'solvent': 3339, 'sporting': 3340, 'mainly': 3341, 'he': 3342, 'estate': 3343, 'Forsbrand': 3344, 'fearing': 3345, 'motorcycle': 3346, 'difference': 3347, 'NOTE': 3348, 'kickoff': 3349, 'returning': 3350, 'leaves': 3351, 'solution': 3352, 'rain': 3353, 'ft': 3354, 'however': 3355, 'unload': 3356, 'away': 3357, 'unspecified': 3358, 'ruling': 3359, 'Sandstod': 3360, 'loose': 3361, 'arrives': 3362, 'responsible': 3363, 'Rome': 3364, 'index': 3365, 'equipment': 3366, 'liquidity': 3367, 'draw': 3368, 'stabilise': 3369, 'Aki': 3370, 'UNAM': 3371, 'Gianni': 3372, 'Botswana': 3373, 'smoke': 3374, 'well': 3375, 'Atria': 3376, 'RUGBY': 3377, 'three-test': 3378, 'domestic': 3379, 'Full': 3380, 'Hijacked': 3381, 'stepped': 3382, 'stg': 3383, 'consequences': 3384, 'DENOMS': 3385, 'financed': 3386, 'Sierakowice': 3387, 'Old': 3388, 'Lubin': 3389, 'TIRANA': 3390, 'IRNA': 3391, 'Lillestrom': 3392, 'run-up': 3393, 'cotton': 3394, 'Colonna': 3395, 'Higashi': 3396, 'Miami': 3397, 'rates': 3398, 'change': 3399, 'Neil': 3400, 'survivors': 3401, 'hostage': 3402, 'Wycombe': 3403, 'rubber': 3404, 'Portland': 3405, 'Garrity': 3406, 'diplomat': 3407, 'winds': 3408, 'Bogra': 3409, 'Bjorkman': 3410, 'second-half': 3411, 'Morelia': 3412, 'Florence': 3413, 'justice': 3414, 'Revised': 3415, 'Kiev': 3416, 'retained': 3417, 'updated': 3418, 'EUROPEAN': 3419, 'merely': 3420, 'Taument': 3421, 'Celsius': 3422, 'MED': 3423, 'Geneva': 3424, 'Congress': 3425, 'Maputo': 3426, 'allocated': 3427, 'Aegon': 3428, 'Liberia': 3429, 'strained': 3430, 'useful': 3431, 'Dionne': 3432, 'Lisa': 3433, 'Catalan': 3434, 'facing': 3435, 'Agius': 3436, 'DUBLIN': 3437, 'goals': 3438, 'Vt': 3439, 'Sugiyama': 3440, 'arc': 3441, 'caused': 3442, 'seized': 3443, 'Iowa': 3444, 'crossed': 3445, 'character': 3446, 'convergence': 3447, 'Specter': 3448, 'km': 3449, '(': 3450, 'Anke': 3451, 'Ivan': 3452, 'Curtis': 3453, 'county': 3454, 'Eefje': 3455, 'tirade': 3456, 'Shanghai-Ek': 3457, 'ON': 3458, 'Fatima': 3459, 'Courtois': 3460, 'News': 3461, 'ensuring': 3462, 'Marriner': 3463, 'delaying': 3464, 'out': 3465, 'Lietti': 3466, 'Finland': 3467, 'Wakefield': 3468, 'signed': 3469, 'ambushed': 3470, 'Maturity': 3471, 'Power': 3472, 'abduction': 3473, 'spokeswoman': 3474, 'aimed': 3475, 'Massoud': 3476, 'amount': 3477, 'little': 3478, 'FEATURE': 3479, 'scam': 3480, 'document': 3481, 'commercial': 3482, 'fined': 3483, 'Exeter': 3484, 'Fulham': 3485, 'Quigley': 3486, 'Surabaya': 3487, 'POST': 3488, 'MANAMA': 3489, 'n.a': 3490, 'enters': 3491, 'extreme': 3492, 'Naphtha': 3493, 'unlikely': 3494, 'substitute': 3495, 'than': 3496, 'breakfast': 3497, 'example': 3498, 'yellow': 3499, 'Gabriel': 3500, 'January-July': 3501, 'quarter-finals': 3502, 'ministers': 3503, 'Cambridge': 3504, 'Ata-ur-Rehman': 3505, 'Watford': 3506, 'athletics': 3507, 'assertions': 3508, 'reverse': 3509, 'Nepal': 3510, 'Arsenal': 3511, 'Steve': 3512, 'Keane': 3513, 'doctor': 3514, 'INTEREST': 3515, 'to': 3516, 'Alexandra': 3517, 'Flower': 3518, 'MUNDO': 3519, 'Blanco': 3520, 'sees': 3521, 'vol': 3522, 'founder': 3523, 'intense': 3524, 'Thome': 3525, 'Rizzitelli': 3526, 'bloody': 3527, 'historical': 3528, 'UND': 3529, 'Kivu': 3530, 'degree': 3531, 'timing': 3532, 'remarkable': 3533, 'errors': 3534, 'lagging': 3535, 'Naish': 3536, 'danger': 3537, 'hold': 3538, 'Therapies': 3539, 'Nazi': 3540, 'voluntarily': 3541, 'Kambli': 3542, 'farmers': 3543, 'McGriff': 3544, 'nominations': 3545, 'apartment': 3546, 'Gopal': 3547, 'photographed': 3548, 'Ellwood': 3549, 'reformed': 3550, 'merchants': 3551, 'Sabourin': 3552, 'Obviously': 3553, 'leaving': 3554, 'Andrei': 3555, 'peacefully': 3556, 'Colorado': 3557, 'crimes': 3558, 'Czestochowa': 3559, 'Simitis': 3560, 'LISTING': 3561, 'thin': 3562, 'am': 3563, 'aviation': 3564, 'Rafael': 3565, '%': 3566, 'CBI': 3567, 'Inzamam-ul-Haq': 3568, 'notably': 3569, 'Matthias': 3570, 'depressed': 3571, 'compete': 3572, 'Spaniards': 3573, 'Valentin': 3574, 'Consumer': 3575, 'quoted': 3576, 'metal': 3577, 'blown': 3578, 'cross': 3579, 'wing': 3580, 'locomotive': 3581, 'answers': 3582, 'SIX': 3583, 'Todt': 3584, 'Kontogiannis': 3585, 'skies': 3586, 'Sohail': 3587, 'Fairmont': 3588, 'rankings': 3589, 'monthly': 3590, 'Some': 3591, 'school': 3592, 'advising': 3593, 'Alain': 3594, 'Bush': 3595, 'Implats': 3596, 'Doctor': 3597, 'Nancy': 3598, 'Kotlarska': 3599, 'Owens': 3600, 'court': 3601, 'Hungarian': 3602, 'Pereira': 3603, 'withdrew': 3604, 'swept': 3605, 'voters': 3606, 'suspension': 3607, 'jitters': 3608, 'BACK': 3609, 'requirements': 3610, 'ADVANCE': 3611, 'spokesmen': 3612, 'favourites': 3613, 'Hamilton': 3614, 'runner-up': 3615, 'COUPON': 3616, 'driving': 3617, 'Mo': 3618, 'boxes': 3619, 'junior': 3620, 'Fremantle': 3621, 'proud': 3622, 'conclusion': 3623, 'finance': 3624, 'CNN': 3625, 'shelter': 3626, 'challenge': 3627, 'confidence': 3628, 'victims': 3629, 'BRAVES': 3630, 'PERIOD': 3631, 'prevent': 3632, 'Sellberg': 3633, 'against': 3634, 'unexpectedly': 3635, 'Saturday': 3636, 'goes': 3637, 'III': 3638, 'INDEX': 3639, 'OM': 3640, 'Dally': 3641, 'speeches': 3642, 'TIMES': 3643, 'Telekom': 3644, 'diplomatic': 3645, 'come': 3646, 'Barrichello': 3647, 'warned': 3648, 'Itamar': 3649, 'Bradford': 3650, 'Sterling': 3651, 'Yankees': 3652, 'Moxon': 3653, 'ones': 3654, 'Slovenian': 3655, 'Raith': 3656, 'Magnus': 3657, 'BRUSSELS': 3658, 'Inc': 3659, 'allied': 3660, 'six': 3661, 'decline': 3662, 'discussing': 3663, 'pornographic': 3664, 'tin': 3665, 'baht': 3666, 'opportunities': 3667, 'Mushota': 3668, 'Senegal': 3669, 'Carlsen': 3670, 'Muthiah': 3671, 'RESULT': 3672, 'rivals': 3673, 'U.S.': 3674, 'winning': 3675, 'three-party': 3676, 'van': 3677, 'post-war': 3678, 'MATCHES': 3679, 'lumber': 3680, 'Romesh': 3681, 'satisfied': 3682, 'Bedie': 3683, 'limits': 3684, 'Bernini': 3685, 'package': 3686, 'sacked': 3687, 'Serb-held': 3688, 'Pecs': 3689, 'deadly': 3690, 'PUNR': 3691, 'collaborators': 3692, 'Julian': 3693, 'Sake': 3694, 'promised': 3695, 'National': 3696, 'Statoil': 3697, 'Orlando': 3698, 'Heath': 3699, 'Crewe': 3700, 'gearbox': 3701, 'judicial': 3702, 'Will': 3703, 'Klimis': 3704, 'MARKETS': 3705, 'projects': 3706, 'relegation': 3707, 'widely': 3708, 'AND': 3709, 'hours': 3710, 'accepting': 3711, 'ENAP': 3712, 'kph': 3713, 'buying': 3714, 'death': 3715, 'Forces': 3716, 'form': 3717, 'Singer': 3718, 'Gov': 3719, 'Kryvbas': 3720, 'replacement': 3721, 'underwent': 3722, 'Thousands': 3723, 'Result': 3724, 'inflammation': 3725, 'abroad': 3726, 'left': 3727, 'Sheffield': 3728, 'Republic': 3729, 'Volume': 3730, 'Enqvist': 3731, 'brief': 3732, 'highlight': 3733, 'valued': 3734, 'Servette': 3735, 'Borrego': 3736, 'Milk': 3737, 'so-called': 3738, 'Elena': 3739, 'toll': 3740, 'mortgage': 3741, 'prayers': 3742, 'Gianluca': 3743, 'arose': 3744, 'Dunajska': 3745, 'FULL': 3746, 'refinery': 3747, 'Olivier': 3748, 'tidy': 3749, 'Masters': 3750, 'Stadler': 3751, 'Ludwig': 3752, 'Cannes': 3753, 'desire': 3754, 'interfere': 3755, 'Ove': 3756, 'mounted': 3757, 'bang': 3758, 'Mozambique': 3759, 'POSITIONS': 3760, 'Eales': 3761, 'Gaudenzi': 3762, 'Tauziat': 3763, 'For': 3764, 'Chad': 3765, 'Sea': 3766, 'Schein': 3767, 'RIO': 3768, 'Iliescu': 3769, 'dropping': 3770, 'else': 3771, 'Match': 3772, 'ready': 3773, 'story': 3774, 'severe': 3775, 'Morton': 3776, 'Hoddle': 3777, 'JOINS': 3778, 'Gerard': 3779, 'celebration': 3780, 'elected': 3781, 'Sabine': 3782, 'similar': 3783, 'engineer': 3784, 'reverts': 3785, 'some': 3786, 'minute': 3787, 'Prievidza': 3788, 'field': 3789, 'sixth-seeded': 3790, 'likened': 3791, 'Kaliningrad': 3792, 'busy': 3793, 'lira': 3794, 'NZ$': 3795, 'Stewart': 3796, 'Blakey': 3797, 'use': 3798, 'seats': 3799, 'text': 3800, 'festival': 3801, 'disarmament': 3802, 'grateful': 3803, 'Suburbs': 3804, 'SEOUL': 3805, 'Orient': 3806, 'Ghent': 3807, 'Luc': 3808, 'Valley': 3809, 'communism': 3810, 'pump': 3811, 'Tehran': 3812, 'Neumann': 3813, 'recall': 3814, 'Navy': 3815, 'lorries': 3816, 'Salo': 3817, 'boycotting': 3818, 'one': 3819, 'BEIRUT': 3820, 'Karsten': 3821, 'felt': 3822, 'Cash': 3823, 'Foreldorado': 3824, 'alarm': 3825, 'yes': 3826, 'dishonest': 3827, 'semi-final': 3828, 'capitalization': 3829, 'Y': 3830, 'trials': 3831, 'Mines': 3832, 'Finance': 3833, 'health': 3834, 'Melissa': 3835, 'argument': 3836, 'outside': 3837, 'Headley': 3838, 'Torrence': 3839, 'Hosni': 3840, 'million': 3841, 'Syria': 3842, 'Trade': 3843, 'already': 3844, 'Porsche': 3845, 'Judge': 3846, 'mouth': 3847, 'S': 3848, 'chicken': 3849, 'add': 3850, 'TM': 3851, 'Graz': 3852, 'computers': 3853, 'al': 3854, 'comfortable': 3855, 'Villa': 3856, 'four-year': 3857, 'rouble': 3858, 'sulphur': 3859, 'Burmese': 3860, 'nuns': 3861, 'Florencia': 3862, 'Taleban': 3863, 'A-rated': 3864, 'wine': 3865, 'Karachi': 3866, 'Shabwa': 3867, 'hotel': 3868, 'variable': 3869, 'ranged': 3870, 'AKRON': 3871, 'Journal': 3872, 'competing': 3873, 'DTB-Bund-Future': 3874, 'ambitions': 3875, 'Wronki': 3876, 'Marc-Vivien': 3877, 'Benelux': 3878, 'FRENCH': 3879, 'concentrating': 3880, 'Christian': 3881, 'specified': 3882, 'Atletico': 3883, 'irregular': 3884, 'directly': 3885, 'traditional': 3886, 'disputes': 3887, 'stages': 3888, 'know': 3889, 'ferry': 3890, 'skin': 3891, 'Dollar': 3892, 'cabinet': 3893, 'Addis': 3894, 'detailing': 3895, 'shirt': 3896, 'Third': 3897, 'Winner': 3898, 'landed': 3899, 'soybeans': 3900, 'Maccabi': 3901, 'missionaries': 3902, 'HOLDING': 3903, 'de': 3904, 'Annabel': 3905, 'apologised': 3906, 'earn': 3907, 'June': 3908, 'quitting': 3909, 'RACING': 3910, 'planting': 3911, 'Iran': 3912, 'Wagner': 3913, 'wait': 3914, 'Gilbertson': 3915, 'BRITISH': 3916, 'bombarded': 3917, 'Creutzfeldt-Jakob': 3918, 'African': 3919, 'predicted': 3920, 'truce': 3921, 'Darcy': 3922, 'do': 3923, 'transportation': 3924, 'southern': 3925, 'Lufthansa': 3926, 'EL': 3927, 'Numan': 3928, 'Sportul': 3929, 'placebo': 3930, 'MATURITY': 3931, 'bombing': 3932, 'DIV': 3933, 'practical': 3934, 'behalf': 3935, 'C$': 3936, 'me': 3937, 'retired': 3938, 'pro-baseball': 3939, 'Zhemchuzhina': 3940, 'Word': 3941, 'everybody': 3942, 'Herve': 3943, 'suggested': 3944, 'payable': 3945, 'offenders': 3946, 'cell': 3947, 'resolving': 3948, 'Oy': 3949, 'flooded': 3950, 'qualities': 3951, 'lb': 3952, 'previously': 3953, 'formal': 3954, 'arthritis': 3955, 'Briton': 3956, 'gendarmerie': 3957, 'Frazier': 3958, 'back-to-back': 3959, 'Officials': 3960, 'newspaper': 3961, 'Guillaume': 3962, 'tales': 3963, 'Repsol': 3964, 'TV': 3965, 'Drobnjak': 3966, 'Azul': 3967, 'Galati': 3968, 'succeeded': 3969, 'Tamil': 3970, 'consortium': 3971, 'exhausted': 3972, 'Play': 3973, 'subsequently': 3974, 'flashpoint': 3975, 'Wishart': 3976, 'waved': 3977, 'itself': 3978, 'TAX': 3979, 'soymeal': 3980, 'rounds': 3981, 'specific': 3982, 'bodies': 3983, 'Muzaffarabad': 3984, 'Gama': 3985, 'substantial': 3986, 'expensive': 3987, 'T&N': 3988, 'orderly': 3989, 'Funk': 3990, 'CVRD': 3991, 'Chornomorets': 3992, 'D.C.': 3993, 'Frank': 3994, 'Hyundai': 3995, 'Editorial': 3996, 'Haessler': 3997, 'begins': 3998, 'Liechenstein': 3999, 'programme': 4000, 'U.S.-led': 4001, 'America': 4002, 'practice': 4003, 'viruses': 4004, 'Venezuelan': 4005, 'northern': 4006, 'Buffett': 4007, 'Johnny': 4008, 'Hwa': 4009, 'Popov': 4010, 'grenades': 4011, 'liabilities': 4012, 'Dominion': 4013, 'keen': 4014, 'Prairies': 4015, 'swimmer': 4016, 'Sharjah': 4017, 'signals': 4018, 'spread': 4019, 'Chairman': 4020, 'Kassala': 4021, 'Harden': 4022, 'Venezuela': 4023, 'Algeria': 4024, 'or': 4025, 'debris': 4026, 'Zenith': 4027, 'Zyrecha': 4028, 'Nestor': 4029, 'Finals': 4030, 'AJAX': 4031, 'Javier': 4032, 'Rupert': 4033, 'privately': 4034, 'sorts': 4035, 'fact-finding': 4036, 'Rene': 4037, 'depart': 4038, 'boundary': 4039, 'eighth': 4040, 'CRR': 4041, 'Watson': 4042, 'thanked': 4043, 'seeing': 4044, 'effective': 4045, 'United': 4046, 'pattern': 4047, 'CPI': 4048, 'Sergio': 4049, 'FRANCISCO': 4050, 'Hampshire': 4051, 'GTE': 4052, 'materialise': 4053, 'staged': 4054, 'Cronulla': 4055, 'LOS': 4056, 'gloomy': 4057, 'PAKISTAN': 4058, 'ups': 4059, 'Denny': 4060, 'Career': 4061, 'Frenz': 4062, 'chance': 4063, 'sprinter': 4064, 'Tennis': 4065, 'refunds': 4066, 'AUSTRALIANS': 4067, 'Newell': 4068, 'inquiries': 4069, 'Almost': 4070, 'Radnicki': 4071, 'collapsed': 4072, 'Revenue': 4073, 'FC': 4074, 'Moore': 4075, 'Smets': 4076, 'bombings': 4077, 'Attendance': 4078, 'Customs': 4079, 'Radstrom': 4080, 'UML': 4081, 'Devon': 4082, 'Eric': 4083, 'BONN': 4084, 'Alistair': 4085, 'attempting': 4086, 'cold': 4087, 'trailed': 4088, 'ban': 4089, 'Pinas': 4090, 'Eletropaulo': 4091, 'Uruguay': 4092, 'Utrecht': 4093, 'BID': 4094, 'BAGHDAD': 4095, 'Karlsson': 4096, 'hailed': 4097, 'FOURTH': 4098, 'G': 4099, 'offence': 4100, 'BALANCE': 4101, 'forces': 4102, 'pro-soccer': 4103, 'survey': 4104, 'restrict': 4105, 'Rating': 4106, 'Billy': 4107, 'intervene': 4108, 'peoples': 4109, 'contact': 4110, 'Fatkoullina': 4111, 'Guus': 4112, 'streets': 4113, 'Ning': 4114, 'Mats': 4115, 'Yoshikawa': 4116, 'MG-Technogym': 4117, 'working': 4118, 'Petrolul': 4119, 'Hospital': 4120, 'Lead': 4121, 'Robert': 4122, 'legislation': 4123, 'Twyford': 4124, 'nearly': 4125, 'Norris': 4126, 'Eelam': 4127, 'Khalfallah': 4128, 'area': 4129, 'Terence': 4130, 'SER': 4131, 'Allenby': 4132, 'searched': 4133, 'cap': 4134, 'affects': 4135, 'NEC': 4136, 'swap': 4137, 'along': 4138, 'BORROWER': 4139, 'Jaha': 4140, 'Lockhart': 4141, 'talk': 4142, 'Croft': 4143, 'student': 4144, 'Jan-May': 4145, 'While': 4146, 'Helmer': 4147, 'stored': 4148, 'CONTENTS': 4149, 'Vasas': 4150, 'Bill': 4151, 'retailer': 4152, 'GAME': 4153, 'BOARDMAN': 4154, 'Motorcycle': 4155, 'treatment': 4156, 'back': 4157, 'resumed': 4158, 'Labor': 4159, 'overcame': 4160, 'hear': 4161, 'Alliance': 4162, 'gunfire': 4163, 'Predrosa': 4164, 'Wasim': 4165, 'Vincent': 4166, 'Democrats': 4167, 'opposed': 4168, 'implement': 4169, 'villagers': 4170, 'ISS': 4171, 'were': 4172, 'apartheid': 4173, 'Cottey': 4174, 'Walker': 4175, 'Current': 4176, 'largely': 4177, 'opposes': 4178, 'Offers': 4179, 'triumphal': 4180, 'certain': 4181, 'Redgrave': 4182, 'Chan': 4183, 'Colchester': 4184, 'reelection': 4185, 'tissue': 4186, 'residence': 4187, 'tightened': 4188, 'planted': 4189, 'Schett': 4190, 'abortion': 4191, 'doors': 4192, 'generals': 4193, 'enter': 4194, 'serie': 4195, 'surveyed': 4196, 'Francesco': 4197, 'TEHRAN': 4198, 'Burhanuddin': 4199, 'Stranksy': 4200, 'walk': 4201, 'Stoltenberg': 4202, 'refusing': 4203, 'pair': 4204, 'flow': 4205, 'Bergkamp': 4206, 'Natural': 4207, 'Bochum': 4208, 'SWEDISH': 4209, 'serve': 4210, 'Kurds': 4211, ']': 4212, 'Ludmila': 4213, 'Verstappen': 4214, 'Heeswijk': 4215, 'mother': 4216, 'systems': 4217, 'N.': 4218, 'doubts': 4219, 'abandon': 4220, 'Gothenburg': 4221, 'PARIS': 4222, 'civilians': 4223, 'NA': 4224, 'Jean': 4225, 'stations': 4226, 'farm': 4227, 'Meanwhile': 4228, 'Sudan': 4229, 'crew': 4230, 'Vaas': 4231, 'bike': 4232, 'cricket': 4233, 'Glimt': 4234, 'Worcester': 4235, 'Ken': 4236, 'Welspun': 4237, 'obsessed': 4238, 'Director': 4239, 'Culhane': 4240, 'trust': 4241, 'preserved': 4242, 'obtain': 4243, 'signal': 4244, 'first-class': 4245, 'premiums': 4246, 'jammed': 4247, 'Israeli': 4248, 'pleased': 4249, 'transit': 4250, 'Stagecoach': 4251, 'chipping': 4252, 'Caracas': 4253, 'AIRES': 4254, 'audience': 4255, 'killings': 4256, 'lagged': 4257, 'right-wing': 4258, 'immigrant': 4259, 'Pakistan': 4260, 'transfer': 4261, 'price': 4262, 'reiterated': 4263, 'near': 4264, 'softer': 4265, 'starved': 4266, 'Kaluwitharana': 4267, 'vice-president': 4268, 'SATURDAY': 4269, 'SUGO': 4270, 'Emon': 4271, 'creditors': 4272, 'METRES': 4273, 'Mutola': 4274, 'Buenos': 4275, 'insistence': 4276, 'WINNERS': 4277, 'WINS': 4278, 'bowel': 4279, 'leftist': 4280, 'Students': 4281, 'Zion': 4282, 'Richmond': 4283, 'incident': 4284, 'implemented': 4285, 'lawsuit': 4286, 'Stephen': 4287, 'Newbury': 4288, 'pictures': 4289, 'signs': 4290, 'article': 4291, 'stop': 4292, 'rail': 4293, 'Siofok': 4294, 'accused': 4295, 'CRICKET': 4296, 'mad': 4297, 'things': 4298, 'imprisonment': 4299, 'PDS': 4300, 'convicted': 4301, 'Damon': 4302, 'impression': 4303, 'VICTORY': 4304, 'between': 4305, 'CENTRAL': 4306, 'entering': 4307, 'flight': 4308, 'Davies': 4309, 'Services': 4310, 'receiving': 4311, 'upward': 4312, 'queen': 4313, 'Lokomotiv': 4314, 'crushing': 4315, 'cleared': 4316, 'ultimatum': 4317, 'Peter': 4318, 'Yevgeny': 4319, 'thinking': 4320, 'dangerous': 4321, 'Ondruska': 4322, 'Puglisi': 4323, 'moment': 4324, 'Clydebank': 4325, 'ISO': 4326, 'proposals': 4327, 'simple': 4328, 'warrants': 4329, 'manufacturers': 4330, 'patrols': 4331, 'Alicia': 4332, 'Sarajevo': 4333, 'policeman': 4334, 'Viral': 4335, 'president': 4336, 'nearby': 4337, 'Muralitharan': 4338, 'term': 4339, 'BOMBAY': 4340, 'Latvia': 4341, 'MFS': 4342, 'Axworthy': 4343, 'according': 4344, 'Cluj': 4345, 'Derbyshire': 4346, 'Cruyff': 4347, 'Dayton': 4348, 'Vierklau': 4349, 'Rui': 4350, 'Yellow': 4351, 'secretary': 4352, 'admitted': 4353, 'FRANKFURT': 4354, 'fiery': 4355, 'CONTRACT': 4356, 'Africans': 4357, 'RALLYING': 4358, 'modem-chip': 4359, 'pre-war': 4360, 'legal': 4361, 'Sorrento': 4362, 'Katayama': 4363, 'single': 4364, 'Chicago': 4365, 'SUPERCUP': 4366, 'Seguy': 4367, 'badminton': 4368, 'Zemin': 4369, 'Kors': 4370, 'Hal': 4371, 'Fontaine': 4372, 'Notts': 4373, 'badly': 4374, 'ownership': 4375, 'Stenning': 4376, 'injunction': 4377, 'statistics': 4378, 'lent': 4379, 'sauce': 4380, 'Aleksander': 4381, 'Spaniard': 4382, 'clashed': 4383, 'ever': 4384, 'eyebrows': 4385, 'Volendam': 4386, 'certainly': 4387, 'ceremony': 4388, 'roof': 4389, 'restore': 4390, 'Dinamo': 4391, 'JYVASKYLA': 4392, 'Jean-Pierre': 4393, 'visited': 4394, 'Bjorn': 4395, 'spots': 4396, 'Le': 4397, 'toss': 4398, 'loan': 4399, 'reduced': 4400, 'actually': 4401, 'ounce': 4402, 'stores': 4403, 'avenged': 4404, 'injuries': 4405, 'Stefano': 4406, 'population': 4407, 'date': 4408, 'Gumy': 4409, 'whose': 4410, 'Gonzalez': 4411, 'citizens': 4412, 'winger': 4413, 'percent': 4414, 'Jeremy': 4415, 'comments': 4416, 'accuracy': 4417, 'beach': 4418, 'Liverpool': 4419, 'fight': 4420, 'physical': 4421, 'Schalke': 4422, 'spare': 4423, 'Berlin': 4424, 'telephone': 4425, 'depending': 4426, 'Its': 4427, 'Basketball': 4428, 'write': 4429, 'Humenne': 4430, 'prepare': 4431, 'Ennea': 4432, 'suspect': 4433, 'delight': 4434, 'raped': 4435, 'Phelan': 4436, 'Quarterfinals': 4437, 'gone': 4438, 'exclusive': 4439, 'Avaz': 4440, 'Katowice': 4441, 'teak': 4442, 'Petersburg': 4443, 'TEXAS': 4444, 'Star': 4445, 'Colombo': 4446, 'liner': 4447, 'Cook': 4448, 'terrorist': 4449, 'decree': 4450, 'staging': 4451, 'Merlene': 4452, 'Ferguson': 4453, 'early': 4454, 'Long': 4455, 'Gephardt': 4456, 'NL': 4457, 'Chiluba': 4458, 'Kournikova': 4459, 'potentially': 4460, 'ability': 4461, 'rapid': 4462, 'just': 4463, 'Sparta': 4464, 'Aires': 4465, 'Derek': 4466, 'TOSHIBA': 4467, 'Coulthard': 4468, 'Jays': 4469, 'SALE': 4470, 'acquired': 4471, 'IT': 4472, 'Sidor': 4473, 'Nilis': 4474, 'Political': 4475, 'hero': 4476, 'Tripoli': 4477, 'Sandon': 4478, 'Hradec': 4479, 'cannons': 4480, 'DUTCH': 4481, 'brawl': 4482, 'edge': 4483, 'replaces': 4484, 'returns': 4485, 'Impreza': 4486, 'seriously': 4487, 'holiday': 4488, 'Maronite': 4489, 'SRC': 4490, 'PREMIUM': 4491, 'drinks': 4492, 'furnace': 4493, 'Kankkunen': 4494, 'Played': 4495, 'PLG': 4496, 'Eldred': 4497, 'Montana': 4498, 'Medicare': 4499, 'quell': 4500, 'stalemate': 4501, 'Erdmann': 4502, 'Sandra': 4503, 'Bose': 4504, 'Lawrie': 4505, 'Rishon': 4506, 'pole': 4507, 'Cofinec': 4508, 'Lilly': 4509, 'Bournemouth': 4510, 'builds': 4511, 'luck': 4512, 'Bobic': 4513, 'personal': 4514, 'casualties': 4515, 'AFRICA': 4516, 'Veracruz': 4517, 'triumph': 4518, 'surface': 4519, 'preparing': 4520, 'arrival': 4521, 'Ewe': 4522, 'Brazil': 4523, 'try': 4524, 'Archer': 4525, 'stake': 4526, 'Death': 4527, 'coupon': 4528, 'customs': 4529, 'ASK': 4530, 'Reeve': 4531, 'pumped': 4532, 'employees': 4533, 'PAIS': 4534, 'Felix': 4535, 'Cubs': 4536, 'Elect': 4537, 'McCoist': 4538, 'attend': 4539, 'ceiling': 4540, 'Civil': 4541, 'prices': 4542, 'Ball': 4543, 'Edwards': 4544, 'gives': 4545, 'book': 4546, 'negotiated': 4547, 'dealing': 4548, 'steel': 4549, 'negotiate': 4550, 'Nobel': 4551, 'Rimavska': 4552, 'Richardson': 4553, 'forensic': 4554, 'Raichev': 4555, 'Westhuizen': 4556, 'Turkish': 4557, 'Cement': 4558, 'decrease': 4559, 'CJD': 4560, 'slipped': 4561, 'Amrollah': 4562, 'US': 4563, 'Padraig': 4564, 'bizarre': 4565, 'Asia': 4566, 'Pretoria': 4567, 'wickets': 4568, 'entry': 4569, 'supplementary': 4570, 'norms': 4571, 'Salvation': 4572, 'engage': 4573, 'chip': 4574, 'hurt': 4575, 'elderly': 4576, 'Georgalis': 4577, 'Cea': 4578, 'perhaps': 4579, 'Charity': 4580, 'BOSTON': 4581, 'Deutsche': 4582, 'checking': 4583, 'hoping': 4584, 'course': 4585, 'Pieters': 4586, 'Amount': 4587, 'destitute': 4588, 'Armstrong': 4589, 'copies': 4590, 'Mario': 4591, 'forfeited': 4592, 'LG': 4593, 'delay': 4594, 'Rotterdam': 4595, 'tunnel': 4596, 'crash': 4597, 'Burma': 4598, 'weekly': 4599, 'MOTOCROSS': 4600, 'assessment': 4601, 'December': 4602, 'Kralove': 4603, 'Markgraaff': 4604, 'Grech': 4605, 'PRO-LEAGUE': 4606, 'Wellman': 4607, 'gunman': 4608, 'Gildea': 4609, 'HONG': 4610, 'war': 4611, 'gets': 4612, 'Partick': 4613, 'office': 4614, 'while': 4615, 'emphasis': 4616, \"'\": 4617, 'Roberto': 4618, 'servants': 4619, 'bypass': 4620, 'regulatory': 4621, 'Disarmament': 4622, 'casino': 4623, 'captured': 4624, 'BJ': 4625, 'bonds': 4626, 'Lomas': 4627, 'judge': 4628, 'Machnee': 4629, 'Marco': 4630, 'jumped': 4631, 'you': 4632, 'KSE': 4633, 'Aoki': 4634, 'robbery': 4635, 'Guernsey': 4636, 'Malawi': 4637, 'publicly': 4638, 'Clavet': 4639, 'larger': 4640, 'BUSINESS': 4641, 'professional': 4642, 'fairly': 4643, 'ticket': 4644, 'debate': 4645, 'Sept': 4646, 'founded': 4647, 'renew': 4648, 'Rutter': 4649, 'highly': 4650, 'Coltart': 4651, 'CONFIRMED': 4652, 'Alvarado': 4653, 'President': 4654, 'Samsung': 4655, 'sick': 4656, 'Aalst': 4657, 'Blind': 4658, 'went': 4659, 'Those': 4660, 'Museeuw': 4661, 'deals': 4662, 'economy': 4663, 'MX': 4664, 'goalscorers': 4665, 'Bond': 4666, 'Boland': 4667, 'pence': 4668, 'gripping': 4669, 'FOB': 4670, 'Henrietta': 4671, 'commentary': 4672, 'future': 4673, 'Wimbledon': 4674, 'blocked': 4675, 'Trax': 4676, 'get': 4677, 'transmitted': 4678, 'Waugh': 4679, 'sandwich': 4680, 'Dr.': 4681, 'Shah': 4682, 'collections': 4683, 'equalised': 4684, 'strict': 4685, 'aiming': 4686, 'Berry': 4687, 'powerful': 4688, 'Aides': 4689, 'October': 4690, 'Yugoslavia': 4691, 'trim': 4692, 'Swift': 4693, 'Sunday': 4694, 'SIGN': 4695, 'Ostrava': 4696, 'powers': 4697, 'Coceres': 4698, 'Detroit': 4699, 'moves': 4700, 'containing': 4701, 'attention': 4702, '**': 4703, 'Saudi': 4704, 'shall': 4705, 'station': 4706, 'painted': 4707, 'Kulti': 4708, 'hot': 4709, 'SUPPLY': 4710, 'naked': 4711, 'Earnings': 4712, 'methods': 4713, 'yen': 4714, 'manage': 4715, 'departments': 4716, 'romp': 4717, 'rights': 4718, 'halftime': 4719, 'Mr.': 4720, 'outstanding': 4721, 'Prodi': 4722, 'Akron': 4723, 'Finnish': 4724, 'medium': 4725, 'show': 4726, 'Jonas': 4727, 'generation': 4728, 'Aviv': 4729, 'slept': 4730, 'Bertram': 4731, 'Uganda': 4732, 'high-profile': 4733, 'Olofsson': 4734, 'rating': 4735, 'Karpaty': 4736, 'stability': 4737, 'two-year': 4738, 'misfortune': 4739, 'drop': 4740, 'Derby': 4741, 'Slovan': 4742, 'Forwards': 4743, 'partners': 4744, 'snapping': 4745, 'Frana': 4746, 'explosive': 4747, 'Hever': 4748, 'leadership': 4749, 'Barros': 4750, 'beginning': 4751, 'section': 4752, 'guarded': 4753, 'Irvine': 4754, 'Bayern': 4755, 'Testud': 4756, 'Hurricane': 4757, 'warehouses': 4758, 'reading': 4759, 'Key': 4760, 'NSDAP-AO': 4761, 'da': 4762, 'next': 4763, 'glass': 4764, 'restructure': 4765, 'volume': 4766, 'Amsterdam': 4767, 'NIS': 4768, 'network': 4769, 'liberal': 4770, 'Narciso': 4771, 'Davis': 4772, 'pound': 4773, 'LISBON': 4774, 'photographer': 4775, 'Jeff': 4776, 'Police': 4777, 'proportion': 4778, 'Of': 4779, 'Next': 4780, 'due': 4781, 'share': 4782, 'kill': 4783, 'MT': 4784, 'married': 4785, 'Latin': 4786, 'letters': 4787, 'EDGE': 4788, 'sight': 4789, 'Malcolm': 4790, 'arising': 4791, 'bringing': 4792, 'Larry': 4793, 'pro-government': 4794, 'battle': 4795, 'winners': 4796, 'Kytolehto': 4797, 'Peace': 4798, 'Fairbrother': 4799, 'discussed': 4800, 'Dahl': 4801, 'multi-party': 4802, 'recommendation': 4803, 'exchanges': 4804, 'consensus': 4805, 'structured': 4806, 'Shimon': 4807, 'served': 4808, 'number': 4809, 'LEEDS': 4810, 'Hanson': 4811, 'beyond': 4812, 'federal': 4813, 'issues': 4814, 'used': 4815, 'Aug': 4816, 'passer-by': 4817, 'Gasoline': 4818, 'Manchester': 4819, 'Genk': 4820, 'PROVS': 4821, 'claim': 4822, 'captivity': 4823, 'cancelled': 4824, 'Ganguly': 4825, 'daughter': 4826, 'neighbour': 4827, 'finished': 4828, 'boats': 4829, 'storming': 4830, 'Said': 4831, 'Batistuta': 4832, 'covered': 4833, 'T$': 4834, 'represent': 4835, 'shooting': 4836, 'Brokers': 4837, 'Novak': 4838, 'Arch': 4839, 'States': 4840, 'Hutton': 4841, 'rebel-held': 4842, 'LUNCH': 4843, 'surprise': 4844, 'Tacis': 4845, 'arson': 4846, 'membership': 4847, 'Vivit': 4848, 'ranging': 4849, 'poisoning': 4850, 'Suarez': 4851, 'pension': 4852, 'YR': 4853, 'mark': 4854, 'occupied': 4855, 'Nasdaq': 4856, 'Yihye': 4857, 'quarter': 4858, 'pneumonia': 4859, 'Ankara': 4860, 'trillion': 4861, 'competitors': 4862, 'consecutive': 4863, 'Telecommunications': 4864, 'earnings': 4865, 'one-day': 4866, 'finding': 4867, 'filed': 4868, 'Houteman': 4869, 'Calif.': 4870, 'Alexander': 4871, 'BARLEY': 4872, 'expecting': 4873, 'Celica': 4874, 'Malik': 4875, 'announces': 4876, 'tighten': 4877, 'Miguel': 4878, 'introduction': 4879, 'BRAZIL': 4880, 'Tansu': 4881, 'Gogele': 4882, 'Shen': 4883, 'Assistant': 4884, 'fundamentals': 4885, 'being': 4886, 'Super': 4887, 'Birnberg': 4888, 'Prix': 4889, 'PULL': 4890, 'CARACAS': 4891, 'Keith': 4892, 'Habsudova': 4893, 'singles': 4894, 'champion': 4895, 'AS-SAFIR': 4896, 'automation': 4897, 'metres': 4898, 'General': 4899, 'Tulio': 4900, 'Hamas': 4901, 'DEM': 4902, 'snapped': 4903, 'crowds': 4904, 'Hu': 4905, 'reserve': 4906, 'aboard': 4907, 'Ukyo': 4908, 'Torpedo': 4909, 'routine': 4910, 'CALL': 4911, 'Alec': 4912, 'Swindon': 4913, 'involved': 4914, 'unseeded': 4915, 'criminals': 4916, 'proceed': 4917, 'Batumi': 4918, 'Shehu': 4919, 'entirely': 4920, 'If': 4921, 'District': 4922, 'class': 4923, 'Ryder': 4924, 'Topolcany': 4925, 'Sachin': 4926, 'Sen': 4927, 'protects': 4928, 'severely': 4929, 'here': 4930, 'Whitehurst': 4931, 'logging': 4932, 'live': 4933, 'Ballanger': 4934, 'refined': 4935, 'basic': 4936, 'existing': 4937, 'Close': 4938, 'BOGOTA': 4939, 'supervise': 4940, 'install': 4941, 'returned': 4942, 'indigenous': 4943, 'current': 4944, 'x': 4945, 'fired': 4946, 'GRAND': 4947, 'lands': 4948, 'puts': 4949, 'controversy': 4950, 'NET': 4951, 'lower': 4952, 'concerning': 4953, 'Baird': 4954, 'scores': 4955, 'cooperating': 4956, 'participation': 4957, 'run-scoring': 4958, 'faults': 4959, 'covering': 4960, 'Airbus': 4961, 'Mets': 4962, 'heart': 4963, 'Byas': 4964, 'GAN': 4965, 'HEESWIJK': 4966, 'Microsystems': 4967, 'criticising': 4968, 'Bohemians': 4969, 'hundreds': 4970, 'belted': 4971, 'wild-card': 4972, 'Koninklijke': 4973, 'supposedly': 4974, 'Petah': 4975, 'Saddam': 4976, 'movement': 4977, 'probe': 4978, 'either': 4979, 'NATO': 4980, 'Botham': 4981, 'Asa': 4982, 'Moussa': 4983, 'Crookes': 4984, 'Saleh': 4985, 'dn': 4986, 'Lord': 4987, 'Thailand': 4988, 'mutton': 4989, 'coalition': 4990, 'Zealands': 4991, 'header': 4992, 'suffered': 4993, 'Spartak': 4994, 'Res': 4995, 'Dier': 4996, 'Free': 4997, 'front': 4998, 'witnesses': 4999, 'Caribbean': 5000, 'Zairean': 5001, 'Lens': 5002, 'may': 5003, 'Islamic': 5004, 'Artur': 5005, 'ancestors': 5006, 'drivers': 5007, 'shortly': 5008, 'six-party': 5009, 'Motor': 5010, 'batters': 5011, 'Parliament': 5012, 'Neths': 5013, 'Aravinda': 5014, 'alleging': 5015, 'Illinois': 5016, 'proved': 5017, 'Commercial': 5018, 'obtained': 5019, 'Anne': 5020, 'Dm': 5021, 'largest': 5022, 'Donovan': 5023, 'seven': 5024, 'drove': 5025, 'Support': 5026, 'Stranraer': 5027, 'Tries': 5028, 'chaos': 5029, 'picture': 5030, 'persuade': 5031, 'trade': 5032, 'upside': 5033, 'Bodo': 5034, 'defied': 5035, 'Armed': 5036, 'Television': 5037, 'carried': 5038, 'Szymanski': 5039, 'tensions': 5040, 'ASUU': 5041, 'destroyed': 5042, 'Stocks': 5043, 'Barnet': 5044, 'Mir': 5045, 'Collstrop': 5046, 'West': 5047, '=': 5048, 'led': 5049, 'Hincapie': 5050, 'developed': 5051, 'speaks': 5052, 'acquiring': 5053, 'Carlisle': 5054, 'ask': 5055, 'reversed': 5056, 'Marcus': 5057, 'troop': 5058, 'month': 5059, 'Sun': 5060, 'controls': 5061, 'permission': 5062, 'humans': 5063, 'Jacqueline': 5064, 'Mladost': 5065, 'ATHLETICS': 5066, 'Lommel': 5067, 'Franz': 5068, 'Hawthorn': 5069, 'personnel': 5070, 'ISLAMABAD': 5071, 'Ronan': 5072, 'Jans': 5073, 'testosterone': 5074, 'SIGNS': 5075, 'NCB': 5076, 'Berlex': 5077, 'extremely': 5078, 'Towers': 5079, 'Rdainah': 5080, 'LANKA': 5081, 'survived': 5082, 'Haarhuis': 5083, 'Waqar': 5084, 'Omar': 5085, 'Yemen': 5086, 'told': 5087, 'debut': 5088, 'almost': 5089, 'Land': 5090, 'rocks': 5091, 'EEC': 5092, 'rise': 5093, 'wholly-owned': 5094, 'Curran': 5095, 'VW': 5096, 'party': 5097, 'yielded': 5098, 'cattle': 5099, 'Exports': 5100, 'Chi': 5101, 'Cuthbert': 5102, 'PLAYERS': 5103, 'Illingworth': 5104, 'appealed': 5105, 'path': 5106, 'sharply': 5107, 'centres': 5108, 'Grabowski': 5109, 'adequate': 5110, 'infighting': 5111, 'Evelyn': 5112, 'select': 5113, 'Spitzbergen': 5114, 'embassy': 5115, 'Jewell': 5116, 'pulp': 5117, 'vs.': 5118, 'Gordon': 5119, 'Vaduz': 5120, 'Companies': 5121, 'JAS': 5122, 'Faldo': 5123, 'fails': 5124, 'holding': 5125, 'Cercle': 5126, 'drought': 5127, 'lei': 5128, 'banners': 5129, 'Rugby': 5130, 'their': 5131, 'bar': 5132, 'OHIO': 5133, 'Order': 5134, 'Misael': 5135, 'Alexandrou': 5136, 'welfare': 5137, 'three-man': 5138, 'feasible': 5139, 'Shareholders': 5140, 'strain': 5141, 'fly-half': 5142, 'top-level': 5143, 'presidency': 5144, 'registered': 5145, 'oversold': 5146, 'she': 5147, 'Roshan': 5148, 'priority': 5149, 'Clemens': 5150, 'Polish': 5151, 'Mike': 5152, 'second-round': 5153, 'ways': 5154, 'store': 5155, 'opinion': 5156, 'prominent': 5157, 'Mouscron': 5158, 'Symonds': 5159, 'campaign': 5160, 'automatic': 5161, 'Burundi': 5162, 'Judith': 5163, 'Antoine': 5164, 'tomb': 5165, 'LIBOR': 5166, 'Lows': 5167, 'clinch': 5168, 'correct': 5169, 'Rate': 5170, 'Jackson': 5171, 'respirator': 5172, 'CRASH': 5173, 'hearts': 5174, 'Mass': 5175, 'Escort': 5176, 'addiction': 5177, 'RED': 5178, 'Ali': 5179, 'Andrews': 5180, 'Zenit': 5181, 'Martin': 5182, 'advances': 5183, 'pull': 5184, 'Serb-controlled': 5185, 'self-rule': 5186, 'organising': 5187, 'promising': 5188, 'measuring': 5189, 'pesos': 5190, 'VfB': 5191, 'Ljubljana': 5192, 'propose': 5193, 'Minneapolis': 5194, 'reintegration': 5195, 'Guinea': 5196, 'Astros': 5197, 'offshore': 5198, 'avoided': 5199, 'coaches': 5200, 'Boeing': 5201, 'spite': 5202, 'fellow': 5203, 'Chonbuk': 5204, 'range': 5205, 'Taylor': 5206, 'Leopold': 5207, 'deny': 5208, 'peasants': 5209, 'healthcare': 5210, 'tonnage': 5211, 'nowhere': 5212, 'thieves': 5213, 'sell-off': 5214, 'harassed': 5215, 'sides': 5216, 'Emnid': 5217, 'Debrecen': 5218, 'reports': 5219, 'Brett': 5220, 'brain': 5221, 'BEAT': 5222, 'thing': 5223, 'crop': 5224, 'cities': 5225, 'Hogg': 5226, 'pre-tax': 5227, 'Revs': 5228, 'Corey': 5229, 'BALTIMORE': 5230, 'better': 5231, 'Bruno': 5232, 'SPREAD': 5233, 'refugees': 5234, 'Knight': 5235, 'Cocu': 5236, 'unit': 5237, 'Ruth': 5238, 'determine': 5239, 'billet': 5240, 'Chg': 5241, 'Head': 5242, 'Montgomerie': 5243, 'Fuel': 5244, 'hinted': 5245, 'Ryan': 5246, 'made': 5247, 'wants': 5248, 'Cesar': 5249, 'trial': 5250, 'insight': 5251, 'DAC': 5252, 'Yasser': 5253, 'vouch': 5254, 'Juergen': 5255, 'Medical': 5256, 'hunt': 5257, 'lawyer': 5258, 'Turner': 5259, 'MONTPELIER': 5260, 'after': 5261, 'broader': 5262, 'wheat': 5263, 'Ronnie': 5264, 'Investigation': 5265, 'budget': 5266, 'Rabbani': 5267, 'inspection': 5268, 'Nice': 5269, 'Morinville': 5270, 'retail': 5271, 'Gul': 5272, 'sexual': 5273, 'Rafferty': 5274, 'major-league': 5275, 'second-longest': 5276, 'par': 5277, 'Tony': 5278, 'Canadian': 5279, 'Fabien': 5280, 'Commodities': 5281, 'dip': 5282, 'ING': 5283, 'turn': 5284, 'volcano': 5285, 'sex': 5286, 'holes': 5287, 'groin': 5288, 'Porto': 5289, 'bush': 5290, 'congressmen': 5291, 'Bulgaria': 5292, 'Matsuoka': 5293, 'Fujiwara': 5294, 'Hoch': 5295, 'spying': 5296, 'Business': 5297, 'roubles': 5298, 'catch': 5299, 'Vladimir': 5300, 'CAIRO': 5301, 'paint': 5302, 'mill': 5303, 'commodity': 5304, 'infusion': 5305, 'Sorensen': 5306, 'Expected': 5307, 'ERA': 5308, 'Democracy': 5309, 'living': 5310, 'Czech': 5311, 'Bridge': 5312, 'Dunfermline': 5313, 'Claydon': 5314, 'Pelletreau': 5315, 'EPA': 5316, 'manner': 5317, 'fob': 5318, 'behaviour': 5319, 'semifinal': 5320, 'PUT': 5321, 'In': 5322, 'her': 5323, 'rival': 5324, 'Milwaukee': 5325, 'Tobago': 5326, 'grandparents': 5327, 'speculated': 5328, 'seventh': 5329, 'batting': 5330, 'account': 5331, 'JV': 5332, 'interested': 5333, 'dyed': 5334, 'newsroom': 5335, 'adopt': 5336, 'quality': 5337, 'rent': 5338, 'Karl': 5339, 'Piotti': 5340, 'leader': 5341, 'Roda': 5342, 'Louis': 5343, 'B.': 5344, 'Ruutel': 5345, 'Jews': 5346, 'overhaul': 5347, 'PRICE': 5348, 'Sao': 5349, 'approves': 5350, 'Guard': 5351, 'Alberto': 5352, 'explain': 5353, 'reconvene': 5354, 'Spot': 5355, 'M&R': 5356, 'rib': 5357, 'empty': 5358, 'named': 5359, 'Breukink': 5360, 'Angeles': 5361, 'policy': 5362, 'matters': 5363, 'watching': 5364, 'IRISH': 5365, 'Cowan': 5366, 'imprisoned': 5367, 'insurer': 5368, 'Abu': 5369, 'Variety': 5370, 'aluminum': 5371, 'Rangarajan': 5372, 'cm': 5373, 'Bunol': 5374, 'Heart': 5375, 'Ruch': 5376, 'SLAM': 5377, 'removed': 5378, 'S$': 5379, 'appears': 5380, 'chairman': 5381, 'influence': 5382, 'Vaughan': 5383, 'age': 5384, 'so': 5385, 'Economy': 5386, 'Poznan': 5387, 'Afghanistan': 5388, 'Steeb': 5389, 'memory': 5390, 'Gyaicain': 5391, 'families': 5392, 'WARWICKSHIRE': 5393, 'Voskamp': 5394, 'uneven': 5395, 'Ivory': 5396, 'cannon': 5397, 'NEGOCIOS': 5398, 'game': 5399, 'Tatran': 5400, 'girlfriend': 5401, 'Chorzow': 5402, 'communists': 5403, 'airports': 5404, 'Indonesian': 5405, 'Marsh': 5406, 'Wisla': 5407, 'worrying': 5408, 'developing': 5409, 'reopening': 5410, 'effort': 5411, 'identify': 5412, 'Eriksson': 5413, 'SA': 5414, 'forwarded': 5415, 'united': 5416, 'Angel': 5417, 'implementation': 5418, 'centred': 5419, 'through': 5420, 'firmer': 5421, 'blank': 5422, 'paedophile': 5423, 'Vermont': 5424, 'lightning': 5425, 'Ricky': 5426, 'strongly': 5427, 'Tax': 5428, 'passport': 5429, 'tubes': 5430, 'nurse': 5431, 'ran': 5432, 'School': 5433, 'IHC': 5434, 'Truth': 5435, 'MANAGUA': 5436, 'leg': 5437, 'BELGIAN': 5438, \"O'Neill\": 5439, 'replying': 5440, 'pursue': 5441, 'FORCE': 5442, 'info': 5443, 'Arnhem': 5444, 'Gaza': 5445, 'damage': 5446, 'Chemlon': 5447, 'Affairs': 5448, 'visas': 5449, 'Apple': 5450, 'Rodney': 5451, 'proposes': 5452, 'violation': 5453, 'thinks': 5454, 'widespread': 5455, 'Helena': 5456, 'transferred': 5457, 'referendum': 5458, 'Cooperative': 5459, 'Duesseldorf': 5460, 'Java': 5461, 'Bragantino': 5462, 'trickle': 5463, 'Bolton': 5464, 'manufacturer': 5465, 'architect': 5466, 'Rush': 5467, 'return': 5468, 'AOL': 5469, 'Continental': 5470, 'disrupt': 5471, 'Barbara': 5472, 'Reform': 5473, 'husband': 5474, 'Among': 5475, 'cushion': 5476, 'Farm': 5477, 'designated': 5478, 'princess': 5479, 'application': 5480, 'MTK': 5481, 'tampering': 5482, 'hunting': 5483, 'comprehensive': 5484, 'Nicaragua': 5485, 'mile': 5486, 'Benes': 5487, 'memorandum': 5488, 'contention': 5489, 'Renk': 5490, 'SALES': 5491, 'Montpellier': 5492, 'politically': 5493, 'row': 5494, 'Wigan': 5495, 'Rican': 5496, \"O'Brien\": 5497, 'researchers': 5498, 'Lech': 5499, 'Basque': 5500, 'telecommunications': 5501, 'Pennsylvania': 5502, 'Arbroath': 5503, 'Christchurch': 5504, 'BEIJING': 5505, 'Federal': 5506, 'Tass': 5507, 'UP': 5508, 'giant': 5509, 'Ilie': 5510, 'American': 5511, 'McNamara': 5512, 'right-field': 5513, 'Alexandre': 5514, 'wounding': 5515, 'barge': 5516, 'owing': 5517, 'dead': 5518, 'DeJesus': 5519, 'an': 5520, 'HINA': 5521, 'Nearly': 5522, 'DNS': 5523, 'hardware': 5524, 'Dealers': 5525, 'hogs': 5526, 'altered': 5527, 'DIVISION': 5528, 'highlights': 5529, 'Gras': 5530, 'Transportation': 5531, 'Drakes': 5532, 'Four': 5533, 'vote': 5534, 'Gurion': 5535, 'guerrillas': 5536, 'Securities': 5537, 'Nicol': 5538, 'water': 5539, 'fence': 5540, 'THIRD': 5541, 'DIEGO': 5542, 'keenness': 5543, 'Academy': 5544, 'principal': 5545, 'Martina': 5546, 'Despite': 5547, 'Aviation': 5548, 'potential': 5549, 'Milinko': 5550, 'fine': 5551, 'Supreme': 5552, 'transmission': 5553, 'Woolmer': 5554, 'contract': 5555, 'Boys': 5556, 'chest': 5557, 'felons': 5558, 'Lille': 5559, 'disposable': 5560, 'chief-of-staff': 5561, 'says': 5562, 'late': 5563, 'set-top': 5564, 'crisis': 5565, 'constitutional': 5566, 'poll': 5567, 'waste': 5568, 'Mandela': 5569, 'karbovanets': 5570, 'supplies': 5571, 'Randy': 5572, 'Another': 5573, 'fact': 5574, 'acct': 5575, 'Shopkeepers': 5576, 'expresses': 5577, 'unity': 5578, 'modem': 5579, 'Cardinals': 5580, 'benchmark': 5581, 'marketplace': 5582, 'Commonwealth': 5583, 'SUMMARIES': 5584, 'Building': 5585, 'rock': 5586, 'looks': 5587, 'Prices': 5588, 'Pyman': 5589, 'approach': 5590, 'route': 5591, 'surrendered': 5592, 'Lefevre': 5593, 'rumours': 5594, 'trucked': 5595, 'fallen': 5596, 'dividend': 5597, 'Bids': 5598, 'analysts': 5599, 'computer': 5600, 'Oksana': 5601, 'Representatives': 5602, 'until': 5603, 'Showers': 5604, 'intent': 5605, 'Karak': 5606, 'prefer': 5607, 'drowned': 5608, 'Ginn': 5609, 'OPEN': 5610, 'Cruz': 5611, 'Agency': 5612, 'Ian': 5613, 'Working': 5614, 'prostitutes': 5615, 'thousands': 5616, 'opponents': 5617, 'ahead': 5618, 'markka': 5619, 'investigated': 5620, 'Baltika': 5621, 'official': 5622, 'address': 5623, 'Graeme': 5624, 'land': 5625, 'earns': 5626, 'Graf': 5627, 'Ferrari': 5628, 'Aberdeen': 5629, 'Survey': 5630, 'Khadga': 5631, 'Havel': 5632, 'Hubner': 5633, 'popular': 5634, 'hardship': 5635, 'designed': 5636, 'strength': 5637, 'CARLSBAD': 5638, 'bourses': 5639, 'pensions': 5640, 'trading': 5641, 'Croatian': 5642, 'associated': 5643, 'begin': 5644, 'maximum': 5645, 'using': 5646, 'Red': 5647, 'Recife': 5648, 'committee': 5649, 'because': 5650, 'prompt': 5651, 'too': 5652, 'selectors': 5653, 'lady': 5654, 'attacked': 5655, 'contacted': 5656, 'Around': 5657, 'promise': 5658, 'Ferhaoui': 5659, 'enforcement': 5660, 'Summary': 5661, 'Karvina': 5662, 'hardest': 5663, 'Sameh': 5664, 'shots': 5665, 'mummies': 5666, 'yet': 5667, 'commodities': 5668, 'Brewers': 5669, 'bring': 5670, 'disclosed': 5671, 'emissions': 5672, 'Schneider': 5673, 'nevertheless': 5674, 'governor': 5675, 'indefinitely': 5676, 'sheepmeat': 5677, 'doctors': 5678, 'Canonica': 5679, 'rammed': 5680, 'Postponed': 5681, 'interview': 5682, 'blacks': 5683, 'Manuel': 5684, 'lawyers': 5685, 'YUGOSLAV': 5686, 'Graham': 5687, 'productivity': 5688, 'Bobby': 5689, 'Office': 5690, 'steered': 5691, 'Marino': 5692, 'criticized': 5693, 'Freeport': 5694, 'purchasers': 5695, 'businessman': 5696, 'RBA': 5697, 'ODV': 5698, 'Riel': 5699, 'look': 5700, 'damp': 5701, 'Tamils': 5702, 'Jansher': 5703, 'sidelines': 5704, 'conceded': 5705, 'Charleston': 5706, 'aware': 5707, 'Atlante': 5708, 'FINANCIAL': 5709, 'Ukrainian': 5710, 'trainer': 5711, 'lobby': 5712, 'Wheat': 5713, 'Purepac': 5714, 'type': 5715, 'greater': 5716, 'Wisconsin': 5717, 'Lyman': 5718, 'option': 5719, 'Seve': 5720, 'Radical': 5721, 'Maarten': 5722, 'championships': 5723, 'announcement': 5724, 'signature': 5725, 'Quarter-finals': 5726, 'Coers': 5727, 'reshuffle': 5728, 'drink': 5729, 'Nomo': 5730, 'praying': 5731, 'Morris': 5732, 'departure': 5733, 'claimed': 5734, 'bordering': 5735, 'Ealham': 5736, 'awarded': 5737, 'internationals': 5738, 'Euro': 5739, 'canal': 5740, 'Thierry': 5741, 'Snyman': 5742, 'confiscated': 5743, 'raids': 5744, 'Weather': 5745, 'Hendrix': 5746, 'Dutroux': 5747, 'migration': 5748, 'Hill': 5749, 'medal': 5750, 'farce': 5751, 'Oct': 5752, 'Srebrenica': 5753, 'Garang': 5754, 'NYMEX': 5755, 'followers': 5756, 'Featherstone': 5757, 'Beach': 5758, 'procedures': 5759, 'WEDNESDAY': 5760, 'third': 5761, 'squad': 5762, 'unsecured': 5763, 'Megawati': 5764, 'post-match': 5765, 'MARINO': 5766, 'notes': 5767, 'remaining': 5768, 'Rifkind': 5769, 'surplus': 5770, 'Buyoya': 5771, 'Novorossiisk': 5772, 'seasons': 5773, 'King': 5774, 'Jiri': 5775, 'locally': 5776, 'unrest': 5777, 'delivery': 5778, 'UAG': 5779, 'nil': 5780, 'allegedly': 5781, 'also': 5782, 'Football': 5783, 'sessions': 5784, 'spending': 5785, 'House': 5786, 'capable': 5787, 'Average': 5788, 'Nelson': 5789, 'Wim': 5790, 'frustrated': 5791, 'highs': 5792, 'refugee': 5793, 'One-month': 5794, 'lengthy': 5795, 'Chua': 5796, 'NEWS': 5797, 'Swiss': 5798, 'shrub': 5799, 'Selection': 5800, 'Fleming': 5801, 'Party': 5802, 'FTSE': 5803, 'Privalova': 5804, 'buy': 5805, 'Sarah': 5806, 'European': 5807, 'stood': 5808, 'Wilson': 5809, 'clash': 5810, 'Fogarty': 5811, 'Streak': 5812, 'Zvornik': 5813, 'pretty': 5814, 'announce': 5815, 'Clinton': 5816, 'AMR': 5817, 'Sale': 5818, 'difficulties': 5819, 'Saudis': 5820, 'programmes': 5821, 'Awami': 5822, 'Estonian': 5823, 'British-based': 5824, 'Eichmann': 5825, 'recomposed': 5826, 'sued': 5827, 'burned': 5828, 'SV': 5829, 'Warwickshire': 5830, 'Duff': 5831, 'pellets': 5832, 'Apertura': 5833, 'inventories': 5834, 'SPD': 5835, 'Eddie': 5836, 'Waalwijk': 5837, 'Jul': 5838, 'mistakes': 5839, 'Voting': 5840, 'newsprint': 5841, 'ought': 5842, 'Court': 5843, 'cruised': 5844, 'secession': 5845, 'mutual': 5846, 'Rolf': 5847, 'EXPANSION': 5848, 'moisture': 5849, 'guidance': 5850, 'catches': 5851, 'Vladikavkaz': 5852, 'destruction': 5853, 'hits': 5854, 'Country': 5855, 'Movement': 5856, 'YR-AGO': 5857, 'PRETORIA': 5858, 'cleaning': 5859, 'program': 5860, 'delayed': 5861, 'Council': 5862, 'myth': 5863, 'routed': 5864, 'AD-DIYAR': 5865, 'Russian-Chechen': 5866, 'visits': 5867, 'Franny': 5868, 'Wodzislaw': 5869, 'Mantilla': 5870, 'Impossible': 5871, 'Duisberg': 5872, 'praises': 5873, 'Robinson': 5874, 'request': 5875, 'Koech': 5876, 'Cristina': 5877, 'Macedonian': 5878, 'Cruise': 5879, 'Brno': 5880, 'Yeltsin': 5881, 'crucial': 5882, 'Baptist': 5883, 'Stuart': 5884, 'violating': 5885, 'Thomas': 5886, 'expired': 5887, 'LEAD': 5888, 'reviews': 5889, 'currency': 5890, 'involve': 5891, 'Springboks': 5892, 'place': 5893, 'flowing': 5894, 'Centre': 5895, 'rulers': 5896, 'dark': 5897, 'unearthed': 5898, 'tolerance': 5899, 'background': 5900, 'differences': 5901, 'Popular': 5902, 'Once': 5903, 'missed': 5904, 'capital': 5905, 'Mulder': 5906, 'destined': 5907, 'plays': 5908, 'Julio': 5909, 'capitalisation': 5910, 'reduction': 5911, 'Coetzee': 5912, 'threatened': 5913, 'stone': 5914, 'have': 5915, 'Edward': 5916, 'Moada': 5917, 'Halifax': 5918, 'Spiring': 5919, 'system': 5920, 'slaughter': 5921, 'paying': 5922, 'airliner': 5923, 'Organisers': 5924, 'gap': 5925, 'ARGENTINE': 5926, 'Transkaryotic': 5927, 'worries': 5928, 'discovery': 5929, 'Gough': 5930, 'Blackburn': 5931, 'undermine': 5932, 'tower': 5933, 'Toronto-based': 5934, 'EPR': 5935, 'Alfred': 5936, 'all': 5937, 'Adrian': 5938, 'Kuchma': 5939, 'Neamt': 5940, 'Escravos': 5941, 'days': 5942, 'franc': 5943, 'compatriot': 5944, 'Alessandro': 5945, 'parent': 5946, 'Humberto': 5947, 'Jonathan': 5948, 'toward': 5949, 'flat': 5950, 'minor': 5951, 'Producer': 5952, 'eco-terrorism': 5953, 'OVER': 5954, 'Zastava': 5955, 'socialist': 5956, 'great': 5957, 'Etruria': 5958, 'basis': 5959, 'hamstring': 5960, 'Loznica': 5961, 'shipments': 5962, 'Arnold': 5963, 'Colonel': 5964, 'Stafford': 5965, 'Perhaps': 5966, 'hired': 5967, 'flights': 5968, 'Treasury': 5969, '------------------------': 5970, 'interior': 5971, 'Abbott': 5972, 'insurgency': 5973, 'Silver': 5974, 'Hooper': 5975, 'Nicolas': 5976, 'pardoned': 5977, 'FIORENTINA': 5978, 'growing': 5979, 'effects': 5980, 'mining': 5981, 'Disease': 5982, 'Call': 5983, 'P': 5984, 'Footscray': 5985, 'forms': 5986, 'forever': 5987, 'faded': 5988, 'forma': 5989, 'always': 5990, 'Financial': 5991, 'emotional': 5992, 'Quarterly': 5993, 'Tanya': 5994, 'TVX': 5995, 'Daschle': 5996, 'safe': 5997, 'Premier': 5998, 'warfare': 5999, 'happen': 6000, 'EXER': 6001, 'SOUTH': 6002, 'Grande': 6003, 'disclosure': 6004, 'coal': 6005, 'Arce': 6006, 'Matthews': 6007, 'Max': 6008, 'Mother': 6009, 'mice': 6010, 'Lincoln': 6011, 'fiscal': 6012, 'Dostum': 6013, 'hat-trick': 6014, 'thought': 6015, 'Simian': 6016, 'priest': 6017, 'Hall': 6018, 'Loren': 6019, 'defends': 6020, 'Brady': 6021, 'support': 6022, 'Al': 6023, 'Mahanama': 6024, 'bridge': 6025, 'spate': 6026, 'should': 6027, 'towed': 6028, 'us': 6029, 'targeted': 6030, 'Saeed': 6031, 'assembly': 6032, 'UK': 6033, 'Shadab': 6034, 'encephalopathy': 6035, 'Italian': 6036, 'MAJ': 6037, 'Ottey': 6038, 'participants': 6039, 'celebrate': 6040, 'India': 6041, 'Eugene': 6042, 'fictitious': 6043, 'pts': 6044, 'Mills': 6045, 'putting': 6046, 'off': 6047, 'SQUAD': 6048, 'electoral': 6049, 'stocks': 6050, 'Ray': 6051, 'the': 6052, 'Lithuania': 6053, 'spoke': 6054, 'Guarani': 6055, 'Andy': 6056, 'caught': 6057, 'fiasco': 6058, 'prerequisite': 6059, 'Mullally': 6060, 'skirmish': 6061, 'Soymeal': 6062, 'impunity': 6063, 'Kinross': 6064, 'Total': 6065, 'Haifa': 6066, 'networking': 6067, 'average': 6068, 'Comprehensive': 6069, 'Zabrze': 6070, 'every': 6071, 'Thomson': 6072, 'Belgian': 6073, 'Hajduk': 6074, 'wrist': 6075, 'sudden': 6076, 'Bury': 6077, 'Victoria': 6078, 'experienced': 6079, 'backed': 6080, 'shoes': 6081, 'lasting': 6082, 'receding': 6083, 'Parry': 6084, 'Montreal': 6085, 'Ikimi': 6086, 'teams': 6087, 'patients': 6088, 'offices': 6089, 'Boogert': 6090, 'Jaime': 6091, 'guilders': 6092, 'evacuate': 6093, 'Dutra': 6094, 'scientists': 6095, 'Times-Stock': 6096, 'allowing': 6097, 'ORIOLES': 6098, 'autobiography': 6099, 'Loxley': 6100, 'Ruxandra': 6101, 'Lugano': 6102, 'Missionary': 6103, 'wounds': 6104, 'Games': 6105, 'withdraw': 6106, 'Rainier': 6107, 'troops': 6108, 'Women': 6109, 'Bergen': 6110, 'Nairobi': 6111, 'subpoenaed': 6112, 'breaker': 6113, 'fitted': 6114, 'Republican': 6115, 'Second': 6116, 'SUPERBIKE': 6117, 'Newcastle': 6118, 'Grasshopper': 6119, 'ranks': 6120, 'Roosevelt': 6121, 'Norwegian': 6122, 'executive': 6123, 'SEA': 6124, 'adviser': 6125, 'Trust': 6126, 'opened': 6127, 'engine': 6128, 'independent': 6129, 'plot': 6130, 'McCarron': 6131, 'Ceske': 6132, 'matches': 6133, 'components': 6134, 'guest': 6135, 'aluminium': 6136, 'organisation': 6137, 'applied': 6138, 'Ravindra': 6139, 'Sharpe': 6140, 'movements': 6141, 'Salisbury': 6142, 'Gates': 6143, 'Guinean': 6144, 'western': 6145, 'administered': 6146, 'race': 6147, 'G.': 6148, 'dealt': 6149, 'Markov': 6150, 'nation': 6151, 'floor': 6152, 'quit': 6153, 'moral': 6154, 'Danish': 6155, 'Weld': 6156, 'STAGE': 6157, 'racist': 6158, 'drifted': 6159, 'Heiko': 6160, 'warm-up': 6161, 'Baldwin': 6162, 'final': 6163, 'Richardt': 6164, 'optimistic': 6165, 'famed': 6166, 'Rakow': 6167, 'consulted': 6168, 'Simmons': 6169, 'Jonzon': 6170, 'batsman': 6171, 'Varazdin': 6172, 'Indians': 6173, 'reportedly': 6174, 'expense': 6175, 'Several': 6176, 'Christopher': 6177, 'Gross': 6178, 'Boraine': 6179, 'c': 6180, 'requires': 6181, 'Klas': 6182, 'Plc': 6183, 'Shkirko': 6184, 'Simpson': 6185, 'Alaska': 6186, 'Medicaid': 6187, 'monitor': 6188, 'approval': 6189, 'heirs': 6190, 'der': 6191, 'Apr': 6192, 'arrange': 6193, 'Etchebarren': 6194, 'tennis': 6195, 'BSE': 6196, 'Chapman': 6197, 'Singapore': 6198, 'Chilean': 6199, 'highway': 6200, 'Paramount': 6201, 'Expectations': 6202, 'tour': 6203, 'east': 6204, 'Canberra': 6205, 'perform': 6206, 'reflects': 6207, 'Verona': 6208, 'Lausberg': 6209, 'trln': 6210, 'rolls': 6211, 'testimony': 6212, 'gave': 6213, 'goodwill': 6214, 'Olsza': 6215, 'STATE': 6216, 'surging': 6217, 'Cardiff': 6218, 'buses': 6219, 'Aaxis': 6220, 'David': 6221, 'especially': 6222, 'Akram': 6223, 'premature': 6224, 'Pessina': 6225, \"n't\": 6226, 'midweek': 6227, 'loss': 6228, 'filming': 6229, 'well-known': 6230, 'key': 6231, 'Scorpion': 6232, 'Miss': 6233, 'concluded': 6234, 'Lindsay': 6235, 'Rosenborg': 6236, 'tiebreaker': 6237, 'minutes': 6238, 'most': 6239, 'mixed': 6240, 'towards': 6241, 'dense': 6242, 'communities': 6243, 'SINGAPORE': 6244, 'raided': 6245, 'confidential': 6246, 'Alexandroupolis': 6247, 'Battle': 6248, 'higher': 6249, 'Queen': 6250, 'Kiely': 6251, 'contacts': 6252, 'serving': 6253, 'halls': 6254, 'months': 6255, 'nature': 6256, 'Lecce': 6257, 'Scott': 6258, 'convene': 6259, 'Kaba': 6260, 'welded': 6261, 'athletes': 6262, 'GAMES': 6263, 'shift': 6264, 'man': 6265, 'that': 6266, 'Latest': 6267, 'Hansen': 6268, 'Sampdoria': 6269, 'Alba': 6270, 'logged': 6271, 'urged': 6272, 'Any': 6273, 'brokered': 6274, 'banking': 6275, 'Roberts': 6276, 'PSA': 6277, 'Kikinda': 6278, 'Farmers': 6279, 'make': 6280, 'talks': 6281, 'contingency': 6282, 'sister': 6283, 'Fall': 6284, 'A.L.': 6285, 'MGR': 6286, 'animal': 6287, 'low': 6288, 'Finley': 6289, 'disciplinary': 6290, 'transport': 6291, 'hurdles': 6292, 'Prasad': 6293, 'Magali': 6294, 's': 6295, 'fitness': 6296, 'uncertainty': 6297, 'Coritiba': 6298, 'arrivals': 6299, 'Ried': 6300, 'Ally': 6301, 'lineup': 6302, 'Clyde': 6303, 'Cairo': 6304, 'four-day': 6305, 'Westwood': 6306, 'shipyard': 6307, 'via': 6308, 'Munich': 6309, 'murdered': 6310, 'KONG': 6311, 'Borussia': 6312, 'plastics': 6313, 'veterinary': 6314, 'savings': 6315, 'Helens': 6316, 'Franklin': 6317, 'anywhere': 6318, 'second': 6319, 'Thuet': 6320, 'dollars': 6321, 'island': 6322, 'Shr': 6323, 'SOCCER': 6324, 'Kroslak': 6325, 'MaliVai': 6326, 'coverage': 6327, 'plan': 6328, 'Toronto': 6329, 'typical': 6330, 'Santiago': 6331, 'structure': 6332, 'Angels': 6333, 'Leonard': 6334, 'favor': 6335, 'CITY': 6336, 'detective': 6337, 'colleague': 6338, 'Evert': 6339, 'opposition': 6340, 'sets': 6341, 'played': 6342, 'PREMIER': 6343, 'licences': 6344, 'dystrophy': 6345, 'believed': 6346, 'Denmark': 6347, 'alight': 6348, 'struggled': 6349, 'RUNS': 6350, 'payroll': 6351, 'Arab': 6352, 'Senior': 6353, 'off-spinner': 6354, 'miles': 6355, 'TALLINN': 6356, 'versions': 6357, 'Hodgson': 6358, 'jailed': 6359, 'Genoa': 6360, 'Front': 6361, 'broadcast': 6362, 'Texas': 6363, 'Hutnik': 6364, 'Balance': 6365, 'agents': 6366, 'steps': 6367, 'one-time': 6368, 'girl': 6369, 'opposing': 6370, 'Oslo': 6371, 'platform': 6372, 'Soccer': 6373, 'league': 6374, 'strategic': 6375, 'Company': 6376, 'Po': 6377, 'Glenwood': 6378, 'compromise': 6379, 'disappointing': 6380, 'Producers': 6381, 'Diniz': 6382, 'Ecus': 6383, 'teenaged': 6384, 'Candiotti': 6385, 'MILAN': 6386, 'China': 6387, 'WAIT': 6388, 'George': 6389, 'mummification': 6390, 'Stephanie': 6391, 'stick': 6392, 'Zylstra': 6393, 'Kubo': 6394, 'NIC': 6395, 'enquiries': 6396, 'Yigang': 6397, 'Stricker': 6398, 'Enderle': 6399, 'Victor': 6400, 'heartbeat': 6401, 'rallies': 6402, 'quarter-final': 6403, 'load': 6404, 'weeks': 6405, 'Ban': 6406, 'FITCH': 6407, 'teacup': 6408, 'major': 6409, 'backs': 6410, 'handle': 6411, 'Cargill': 6412, 'Just': 6413, 'NAC': 6414, 'Haringa': 6415, 'polls': 6416, 'aims': 6417, 'World': 6418, 'gross': 6419, 'complaint': 6420, 'six-month': 6421, 'Wells': 6422, 'JC': 6423, 'uncapped': 6424, 'additional': 6425, 'Alex': 6426, 'Wreh': 6427, 'hopefully': 6428, 'Susanto': 6429, 'grouping': 6430, 'Zhirinovsky': 6431, 'continuing': 6432, 'Southend': 6433, 'Ferreira': 6434, 'shown': 6435, 'outperform': 6436, 'overpowered': 6437, 'Matos': 6438, 'Lance': 6439, 'state-run': 6440, 'management': 6441, 'yogic': 6442, 'referee': 6443, 'dialogue': 6444, 'innings': 6445, 'Wall': 6446, 'provides': 6447, 'Aggregate': 6448, 'deliveries': 6449, 'during': 6450, 'ultimate': 6451, 'Irina': 6452, 'Fulton': 6453, 'incompetent': 6454, 'Mirhunisa': 6455, 'As': 6456, 'Prichard': 6457, 'flooding': 6458, 'PAST': 6459, 'divorced': 6460, 'Joel': 6461, 'partnership': 6462, 'informed': 6463, 'Mitsubishi': 6464, 'Cairns': 6465, 'Francis': 6466, 'Rocca': 6467, 'AFTER': 6468, 'Dieter': 6469, 'persons': 6470, 'fundamentalist': 6471, 'CheckFree': 6472, 'argued': 6473, 'Startup': 6474, 'ARA': 6475, 'Partners': 6476, 'walked': 6477, 'FK': 6478, 'Magdalena': 6479, 'neo-Nazi': 6480, 'Honved': 6481, 'exported': 6482, 'left-hander': 6483, 'knifed': 6484, 'steep': 6485, 'uphill': 6486, 'Gingrich': 6487, 'explosion': 6488, 'San': 6489, 'Hopefully': 6490, 'ENGLISH': 6491, 'Berkrot': 6492, 'facility': 6493, 'Flamengo': 6494, 'activist': 6495, 'Drug': 6496, 'successful': 6497, 'introduce': 6498, 'fewer': 6499, 'Indra': 6500, 'Berger': 6501, 'Ricardo': 6502, 'Breda': 6503, 'manuscript': 6504, 'position': 6505, 'timetable': 6506, 'Suzuki': 6507, 'FRONT': 6508, 'HORSE': 6509, 'Ohio': 6510, 'rhetoric': 6511, 'ago': 6512, 'Prague': 6513, 'applications': 6514, 'represented': 6515, 'baseman': 6516, 'permits': 6517, 'LDP': 6518, 'pen': 6519, 'Benfica': 6520, 'Johnson': 6521, 'Kemp': 6522, 'Strasbourg': 6523, 'Rodham': 6524, 'Wijffels': 6525, 'unsettled': 6526, 'MGT': 6527, 'voices': 6528, 'Lynch': 6529, 'Saqlain': 6530, 'mostly': 6531, 'Dubnicoff': 6532, 'teenagers': 6533, 'vacation': 6534, 'organise': 6535, 'BONDS': 6536, '[': 6537, 'tie': 6538, 'scene': 6539, 'Rubens': 6540, 'Cabinet': 6541, 'Nagyatad': 6542, 'lunches': 6543, 'five-year-old': 6544, 'Loretto': 6545, 'CBSA': 6546, 'town': 6547, 'FUTURE': 6548, 'Jayasuriya': 6549, 'PHILADELPHIA': 6550, 'government': 6551, 'Warrington': 6552, 'REASONS': 6553, 'Zanoli': 6554, 'Jiul': 6555, 'Boutros-Ghali': 6556, 'buyers': 6557, 'farms': 6558, 'guidelines': 6559, 'cholesterol': 6560, 'ICAC': 6561, 'Kristie': 6562, 'Das': 6563, 'N': 6564, 'Steven': 6565, 'bovine': 6566, 'Adelt': 6567, 'Flach': 6568, 'medallist': 6569, 'Did': 6570, 'trees': 6571, 'compliance': 6572, 'doubt': 6573, 'HAARLEM': 6574, 'guerrilla': 6575, 'LUANDA': 6576, 'units': 6577, 'Volgograd': 6578, 'middle-aged': 6579, 'OPTIONS': 6580, 'Crescent': 6581, 'Therapy': 6582, 'nabs': 6583, 'prisoners': 6584, 'factor': 6585, 'Mentmore': 6586, 'Volkswagen': 6587, 'gene': 6588, 'Juventus': 6589, 'Kigali': 6590, 'Hintsa': 6591, 'KDP': 6592, 'under': 6593, 'FORECAST': 6594, 'Copper': 6595, 'models': 6596, 'renewed': 6597, 'Stevanin': 6598, 'Jail': 6599, 'sixth-inning': 6600, 'FEES': 6601, 'Kneipp': 6602, 'exchanged': 6603, 'Leander': 6604, 'Larsson': 6605, 'Grasshoppers': 6606, 'ADRs': 6607, 'Little': 6608, 'Fourth': 6609, 'banning': 6610, 'CANBERRA': 6611, 'superb': 6612, 'sparked': 6613, 'amputated': 6614, 'currently': 6615, 'Ryszard': 6616, 'systematically': 6617, 'Iscor': 6618, 'Croatia': 6619, 'Frankie': 6620, 'Rennes': 6621, 'employee': 6622, 'promoted': 6623, 'Rally': 6624, 'Public': 6625, 'wild': 6626, 'liquor': 6627, 'case': 6628, 'finalists': 6629, 'exports': 6630, 'fraud': 6631, 'brutal': 6632, 'Such': 6633, 'emerged': 6634, 'Suwon': 6635, 'expires': 6636, 'identified': 6637, 'secretary-general': 6638, 'Krajicek': 6639, 'remembering': 6640, 'BUENOS': 6641, 'Israel-PLO': 6642, 'Becanovic': 6643, 'stronger': 6644, 'Molenbeek': 6645, 'closely': 6646, 'Tirgoviste': 6647, 'checks': 6648, 'Tokyo': 6649, 'streak': 6650, 'Adam': 6651, 'sites': 6652, 'Mission': 6653, 'Gatwick': 6654, 'legislature': 6655, 'offset': 6656, 'unk_num': 6657, 'drachmas': 6658, 'pesetas': 6659, 'Dowman': 6660, 'ONE-DAY': 6661, 'avoid': 6662, 'Vietnamese': 6663, 'Vienna': 6664, 'decibels': 6665, 'TYPE': 6666, 'gloom': 6667, 'Siam': 6668, 'TOWN': 6669, 'it': 6670, 'PVS': 6671, 'undergone': 6672, 'Socialists': 6673, 'chosen': 6674, 'stakes': 6675, 'Sokol': 6676, 'longitudinal': 6677, 'Malta': 6678, 'WICKETS': 6679, 'neo-Nazism': 6680, 'hydroelectric': 6681, 'kidnap': 6682, 'Steffen': 6683, 'holds': 6684, 'Extras': 6685, 'Buyers': 6686, 'Downer': 6687, 'Tomas': 6688, 'PRAECIP': 6689, 'red': 6690, 'Cosenza': 6691, 'slumped': 6692, 'bookseller': 6693, 'cow': 6694, 'figure': 6695, 'Shining': 6696, 'treat': 6697, 'London': 6698, 'addition': 6699, 'Speaking': 6700, 'cancellation': 6701, 'Peru': 6702, 'orders': 6703, 'Aircraft': 6704, 'status': 6705, 'Middle': 6706, 'pits': 6707, 'hair': 6708, 'lead': 6709, 'pots': 6710, 'Srbska': 6711, 'slightly': 6712, 'cigarettes': 6713, 'S.': 6714, 'La': 6715, 'tons': 6716, 'surprised': 6717, 'Christophe': 6718, 'once': 6719, 'SPOT': 6720, 'spinoff': 6721, 'brings': 6722, \"NIDA'A\": 6723, 'employed': 6724, 'WINNIPEG': 6725, 'Eduardo': 6726, 'BRATISLAVA': 6727, 'fractured': 6728, 'races': 6729, 'Moldova': 6730, 'AUG': 6731, 'Osaka': 6732, 'charity': 6733, 'Scorers': 6734, 'radical': 6735, 'equity': 6736, 'Telfer': 6737, 'Seat': 6738, 'extradition': 6739, 'Kohl': 6740, 'abandoned': 6741, 'Southampton': 6742, 'predecessor': 6743, 'Lorenzo': 6744, 'eventually': 6745, 'Yugoslav': 6746, 'one-half': 6747, 'Blair': 6748, 'Knup': 6749, 'fleeing': 6750, 'Airlines': 6751, 'producer': 6752, 'therapy': 6753, 'Germans': 6754, 'Malbak': 6755, 'threatening': 6756, 'weighed': 6757, 'arranged': 6758, 'kidnappers': 6759, 'raising': 6760, 'ISSUE': 6761, 'specialists': 6762, 'USA': 6763, 'Olimpija': 6764, 'voiced': 6765, 'persuaded': 6766, 'somewhere': 6767, 'market': 6768, 'abilities': 6769, 'Glyn': 6770, 'joint': 6771, 'Fraser': 6772, 'gainers': 6773, 'hour': 6774, 'Brechin': 6775, 'Australians': 6776, 'Sebastien': 6777, 'factory': 6778, 'name': 6779, 'present': 6780, 'goalkeeper': 6781, 'Tikva': 6782, 'reiterates': 6783, 'usual': 6784, 'landmark': 6785, 'BNZ': 6786, 'successive': 6787, 'planned': 6788, 'missions': 6789, 'SEASON': 6790, 'VNU': 6791, 'provinces': 6792, 'NINE': 6793, 'Carlos': 6794, 'declines': 6795, 'pitch': 6796, 'Shumer': 6797, 'Finn': 6798, 'star': 6799, 'original': 6800, 'C.C': 6801, 'Fredericks': 6802, 'Nationalist': 6803, 'Wales': 6804, 'Gulf': 6805, 'shaking': 6806, 'symptoms': 6807, 'Wolf': 6808, 'Heerenveen': 6809, 'drift': 6810, 'ratings': 6811, 'Months': 6812, 'indication': 6813, 'hijacked': 6814, 'stormed': 6815, 'Kekkila': 6816, 'perspective': 6817, 'clearance': 6818, 'farmer': 6819, 'AD': 6820, 'Overnight': 6821, 'LAKES': 6822, 'Whittall': 6823, 'slogans': 6824, 'Libyan': 6825, 'Natalya': 6826, 'Tomasson': 6827, 'Mind': 6828, 'planes': 6829, 'Dewulf': 6830, 'herbicides': 6831, 'Hussain': 6832, 'Pavin': 6833, 'Kalashnikov': 6834, 'officer': 6835, 'reinforcements': 6836, 'appear': 6837, 'Boutros': 6838, 'Army': 6839, 'Then': 6840, 'shoulder': 6841, 'Championships': 6842, 'Ltd': 6843, 'kick': 6844, 'opponent': 6845, 'aid': 6846, 'Jose': 6847, 'clean': 6848, 'launch': 6849, 'tomatoes': 6850, 'Hriday': 6851, 'Okuda': 6852, 'Mahala': 6853, 'houses': 6854, 'Abuja': 6855, 'was': 6856, 'spectators': 6857, 'level': 6858, 'Donald': 6859, 'Samara': 6860, 'ordinary': 6861, 'discount': 6862, 'Banska': 6863, 'Obligation': 6864, 'Internet': 6865, 'vehicle': 6866, 'Standings': 6867, 'vigilance': 6868, 'consistently': 6869, 'fears': 6870, 'card': 6871, 'shed': 6872, 'Zizkov': 6873, 'extremist': 6874, 'where': 6875, 'committed': 6876, 'birdie': 6877, 'Argentine': 6878, 'Everyone': 6879, 'legs': 6880, 'Hutus': 6881, 'pipes': 6882, 'Boetsch': 6883, 'shipment': 6884, 'Ababa': 6885, 'ours': 6886, 'Nigeria': 6887, 'Nottingham': 6888, 'calls': 6889, 'separation': 6890, 'Torquay': 6891, 'really': 6892, 'Jos': 6893, 'traffic': 6894, 'Ilott': 6895, 'Alloa': 6896, 'tested': 6897, 'each': 6898, 'train': 6899, 'painful': 6900, 'Rice': 6901, 'Rittner': 6902, 'Team': 6903, 'trouble-free': 6904, 'Britain': 6905, 'disappeared': 6906, 'invited': 6907, 'standing': 6908, 'Op': 6909, 'economist': 6910, 'details': 6911, 'probably': 6912, 'Investigators': 6913, 'these': 6914, 'Software': 6915, 'removal': 6916, 'seminar': 6917, 'bird': 6918, 'Nick': 6919, 'alleged': 6920, 'Botta': 6921, 'Before': 6922, 'negotiation': 6923, 'carrying': 6924, 'smugglers': 6925, 'Valkov': 6926, 'Netanyahu': 6927, 'energetic': 6928, 'PDI': 6929, 'dealers': 6930, 'MONTREAL': 6931, 'THOMSON': 6932, 'Stark': 6933, 'Romano': 6934, 'Conroy': 6935, 'drives': 6936, 'Sussex': 6937, 'Callens': 6938, 'apply': 6939, 'Brent': 6940, 'Market': 6941, 'nationality': 6942, 'acceptable': 6943, 'jackpot': 6944, 'Pavel': 6945, 'high-yielding': 6946, 'base': 6947, 'Bancomext': 6948, 'earning': 6949, 'Muratovic': 6950, 'cholera': 6951, 'Ducruet': 6952, 'hide': 6953, 'earmarked': 6954, 'tbf': 6955, 'immigrants': 6956, 'help-wanted': 6957, 'Media': 6958, 'Olsztyn': 6959, 'Hitler': 6960, 'Products': 6961, 'its': 6962, 'prosecutors': 6963, 'fugitive': 6964, 'reporting': 6965, 'Fulcheri': 6966, 'expels': 6967, 'Brooke': 6968, 'Minister': 6969, 'SYDNEY': 6970, 'mins': 6971, 'requested': 6972, 'holdings': 6973, 'cwt': 6974, 'Nastase': 6975, 'Edberg': 6976, 'means': 6977, 'Agnieszka': 6978, 'AT': 6979, 'Allan': 6980, 'Iraq': 6981, 'Tankan': 6982, 'agenda': 6983, 'Pedro': 6984, 'Interest': 6985, 'sufficiently': 6986, 'foul': 6987, 'angry': 6988, 'appeared': 6989, 'Constructorul': 6990, 'decide': 6991, 'consider': 6992, 'Sturm': 6993, 'disappointed': 6994, 'dozens': 6995, 'DATE': 6996, 'Imphold': 6997, 'whatever': 6998, 'gathering': 6999, 'waivers': 7000, 'operators': 7001, 'kills': 7002, 'travel': 7003, 'FINAL': 7004, 'Admira': 7005, 'Mauritius': 7006, 'Silvio': 7007, 'formally': 7008, 'sentences': 7009, 'VeriSign': 7010, 'Costain': 7011, 'Braga': 7012, 'south': 7013, 'Norwich': 7014, 'Leicester': 7015, 'Liege': 7016, 'Zia': 7017, 'Domingo': 7018, 'Tabarez': 7019, 'PLO': 7020, 'judges': 7021, 'bread': 7022, 'quick': 7023, 'recognised': 7024, 'KTM': 7025, 'bought': 7026, 'investigate': 7027, 'supporter': 7028, 'firing': 7029, 'dubbed': 7030, 'Dean': 7031, 'Hartlepool': 7032, \"'d\": 7033, 'quarterly': 7034, 'Utomo': 7035, 'Shaun': 7036, 'outdueled': 7037, 'scrapie': 7038, 'declaring': 7039, 'MSV': 7040, 'Kilmarnock': 7041, 'farming': 7042, 'Tami': 7043, 'Dreyfus': 7044, 'Seiki': 7045, 'Ottoz': 7046, 'wage': 7047, 'Issuer': 7048, 'Kragujevac': 7049, 'restaurant': 7050, 'accomplice': 7051, 'Lewis': 7052, 'Jesse': 7053, 'Carlo': 7054, 'Baker': 7055, 'colonel': 7056, 'searching': 7057, 'Sultan': 7058, 'settled': 7059, 'reigning': 7060, 'repair': 7061, 'Endt': 7062, 'Classic': 7063, 'Pinto': 7064, 'plastic': 7065, 'massing': 7066, 'claims': 7067, 'Jones': 7068, 'particular': 7069, 'COACH': 7070, 'Lennart': 7071, 'Teplice': 7072, 'Slater': 7073, 'hairy': 7074, 'Aguirre': 7075, 'Board': 7076, 'bolster': 7077, 'reluctant': 7078, 'step': 7079, 'sovereignty': 7080, 'Noce': 7081, 'winding': 7082, 'contribution': 7083, 'truth': 7084, 'Dukla': 7085, 'entire': 7086, 'HCFA': 7087, 'SOFIA': 7088, 'MASTERS': 7089, 'Communications': 7090, 'Kim': 7091, 'developments': 7092, 'MOSCOW': 7093, 'Freedom': 7094, 'Mr': 7095, 'Nicaraguan': 7096, 'Amazon': 7097, 'tax': 7098, '....': 7099, 'elusive': 7100, 'Evans': 7101, 'settle': 7102, 'Martens': 7103, 'disappears': 7104, 'hospital': 7105, 'ITALIAN': 7106, 'Lloyd': 7107, 'seed': 7108, 'So': 7109, 'preferred': 7110, 'refuel': 7111, 'populist': 7112, 'challenged': 7113, 'postponed': 7114, 'oil': 7115, 'works': 7116, 'obtaining': 7117, 'GB': 7118, 'lions': 7119, 'HK': 7120, 'Because': 7121, 'Kuwait': 7122, 'showering': 7123, 'prisons': 7124, 'Werder': 7125, 'MW': 7126, 'Sheet': 7127, 'pledge': 7128, 'JOURNAL': 7129, 'notified': 7130, 'completely': 7131, 'Salang': 7132, 'Siauliai': 7133, 'performed': 7134, 'Greens': 7135, 'governments': 7136, 'Labat': 7137, 'analyst': 7138, 'linking': 7139, 'Pendleton': 7140, 'engaged': 7141, 'Valerio': 7142, 'Jimmy': 7143, 'iron': 7144, 'fourth': 7145, 'monarch': 7146, 'investigators': 7147, 'victory': 7148, 'Humanitarian': 7149, 'approximately': 7150, 'development': 7151, 'AdOn': 7152, 'RTRS': 7153, 'duty': 7154, 'abstentions': 7155, 'Leeds': 7156, 'intravenous': 7157, 'hopeful': 7158, 'accounted': 7159, 'Island': 7160, 'Demel': 7161, 'Against': 7162, 'distribution': 7163, 'OUT': 7164, 'playing': 7165, 'GDP': 7166, 'duties': 7167, 'BOND': 7168, 'translator': 7169, 'pure': 7170, 'Coast': 7171, 'Khmer': 7172, 'incidents': 7173, 'Vince': 7174, 'Open': 7175, 'got': 7176, 'Imran': 7177, 'Defenders': 7178, 'recovered': 7179, 'ankle': 7180, 'regional': 7181, 'recent': 7182, 'world': 7183, 'March': 7184, 'JavaSoft': 7185, 'ratio': 7186, 'Aluminum': 7187, 'Capiot': 7188, 'Russo': 7189, 'pornography': 7190, 'agencies': 7191, 'Best': 7192, 'Chonan': 7193, 'breaks': 7194, 'Pierre': 7195, 'daily': 7196, 'Scotland': 7197, 'Nederland': 7198, 'Albert': 7199, 'lifting': 7200, 'Howard': 7201, 'financing': 7202, 'chances': 7203, 'charge': 7204, 'Udinese': 7205, 'Markets': 7206, 'MILWAUKEE': 7207, 'Former': 7208, 'revisions': 7209, 'drug': 7210, 'F.W.': 7211, 'THE': 7212, 'Jongsma': 7213, 'bourse': 7214, 'Palmeiro': 7215, 'judiciary': 7216, 'broken': 7217, 'Israel': 7218, 'Paranaense': 7219, 'Jonk': 7220, 'delegates': 7221, 'worldwide': 7222, 'Joe': 7223, 'Shi-Ting': 7224, 'Algerian': 7225, 'Peron': 7226, 'balanced': 7227, 'Krzysztof': 7228, 'tremendous': 7229, 'bat': 7230, 'meant': 7231, 'JYVASKLYA': 7232, 'Tanjug': 7233, 'Egypt': 7234, 'BME': 7235, 'AA+': 7236, 'sailing': 7237, 'Allensbach': 7238, 'After': 7239, 'rebuilding': 7240, 'bottle': 7241, 'Hearts': 7242, 'stage': 7243, 'detailed': 7244, 'POLISH': 7245, 'Reagan': 7246, 'placards': 7247, 'Nagyova': 7248, 'Kapoor': 7249, 'Tapie': 7250, 'electronics': 7251, 'CRS': 7252, 'receive': 7253, 'LME': 7254, 'private': 7255, 'screen': 7256, 'Banespa': 7257, 'Yone': 7258, 'Tutu': 7259, 'El': 7260, 'Archaeological': 7261, 'Anton': 7262, 'THURSDAY': 7263, 'plus': 7264, 'WESTERN': 7265, 'trio': 7266, 'Nirmal': 7267, 'promote': 7268, 'Bielefeld': 7269, 'edged': 7270, 'inhuman': 7271, 'inches': 7272, 'McCullough': 7273, 'Eight': 7274, 'kicked': 7275, 'MLN': 7276, 'Conchita': 7277, 'John': 7278, 'upcoming': 7279, 'Mouly': 7280, 'tribute': 7281, 'Slovak': 7282, 'favorable': 7283, 'half': 7284, 'Chechen': 7285, 'Also': 7286, 'exact': 7287, 'conscious': 7288, 'fed': 7289, 'short-term': 7290, 'Dutchman': 7291, 'Sweden': 7292, 'Greece': 7293, 'from': 7294, 'denied': 7295, 'atmosphere': 7296, 'Dr': 7297, 'Stenhousemuir': 7298, 'drew': 7299, 'ridden': 7300, 'CLUB': 7301, 'victories': 7302, 'supply': 7303, 'WSRL': 7304, 'plainclothes': 7305, 'chips': 7306, 'scheme': 7307, 'IP': 7308, 'Swebus': 7309, 'Illness': 7310, 'Gas': 7311, 'tagged': 7312, 'decision': 7313, 'Kaspars': 7314, 'Streda': 7315, 'officially': 7316, 'Stock': 7317, 'LEADING': 7318, 'ringing': 7319, 'outbreak': 7320, 'point': 7321, 'Markvart': 7322, 'Pauli': 7323, 'TO': 7324, 'Molde': 7325, 'Mar': 7326, 'Strang': 7327, 'regularly': 7328, 'NASDAQ': 7329, 'Desk': 7330, 'Universitatea': 7331, 'Hidemichi': 7332, 'reference': 7333, 'Stolle': 7334, 'T.': 7335, 'local': 7336, 'Golf': 7337, 'Ramon': 7338, 'Leverkusen': 7339, 'Value': 7340, 'yields': 7341, 'throw': 7342, 'Barzani': 7343, 'Control': 7344, 'Doorn': 7345, 'ZAGREB': 7346, 'Pusan': 7347, 'Thorpe': 7348, 'journey': 7349, 'Corini': 7350, 'anxieties': 7351, 'Munakarmi': 7352, 'abuse': 7353, 'praise': 7354, 'Belim': 7355, 'Devereaux': 7356, 'gain': 7357, 'Zealand': 7358, 'Vitoux': 7359, 'be': 7360, 'grip': 7361, 'block': 7362, 'Stork': 7363, 'stationed': 7364, 'BAT': 7365, 'pray': 7366, 'ball': 7367, 'infuriated': 7368, 'among': 7369, 'camps': 7370, 'we': 7371, 'telecoms': 7372, 'Santos': 7373, 'unemployment': 7374, 'Ann': 7375, 'ZIFA': 7376, 'Kenny': 7377, 'Harris': 7378, 'FDP': 7379, 'without': 7380, 'award': 7381, 'Levy': 7382, 'brokerage': 7383, 'Khan': 7384, 'RAF': 7385, 'Xinhua': 7386, 'ousted': 7387, 'few': 7388, 'Shipping': 7389, 'Postal': 7390, 'noise': 7391, 'thrust': 7392, 'Cape': 7393, 'Japanese': 7394, 'biggest': 7395, 'Independent': 7396, 'Darren': 7397, 'Penh': 7398, 'Georges': 7399, 'clot': 7400, 'campus': 7401, 'unofficial': 7402, 'SCOTTISH': 7403, 'Ivanisevic': 7404, 'Cal': 7405, 'blame': 7406, 'prostitution': 7407, 'long-on': 7408, 'pages': 7409, 'Ekimov': 7410, 'compares': 7411, 'Life': 7412, 'weakening': 7413, 'Bossi': 7414, 'plagued': 7415, 'oil-for-food': 7416, 'shouted': 7417, 'scant': 7418, 'Adelaide': 7419, 'demonstrated': 7420, 'aircraft': 7421, 'automatically': 7422, 'overseas': 7423, 'stadium': 7424, 'contracts': 7425, 'Bhutto': 7426, 'Syrians': 7427, 'TALK': 7428, 'Perry': 7429, 'Innsbruck': 7430, 'Vitesse': 7431, 'St': 7432, 'Norway': 7433, 'members': 7434, 'tired': 7435, 'Fagan': 7436, 'fun': 7437, 'Lee': 7438, 'Alami': 7439, 'Bakker': 7440, 'Guldimann': 7441, 'journal': 7442, 'GULF': 7443, 'Industry': 7444, 'funding': 7445, 'incomprehensible': 7446, 'state': 7447, 'border': 7448, 'Matthew': 7449, 'suitcases': 7450, 'seen': 7451, 'CLOSE': 7452, 'Athens': 7453, 'competitive': 7454, 'mutilated': 7455, 'NBA': 7456, 'Gupta': 7457, 'Gaidano': 7458, 'house': 7459, 'Lokeren': 7460, 'SPLA': 7461, 'carrier': 7462, 'Butch': 7463, 'Guivarch': 7464, 'Including': 7465, 'would': 7466, 'establishing': 7467, 'raced': 7468, 'today': 7469, 'Winners': 7470, 'That': 7471, 'Sheep': 7472, 'renegade': 7473, 'compared': 7474, 'serves': 7475, 'protested': 7476, 'all-rounder': 7477, 'editorial': 7478, 'Samper': 7479, 'Dynamo': 7480, 'Lansana': 7481, 'Intelligence': 7482, 'British': 7483, 'lowered': 7484, 'protect': 7485, 'square': 7486, 'DAILY': 7487, 'faced': 7488, 'muscle': 7489, 'Maureen': 7490, 'wounded': 7491, 'preference': 7492, 'Bodies': 7493, 'Per': 7494, 'Bonilla': 7495, 'demanding': 7496, 'Presov': 7497, 'Galo': 7498, 'commitment': 7499, 'Salim': 7500, 'doing': 7501, 'podium': 7502, 'Individual': 7503, 'Tension': 7504, 'causes': 7505, 'CHICAGO': 7506, 'Fitzpatrick': 7507, 'execution': 7508, 'investigating': 7509, 'options': 7510, 'Uralmash': 7511, 'nothing': 7512, 'electronic': 7513, 'Aston': 7514, 'workers': 7515, 'Henrique': 7516, 'teen': 7517, 'austerity': 7518, 'sophisticated': 7519, 'Fair': 7520, 'Romanian': 7521, 'Los': 7522, 'Nikkei': 7523, 'did': 7524, 'F.A.': 7525, 'Frenchman': 7526, 'include': 7527, 'imminent': 7528, 'manual': 7529, 'Stallone': 7530, 'Their': 7531, 'Gold': 7532, 'Furyk': 7533, 'replay': 7534, 'Mariaan': 7535, 'Budejovice': 7536, 'VIENNA': 7537, 'decisions': 7538, ')': 7539, 'mountainous': 7540, 'Granic': 7541, 'NV': 7542, 'SHANGHAI': 7543, 'Afghan': 7544, 'Standard': 7545, 'FFK': 7546, 'mid-August': 7547, 'Rajavi': 7548, 'heroin': 7549, 'bacterial': 7550, 'Ogunkoya': 7551, 'Va': 7552, 'stretch': 7553, 'Draper': 7554, 'knot': 7555, 'removing': 7556, 'Riley': 7557, 'chilli': 7558, 'diet': 7559, 'ineligible': 7560, 'Buducnost': 7561, 'pork': 7562, 'trafficking': 7563, 'legislators': 7564, 'became': 7565, 'Volatility': 7566, 'groups': 7567, 'Ben': 7568, 'players': 7569, 'dismal': 7570, 'nurses': 7571, 'Congo': 7572, 'whoever': 7573, 'Havre': 7574, 'multi-ethnic': 7575, 'prohibited': 7576, 'designer': 7577, 'meetings': 7578, 'Winkler': 7579, 'Metalurg': 7580, 'Bertelsmann': 7581, 'Siemerink': 7582, 'revenue': 7583, 'turning': 7584, 'S&P': 7585, 'Harrison': 7586, 'SUPER': 7587, 'Kock': 7588, 'stagnates': 7589, 'Share': 7590, 'Tirana': 7591, 'y': 7592, 'Martinez': 7593, 'suspected': 7594, 'mills': 7595, 'Authorities': 7596, 'analysis': 7597, 'moving': 7598, 'two-out': 7599, 'Flemming': 7600, 'AMSTERDAM': 7601, 'NETHERLANDS': 7602, 'unfortunate': 7603, 'fair': 7604, 'U.S': 7605, 'suffering': 7606, 'jars': 7607, 'Park': 7608, 'SECOND': 7609, 'another': 7610, 'sector': 7611, 'GEARING': 7612, 'board': 7613, 'Firestone': 7614, 'focused': 7615, 'below': 7616, 'Lamy': 7617, 'Kelly': 7618, ';': 7619, 'Shelbourne': 7620, 'line': 7621, 'tomorrow': 7622, 'ranked': 7623, 'Pitkowski': 7624, 'CBOE': 7625, 'My': 7626, 'Plymouth': 7627, 'closing': 7628, 'fans': 7629, 'Wah': 7630, 'anyone': 7631, 'ancient': 7632, 'guarantee': 7633, 'Hollywood': 7634, 'outgoing': 7635, 'Portuguese': 7636, 'secured': 7637, 'remarks': 7638, 'Men': 7639, 'parents': 7640, 'same-day': 7641, 'reaching': 7642, 'Ham': 7643, 'Rangoon': 7644, 'Kimiko': 7645, 'over': 7646, 'CALCUTTA': 7647, 'feel': 7648, 'revised': 7649, 'maintain': 7650, 'predominantly': 7651, 'Kispest': 7652, 'Kurdish': 7653, 'Galatasaray': 7654, 'CURRENCIES': 7655, 'FFT': 7656, 'Monday': 7657, 'Dharmasena': 7658, 'integrated': 7659, 'Torrens-Valero': 7660, 'Arantxa': 7661, 'Volkova': 7662, 'Community': 7663, 'Keller': 7664, 'stoppage': 7665, 'However': 7666, 'minimum': 7667, 'Berwick': 7668, 'Ingwe': 7669, 'Interacciones': 7670, 'Szonn': 7671, 'bottom': 7672, 'adding': 7673, 'Day': 7674, 'Takeishi': 7675, 'underlying': 7676, 'eight': 7677, 'Yassin': 7678, 'skills': 7679, 'Brandi': 7680, 'clocked': 7681, 'unsuccessful': 7682, 'lawmakers': 7683, 'particularly': 7684, 'hurdle': 7685, 'Otelul': 7686, 'Hedblom': 7687, 'written': 7688, 'indifference': 7689, 'Daewoo': 7690, 'gradual': 7691, 'day': 7692, 'RKC': 7693, 'Fiorentina': 7694, 'ESSEX': 7695, 'Johansson': 7696, 'rainfall': 7697, 'injury': 7698, 'Systems': 7699, 'McAllister': 7700, 'romantic': 7701, 'ideas': 7702, 'SRI': 7703, 'agency': 7704, 'noisy': 7705, 'Eritrea': 7706, 'conglomerate': 7707, 'CZK': 7708, 'Houston': 7709, 'Karem': 7710, 'blind': 7711, 'outlook': 7712, 'tells': 7713, 'MELBOURNE': 7714, 'arrangement': 7715, 'Boje': 7716, 'unease': 7717, 'require': 7718, 'fiancee': 7719, 'Cevaer': 7720, 'marijuana': 7721, 'SK': 7722, 'parliament': 7723, 'clashes': 7724, 'GOV': 7725, 'layoffs': 7726, 'Marcelo': 7727, 'friendship': 7728, 'Foster': 7729, 'bases': 7730, 'Reef': 7731, 'Moeller': 7732, 'recover': 7733, 'DE': 7734, 'flared': 7735, 'UN': 7736, 'Prince': 7737, 'Social': 7738, 'Ahmad': 7739, 'Zvereva': 7740, 'Jimy': 7741, 'Gress': 7742, 'airspace': 7743, 'up': 7744, 'determined': 7745, 'intestines': 7746, 'table': 7747, 'bushland': 7748, 'smoothly': 7749, 'UEFA': 7750, 'accompany': 7751, 'Korea': 7752, 'Rosset': 7753, 'Lyon': 7754, 'Talks': 7755, 'love': 7756, 'Swede': 7757, 'surgeon': 7758, 'infected': 7759, 'BELGRADE': 7760, 'diesel': 7761, 'fever': 7762, 'THREE': 7763, 'favourite': 7764, 'permanent': 7765, 'killed': 7766, 'Montolio': 7767, 'trail': 7768, 'Hing': 7769, 'crackdown': 7770, 'Pohang': 7771, 'Squad': 7772, 'speculation': 7773, 'HRW': 7774, 'Jamaican': 7775, 'Blijlevens': 7776, 'loaded': 7777, 'Herschelle': 7778, 'Cargo': 7779, 'Commandments': 7780, 'camouflage': 7781, 'W': 7782, 'cited': 7783, 'Charleroi': 7784, 'deficit': 7785, 'Fidelis': 7786, 'Linda': 7787, 'confessed': 7788, 'collided': 7789, 'council': 7790, 'Philadelphia': 7791, 'existed': 7792, 'Cejka': 7793, 'hostages': 7794, 'Madagascar': 7795, 'Presidential': 7796, 'horrors': 7797, 'suppliers': 7798, 'causing': 7799, 'CZECH': 7800, 'Sakai': 7801, 'Lambert': 7802, 'raise': 7803, 'opium': 7804, 'tourist': 7805, 'reimbursement': 7806, 'White': 7807, 'SPANISH': 7808, 'shelled': 7809, 'defeat': 7810, 'Cathy': 7811, 'camera': 7812, 'Lovell': 7813, 'Eva': 7814, 'TITLE': 7815, 'O.J.': 7816, 'Opens': 7817, 'evidence': 7818, 'formula': 7819, 'genocide': 7820, 'profits': 7821, 'Portugal': 7822, 'Petrimex': 7823, 'penalty': 7824, 'Juha': 7825, 'momentum': 7826, 'Taibe': 7827, 'Piacenza': 7828, 'SoCal': 7829, 'Pachuca': 7830, 'denounce': 7831, 'unk_all_lower': 7832, 'would-be': 7833, 'announced': 7834, 'several': 7835, 'Bolger': 7836, 'adopted': 7837, 'Oakland': 7838, 'visitor': 7839, 'scrap': 7840, 'DRAWS': 7841, 'Konrad': 7842, 'peaceful': 7843, 'beer': 7844, 'abated': 7845, 'Kurd': 7846, 'erratically': 7847, 'relinquished': 7848, 'struck': 7849, 'Wellington': 7850, 'expect': 7851, 'underway': 7852, 'effect': 7853, 'professor': 7854, 'Lamm': 7855, 'Arrows': 7856, 'ZEALAND': 7857, 'goal': 7858, 'Dow': 7859, 'regarding': 7860, 'Aamir': 7861, 'upgraded': 7862, 'Langer': 7863, 'illness': 7864, 'Todd': 7865, 'New': 7866, 'Cruzeiro': 7867, 'Nicklas': 7868, 'Taha': 7869, 'Vyacheslav': 7870, 'Horizons': 7871, 'infectious': 7872, 'Net': 7873, 'Bunds': 7874, 'Samuel': 7875, 'built': 7876, 'Sfeir': 7877, 'framework': 7878, 'CINCINNATI': 7879, \"She'an\": 7880, 'dozen': 7881, 'conferences': 7882, 'virtual': 7883, 'Casablanca': 7884, 'Kimberly': 7885, 'taxes': 7886, 'clearing': 7887, 'Cork': 7888, 'Ballesteros': 7889, 'Shuzo': 7890, 'Helder': 7891, 'AN-NAHAR': 7892, 'period': 7893, 'hinterland': 7894, 'vacancy': 7895, 'GLASGOW': 7896, 'Brush': 7897, 'Bessemer': 7898, 'seconds': 7899, 'Willem': 7900, 'Bevan': 7901, 'suits': 7902, 'Foe': 7903, 'overthrow': 7904, 'crowd': 7905, 'maybe': 7906, 'achieving': 7907, 'upon': 7908, 'Mariners': 7909, 'strokes': 7910, 'Kamoga': 7911, 'consult': 7912, 'IVAC': 7913, 'Agreement': 7914, 'transition': 7915, 'hanging': 7916, 'based': 7917, 'hole': 7918, 'Tirol': 7919, 'Maleeva': 7920, 'IPE': 7921, '..': 7922, 'Gabriela': 7923, 'create': 7924, 'City': 7925, 'which': 7926, 'Mary': 7927, 'Hamburg': 7928, 'gun': 7929, 'Chelsea': 7930, 'Since': 7931, 'satisfactory': 7932, 'list': 7933, 'fluids': 7934, 'lamb': 7935, 'EURO': 7936, 'employer': 7937, 'Trinidad': 7938, 'Encephalopathy': 7939, 'restructuring': 7940, 'actions': 7941, 'exception': 7942, 'Wolk': 7943, 'pick': 7944, 'following': 7945, 'despite': 7946, 'forget': 7947, 'Battersby': 7948, 'Imports': 7949, 'feedlot': 7950, 'tying': 7951, 'ordering': 7952, 'temporary': 7953, 'conducted': 7954, 'qualifiers': 7955, 'Medellin': 7956, 'ploughed': 7957, 'Workers': 7958, 'displayed': 7959, 'Collin': 7960, 'Sydney': 7961, 'ill': 7962, 'scholar': 7963, 'Mostostal': 7964, 'arrive': 7965, 'Mobutu': 7966, 'ATLANTA': 7967, 'ensure': 7968, 'intensive': 7969, 'Our': 7970, 'formed': 7971, 'spokesman': 7972, 'intervention': 7973, 'then': 7974, 'heir': 7975, 'events': 7976, 'variety': 7977, 'guitar': 7978, 'letter': 7979, 'countries': 7980, 'shr': 7981, 'Enzo': 7982, 'Botafogo': 7983, 'highlighted': 7984, 'independently': 7985, 'guaranteed': 7986, 'Mickelson': 7987, 'met': 7988, 'greatest': 7989, 'scandal': 7990, 'eye': 7991, 'Goalkeepers': 7992, 'neither': 7993, 'NOVYE': 7994, 'established': 7995, 'three-year': 7996, 'Woosnam': 7997, 'Essilor': 7998, 'majority': 7999, \"o'clock\": 8000, 'Yorkshire': 8001, 'Frankfurt': 8002, 'Aslan': 8003, 'nationals': 8004, 'dating': 8005, 'river': 8006, 'excessive': 8007, 'determining': 8008, 'TENNIS': 8009, 'takes': 8010, 'Tunisian': 8011, 'ongoing': 8012, 'founding': 8013, 'cars': 8014, 'wasteful': 8015, 'innocent': 8016, 'Dividend': 8017, 'overran': 8018, 'weaker': 8019, 'Smyth': 8020, 'PAYDATE': 8021, 'Joost': 8022, 'moments': 8023, 'Vialle': 8024, 'POLLOCK': 8025, 'W.': 8026, 'tranches': 8027, 'follow-through': 8028, 'labour': 8029, 'running': 8030, 'rid': 8031, 'Captain': 8032, 'Taiwanese': 8033, 'youth': 8034, 'adult': 8035, 'Watkinson': 8036, 'tension': 8037, 'eased': 8038, 'Gooch': 8039, 'Las': 8040, 'nervous': 8041, 'firm': 8042, 'Nomura': 8043, 'Chesterfield': 8044, 'superstores': 8045, 'Joao': 8046, 'before': 8047, 'Two': 8048, 'Charles': 8049, 'pool': 8050, 'Fitzroy': 8051, 'BUILDING': 8052, 'Zickler': 8053, 'Hungary': 8054, 'inform': 8055, 'hope': 8056, 'racket': 8057, 'credit': 8058, 'Norman': 8059, 'Harrington': 8060, 'eighth-seeded': 8061, 'Nyva': 8062, 'Canizares': 8063, 'concept': 8064, 'disagreement': 8065, 'His': 8066, 'REFERENCE': 8067, 'fluctuations': 8068, 'expressing': 8069, 'BERLIN': 8070, 'futures': 8071, 'three-year-old': 8072, 'project': 8073, 'withdrawal': 8074, 'River': 8075, 'PRO-SOCCER': 8076, 'AL': 8077, 'pegged': 8078, 'Abdul-Karim': 8079, 'Murdoch': 8080, 'Patrice': 8081, 'task': 8082, 'Add': 8083, 'Reds': 8084, 'Penrose': 8085, 'BLACK': 8086, 'Ironi': 8087, 'feared': 8088, 'Louise': 8089, 'Stirling': 8090, 'marginally': 8091, 'trapped': 8092, 'Mehrtens': 8093, 'Mayfair': 8094, 'Pete': 8095, 'dictatorship': 8096, 'compartment': 8097, 'Proj': 8098, 'paid': 8099, 'Filipovic': 8100, 'headquarters': 8101, 'MDS': 8102, 'League': 8103, 'provisional': 8104, 'seller': 8105, 'gained': 8106, 'responded': 8107, 'NAIROBI': 8108, 'corporations': 8109, 'ground': 8110, 'Leaders': 8111, 'complete': 8112, 'Ato': 8113, 'Unknown': 8114, 'port': 8115, 'Bob': 8116, 'bronze': 8117, 'mild': 8118, 'lines': 8119, 'motive': 8120, 'flames': 8121, 'Baudone': 8122, 'Derivatives': 8123, 'meeting': 8124, 'mandate': 8125, 'appeal': 8126, 'standings': 8127, 'Oklahoma': 8128, 'Bayer': 8129, 'PRESS': 8130, 'Gruppen': 8131, 'free': 8132, 'Parramatta': 8133, 'Sutton': 8134, 'window': 8135, 'Jean-Michel': 8136, 'RESULTS': 8137, 'sealed': 8138, 'hit-squad': 8139, 'Lebanese': 8140, 'Gronholm': 8141, 'safety': 8142, 'Chinese': 8143, 'penalties': 8144, 'managing': 8145, 'Record': 8146, 'model': 8147, 'sanctions': 8148, 'Members': 8149, 'cantonal': 8150, 'rice': 8151, 'Brighton': 8152, 'fielded': 8153, 'Planning': 8154, 'phase': 8155, 'Veldman': 8156, 'keep': 8157, 'arms': 8158, 'costs': 8159, 'overlooked': 8160, 'defiance': 8161, 're-elected': 8162, 'Poland': 8163, 'protests': 8164, 'devices': 8165, 'satisfying': 8166, 'cheques': 8167, 'collateral': 8168, 'Hariri': 8169, 'Oval': 8170, 'flew': 8171, 'publicist': 8172, 'Cricket': 8173, 'CeBIT': 8174, 'seeking': 8175, 'disputed': 8176, 'Gorrochategui': 8177, 'teenager': 8178, 'NT': 8179, 'zlotys': 8180, 'reached': 8181, 'Weinstein': 8182, 'Anderlecht': 8183, 'remains': 8184, 'plane': 8185, 'please': 8186, 'bowing': 8187, 'Agassi': 8188, 'FLORIDA': 8189, 'collecting': 8190, 'Whitlinger': 8191, 'deposit': 8192, 'Alomar': 8193, 'Neagle': 8194, 'clear': 8195, 'alongside': 8196, 'University': 8197, 'GMT': 8198, 'LTTE': 8199, 'airport': 8200, 'contracted': 8201, 'Area': 8202, 'Birch': 8203, 'Prize': 8204, 'investments': 8205, 'fear': 8206, 'can': 8207, 'charged': 8208, 'incumbent': 8209, 'normally': 8210, 'giving': 8211, 'likely': 8212, 'Philip': 8213, 'Duffy': 8214, 'GmbH': 8215, 'artillery': 8216, 'indicated': 8217, 'TOTAL': 8218, 'accept': 8219, 'Ginebra': 8220, 'enjoy': 8221, 'What': 8222, 'jumps': 8223, 'occurred': 8224, 'sterling': 8225, 'wooden': 8226, 'outcome': 8227, 'Restaurants': 8228, 'concessions': 8229, 'commandos': 8230, 'Vicorp': 8231, 'floors': 8232, 'Sporting': 8233, 'brought': 8234, 'Minerals': 8235, 'although': 8236, 'remote': 8237, 'Kong': 8238, 'Pitesti': 8239, 'Republika': 8240, 'BAN': 8241, 'NOTES': 8242, 'remain': 8243, 'Rio': 8244, 'Geelong': 8245, ',': 8246, 'Zabel': 8247, 'Zagreb': 8248, 'test': 8249, 'Stefan': 8250, 'income': 8251, 'Der': 8252, 'achieved': 8253, 'peacemaker': 8254, 'Russians': 8255, 'going': 8256, 'Southern': 8257, 'Glamorgan': 8258, 'Armenia': 8259, 'dilution': 8260, 'Chief': 8261, 'extradite': 8262, 'Vogts': 8263, 'disqualification': 8264, 'joining': 8265, 'Karlsruhe': 8266, 'news': 8267, \"O'Malley\": 8268, 'Ezinwa': 8269, '.': 8270, 'Marble': 8271, 'soared': 8272, 'Kaucuk': 8273, 'Ramallah': 8274, 'Bosnia': 8275, 'Marina': 8276, 'operating': 8277, 'Luxembourg': 8278, 'offences': 8279, 'dirty': 8280, 'municipal': 8281, 'Five': 8282, 'doubled': 8283, 'Ismail': 8284, 'Dole': 8285, 'received': 8286, 'retiring': 8287, 'Bamerindus': 8288, 'Bengal': 8289, 'Conference': 8290, 'much': 8291, 'BASKETBALL': 8292, 'Sunderland': 8293, 'confirms': 8294, 'estimates': 8295, 'upgrade': 8296, 'AA-': 8297, 'UES': 8298, 'Wengert': 8299, 'lots': 8300, 'complex': 8301, 'C.': 8302, 'Wien': 8303, 'uses': 8304, 'combines': 8305, 'Legal': 8306, 'Appeals': 8307, 'heading': 8308, 'appearances': 8309, 'offal': 8310, 'platinum': 8311, 'Other': 8312, 'accordance': 8313, 'handover': 8314, 'Daily': 8315, 'Energy': 8316, 'hard': 8317, 'Jordanian': 8318, 'three-run': 8319, 'Rusty': 8320, 'snap': 8321, 'Marc': 8322, 'LA': 8323, 'Oldham': 8324, 'EU': 8325, 'mild-mannered': 8326, 'mln': 8327, 'Buhner': 8328, 'Liam': 8329, 'public': 8330, 'ordeal': 8331, 'everything': 8332, 'Brad': 8333, 'broker': 8334, 'Karin': 8335, 'Concern': 8336, 'Act': 8337, 'luggage': 8338, 'naval': 8339, 'Adel': 8340, 'express': 8341, 'operator': 8342, 'speaker': 8343, 'bullish': 8344, 'fail': 8345, 'Brussels': 8346, 'mean': 8347, 'Chang': 8348, 'perfectly': 8349, 'WA': 8350, 'increase': 8351, 'kilometres': 8352, 'profitability': 8353, 'somewhat': 8354, 'Kamyshin': 8355, 'stressed': 8356, 'ambulance': 8357, 'Masood': 8358, 'tasks': 8359, 'Bowling': 8360, 'check': 8361, 'handed': 8362, 'Harper-Collins': 8363, 'Goosen': 8364, 'trades': 8365, 'Vatican': 8366, 'hovercrafts': 8367, 'Machines': 8368, 'closes': 8369, 'lap': 8370, 'retire': 8371, 'Chor': 8372, 'Preston': 8373, 'theft': 8374, 'lift': 8375, 'Ines': 8376, 'four-nation': 8377, 'Brazilian': 8378, 'about': 8379, 'PREVIOUS': 8380, 'OCEI': 8381, 'Jammu': 8382, 'laying': 8383, 'Lokomotiva': 8384, 'Ponting': 8385, 'Miriam': 8386, 'Lankan': 8387, 'covers': 8388, 'Soviet': 8389, 'handful': 8390, 'Filippini': 8391, 'NATIONS': 8392, 'Tikhomirov': 8393, 'Shqiptare': 8394, 'placings': 8395, 'showed': 8396, 'Parliamentary': 8397, 'interrupted': 8398, 'forest': 8399, 'accountant': 8400, 'papers': 8401, 'continues': 8402, 'briefly': 8403, 'Jensen': 8404, 'Statesman': 8405, 'quite': 8406, 'carefully': 8407, 'overrun': 8408, 'Domestic': 8409, 'accuses': 8410, 'PRAGUE': 8411, 'Coalition': 8412, 'open': 8413, 'Caveglia': 8414, 'heavy': 8415, 'beaten': 8416, 'Rudar': 8417, 'favoured': 8418, 'unlucky': 8419, 'Andre': 8420, 'Zhilan': 8421, 'publication': 8422, 'Yekaterinburg': 8423, 'scoring': 8424, 'NICOSIA': 8425, 'Konan': 8426, 'Tanui': 8427, 'Chen': 8428, 'Husqvarna': 8429, 'properties': 8430, 'freight-tonne': 8431, 'Amsterdam-Rotterdam-Antwerp': 8432, 'worker': 8433, 'Moura': 8434, 'included': 8435, 'Pirates': 8436, 'Pierina': 8437, 'former': 8438, 'sewing': 8439, 'SAN': 8440, 'kidnapping': 8441, 'team': 8442, 'Stockholm': 8443, 'Muster': 8444, 'pageant': 8445, 'Confederation': 8446, 'Arafat': 8447, 'allow': 8448, 'earlier': 8449, 'Drew': 8450, 'direct': 8451, 'Internacional': 8452, 'amnesty': 8453, 'AL-ANWAR': 8454, 'involves': 8455, 'Tottenham': 8456, 'Taiwan': 8457, 'colony': 8458, 'Opposition': 8459, 'partition': 8460, 'worse': 8461, 'GACETA': 8462, 'autonomy': 8463, 'Costa': 8464, 'gluten': 8465, 'Frederic': 8466, 'Anderton': 8467, 'contributions': 8468, 'central': 8469, 'shares': 8470, 'Jorge': 8471, 'Moya': 8472, 'CHAMPIONS': 8473, 'Holdings': 8474, 'crowded': 8475, 'refer': 8476, 'spinal': 8477, 'Campbell': 8478, 'unk': 8479, 'fifth-seeded': 8480, 'launched': 8481, 'video': 8482, 'give': 8483, 'racing': 8484, 'obligations': 8485, 'Chemical': 8486, 'kind': 8487, 'secrets': 8488, 'printed': 8489, 'Baghdad': 8490, 'Brasilia': 8491, 'ventilation': 8492, 'Pollock': 8493, 'auctions': 8494, 'Chiate': 8495, 'Guinness': 8496, 'Biogen': 8497, 'northwest': 8498, 'pour': 8499, 'twist': 8500, 'riding': 8501, 'controllers': 8502, 'consolidated': 8503, 'worth': 8504, 'Tychy': 8505, 'concentrated': 8506, 'span': 8507, 'Republicans': 8508, 'on-line': 8509, 'jump': 8510, 'trader': 8511, 'investigation': 8512, 'DHA': 8513, 'Zambia': 8514, 'middle': 8515, 'came': 8516, 'kuna': 8517, 'A': 8518, 'bombs': 8519, 'downgraded': 8520, 'Dacom': 8521, 'Krpaco': 8522, 'still': 8523, 'pursuing': 8524, 'roadblock': 8525, 'metals': 8526, 'announcing': 8527, 'series': 8528, 'known': 8529, 'fatal': 8530, 'Laurent': 8531, 'resignation': 8532, 'Estonia': 8533, 'Oak': 8534, 'ballot': 8535, 'Vancouver': 8536, 'blamed': 8537, 'Local': 8538, 'southwest': 8539, 'convictions': 8540, 'Obilic': 8541, 'session': 8542, 'Gail': 8543, 'F.C.': 8544, 'easy': 8545, 'partial': 8546, '--': 8547, 'postponement': 8548, 'homer': 8549, 'dye': 8550, 'Hershiser': 8551, 'items': 8552, 'Khaleda': 8553, 'exchange': 8554, 'premium': 8555, 'general': 8556, 'Kentucky': 8557, 'Richey': 8558, 'Conde': 8559, 'different': 8560, 'otherwise': 8561, 'FI': 8562, 'MUZAFFARABAD': 8563, 'continued': 8564, 'since': 8565, 'Cedric': 8566, 'seeds': 8567, 'derailed': 8568, 'swimming': 8569, 'erupted': 8570, 'Minnesota': 8571, 'mm': 8572, 'Natasha': 8573, 'gestures': 8574, 'All': 8575, 'Shakhtar': 8576, 'Tina': 8577, 'demolished': 8578, 'Strategic': 8579, 'riders': 8580, 'Herman': 8581, 'three-game': 8582, 'Kosovo': 8583, 'Boskalis': 8584, 'Takeda': 8585, 'Hasina': 8586, 'steal': 8587, 'ETA': 8588, 'kms': 8589, 'nice': 8590, 'province': 8591, 'North': 8592, 'Service': 8593, 'mines': 8594, 'Bosnians': 8595, 'rushed': 8596, 'finish': 8597, 'Libya': 8598, 'fastest': 8599, 'supported': 8600, 'Giants': 8601, 'Her': 8602, 'molotov': 8603, 'Makinen': 8604, 'struggling': 8605, 'body': 8606, 'Borsuk': 8607, 'ENDS': 8608, 'halt': 8609, 'Feyenoord': 8610, 'build': 8611, 'Fernandez': 8612, 'Minardi': 8613, 'guns': 8614, 'Studies': 8615, 'Tomorrow': 8616, 'done': 8617, 'Bundesliga': 8618, 'strategist': 8619, 'Lehman': 8620, 'Penrith': 8621, 'paper': 8622, 'attackers': 8623, 'Mining': 8624, 'completed': 8625, 'Durum': 8626, 'what': 8627, 'Basuki': 8628, 'aide': 8629, 'Asked': 8630, 'feels': 8631, 'circuit': 8632, 'Dai': 8633, 'faster': 8634, 'kilos': 8635, 'Chester': 8636, 'Salomon': 8637, 'reveal': 8638, 'Shrs': 8639, 'privatization': 8640, 'replacements': 8641, 'Universe': 8642, 'two-goal': 8643, 'outfielder': 8644, 'turns': 8645, 'Expos': 8646, 'Brian': 8647, 'Until': 8648, 'regions': 8649, 'Mika': 8650, 'MINNESOTA': 8651, 'importance': 8652, 'appoint': 8653, 'Smoltz': 8654, 'lounge': 8655, 'sold': 8656, 'Supercup': 8657, 'Fleuchaus': 8658, 'Goncharova': 8659, 'environment': 8660, 'Muller': 8661, 'Giovanni': 8662, 'None': 8663, 'Gurusinha': 8664, 'Vavuniya': 8665, 'Inflation': 8666, 'Most': 8667, 'now': 8668, 'meat': 8669, 'paralysed': 8670, 'Meadows': 8671, 'swing': 8672, 'Bremen': 8673, 'proposing': 8674, 'maker': 8675, 'Dimitris': 8676, 'shotgun': 8677, 'WorldCom': 8678, 'solid': 8679, 'extraordinary': 8680, 'bondholders': 8681, 'yesterday': 8682, 'Austria': 8683, 'prosecutor': 8684, 'urge': 8685, 'word': 8686, 'Each': 8687, 'bills': 8688, 'originally': 8689, 'PRO-BASEBALL': 8690, 'Oct.': 8691, 'asking': 8692, 'Stoke': 8693, 'attending': 8694, 'pro-Baghdad': 8695, 'ten': 8696, 'Maybe': 8697, 'Elections': 8698, 'Davenport': 8699, 'tablets': 8700, 'Studenikova': 8701, 'SOLIDERE': 8702, 'Heathrow': 8703, 'nor': 8704, 'gang': 8705, 'Roy': 8706, 'guilty': 8707, 'Guantanamo': 8708, 'wanted': 8709, 'last': 8710, 'thousand': 8711, 'improved': 8712, 'tobacco': 8713, 'slowly': 8714, 'Banco': 8715, 'tops': 8716, 'Year': 8717, 'older': 8718, 'Northern': 8719, 'Authority': 8720, 'rupees': 8721, 'Pauline': 8722, 'eight-year-olds': 8723, 'Cuban': 8724, 'deficits': 8725, 'successor': 8726, 'far': 8727, 'accords': 8728, 'import': 8729, 'regular': 8730, 'stayed': 8731, 'copper': 8732, 'batted': 8733, 'Hlasek': 8734, 'Argentina': 8735, 'denotes': 8736, 'Thai': 8737, 'scared': 8738, 'Feb': 8739, 'gas': 8740, 'practices': 8741, 'consistent': 8742, 'Lisbon': 8743, 'writer': 8744, 'decrees': 8745, 'EgyptAir': 8746, 'fell': 8747, 'quoting': 8748, 'Rosado': 8749, 'Pol': 8750, 'organist': 8751, 'Dutch': 8752, 'boy': 8753, 'Emmanuel': 8754, 'Violeta': 8755, 'hardliners': 8756, 'Friedick': 8757, 'record': 8758, 'elections': 8759, 'holidays': 8760, 'repaid': 8761, 'Slavia': 8762, 'Drummond': 8763, 'whatsoever': 8764, 'ROME': 8765, 'communications': 8766, 'Everton': 8767, 'resolve': 8768, 'denote': 8769, 'PLAY': 8770, 'Primakov': 8771, 'wearing': 8772, 'Bernhard': 8773, 'pumps': 8774, 'provision': 8775, 'wished': 8776, 'Parsons': 8777, 'commanders': 8778, 'raises': 8779, 'WATER': 8780, 'willing': 8781, 'Ligier': 8782, 'McCurry': 8783, 'STOCKS': 8784, 'MON': 8785, 'passes': 8786, 'culture': 8787, 'Piper': 8788, 'inch': 8789, 'Masterkova': 8790, 'Bombay': 8791, 'Demirel': 8792, 'Ala': 8793, 'sluggish': 8794, 'challenging': 8795, 'recently': 8796, 'Guy': 8797, 'products': 8798, 'Silpa-archa': 8799, 'utility': 8800, 'Rostock': 8801, 'Ducati': 8802, 'Bachirou': 8803, 'neglected': 8804, 'keeping': 8805, 'least': 8806, 'plants': 8807, 'probable': 8808, 'cooperation': 8809, 'explicit': 8810, 'Association': 8811, 'Under': 8812, 'embargo': 8813, 'magazine': 8814, 'Zaire': 8815, 'CAF': 8816, 'Henderson': 8817, 'plate': 8818, 'Neza': 8819, 'installed': 8820, 'convention': 8821, 'primary': 8822, 'weight': 8823, 'player': 8824, 'Scottish': 8825, 'nun': 8826, 'incentives': 8827, 'Sadiki': 8828, 'boost': 8829, 'held': 8830, 'profitable': 8831, 'YEAR-AGO': 8832, 'repeated': 8833, 'Quarter': 8834, 'investor': 8835, 'Enschede': 8836, 'becoming': 8837, 'Education': 8838, 'Brooks': 8839, 'Chris': 8840, 'reforms': 8841, 'PTT': 8842, 'specify': 8843, 'considering': 8844, 'Amy': 8845, 'Leicestershire': 8846, 'England': 8847, 'Mokhoff': 8848, 'Bardejov': 8849, 'barley': 8850, 'ONE': 8851, 'budgeted': 8852, 'visitors': 8853, 'recalled': 8854, 'Sochi': 8855, 'jet': 8856, 'bombers': 8857, 'Murray': 8858, 'hoped': 8859, 'Middlesbrough': 8860, 'many': 8861, 'branch': 8862, 'DDF': 8863, 'Puerto': 8864, 'OLYMPIAKOS': 8865, 'Togo': 8866, 'Laurence': 8867, 'CANADIAN': 8868, 'Empoli': 8869, 'Iva': 8870, 'global': 8871, 'UAE': 8872, 'Boca': 8873, \"O'Neal\": 8874, 'HARARE': 8875, 'Irish': 8876, 'slid': 8877, 'rises': 8878, 're-nomination': 8879, 'Atlas': 8880, 'Ireland': 8881, 'CAPS': 8882, 'Maria': 8883, 'Goulnara': 8884, 'owner': 8885, 'Carl': 8886, 'Right': 8887, 'Forsa': 8888, 'Gavin': 8889, 'Vicente': 8890, 'bonus': 8891, 'substituted': 8892, 'Eli': 8893, 'Today': 8894, 'Coppinger': 8895, 'MPs': 8896, 'Barcelona': 8897, 'politician': 8898, 'there': 8899, 'Luis': 8900, 'origin': 8901, 'hit': 8902, 'Rudi': 8903, 'policemen': 8904, 'Slask': 8905, 'union': 8906, 'alert': 8907, 'room': 8908, 'dollar': 8909, 'go-ahead': 8910, 'Stanojlovic': 8911, 'state-owned': 8912, 'scored': 8913, 'Iraqis': 8914, 'BREAKS': 8915, 'Russia': 8916, 'hurry': 8917, 'poking': 8918, 'Erik': 8919, 'DHAKA': 8920, 'tonnes': 8921, 'Halftime': 8922, 'saw': 8923, 'principle': 8924, 'reasons': 8925, 'Doetinchem': 8926, 'colonies': 8927, 'respect': 8928, 'Raphanel': 8929, 'Inter': 8930, 'HELSINKI': 8931, 'Co': 8932, 'capacity': 8933, 'pitting': 8934, 'Karina': 8935, 'Center': 8936, 'changing': 8937, 'superbike': 8938, 'southeastern': 8939, 'Azharuddin': 8940, 'MANCHESTER': 8941, 'Rotherham': 8942, 'P.': 8943, 'institutions': 8944, 'dictatorial': 8945, 'shot': 8946, 'Populaire': 8947, 'script': 8948, 'Springer': 8949, 'territories': 8950, 'dominated': 8951, 'reflected': 8952, 'PGA': 8953, 'gunned': 8954, 'videotape': 8955, 'further': 8956, 'Europe': 8957, 'Gary': 8958, 'planks': 8959, 'Tanaka': 8960, 'qualify': 8961, 'enhance': 8962, 'needs': 8963, 'Earth': 8964, 'Qidra': 8965, 'Jamaica': 8966, 'vegetables': 8967, 'Wolfgang': 8968, 'Capital': 8969, 'negative': 8970, 'contrary': 8971, 'Marlins': 8972, 'JERUSALEM': 8973, 'brother': 8974, 'Tour': 8975, 'Paulo': 8976, 'Gaston': 8977, 'Oncins': 8978, 'Tsang': 8979, 'Unita': 8980, 'Distillers': 8981, '!': 8982, 'expectations': 8983, 'weakness': 8984, 'thus': 8985, 'spleens': 8986, 'peaks': 8987, 'SPA-FRANCORCHAMPS': 8988, 'armoured': 8989, 'haul': 8990, 're-election': 8991, 'refused': 8992, 'younger': 8993, 'believes': 8994, 'Doboj': 8995, 'pity': 8996, 'bonded': 8997, 'climb': 8998, 'Salou': 8999, 'sclerosis': 9000, 'executed': 9001, 'titles': 9002, 'Diego': 9003, 'trucks': 9004, 'warnings': 9005, 'colon': 9006, 'voting': 9007, 'Reuters': 9008, 'Cetes': 9009, 'revolt': 9010, 'wide': 9011, 'livestock': 9012, 'Greg': 9013, 'equivalent': 9014, 'inning': 9015, 'Samson': 9016, 'rider': 9017, 'Matahari': 9018, 'pairs': 9019, 'Warburg': 9020, 'debt': 9021, 'Lakes': 9022, 'Ruben': 9023, 'circles': 9024, 'AEX': 9025, 'miner': 9026, 'projection': 9027, 'expected': 9028, 'wars': 9029, 'setbacks': 9030, 'politics': 9031, '$': 9032, 'secret': 9033, 'delegation': 9034, 'resign': 9035, 'labourers': 9036, 'Valletta': 9037, 'Obree': 9038, 'Frentzen': 9039, 'Banik': 9040, 'exercise': 9041, 'PCT': 9042, ':': 9043, 'gear': 9044, 'coerced': 9045, 'Corps': 9046, 'Prairie': 9047, 'statement': 9048, 'grand': 9049, 'independence': 9050, 'Moss': 9051, 'selling': 9052, 'space': 9053, 'Toyota': 9054, 'cocked': 9055, 'hitting': 9056, 'security': 9057, 'organisations': 9058, 'Brandes': 9059, 'Lierse': 9060, 'testing': 9061, 'Nov': 9062, 'rand': 9063, 'Nicholas': 9064, 'remained': 9065, 'harvest': 9066, 'controversial': 9067, 'explained': 9068, 'textbooks': 9069, 'Younes': 9070, 'injection': 9071, 'millfeeds': 9072, 'Dnipro': 9073, 'relatives': 9074, 'formation': 9075, 'ransom': 9076, 'Azad': 9077, 'Thompson': 9078, 'Mountains': 9079, 'worked': 9080, 'tomato': 9081, 'Young': 9082, 'Citterio': 9083, 'Suneson': 9084, 'refuse': 9085, 'anti-nuclear': 9086, 'Ahmed': 9087, 'faces': 9088, 'Crohn': 9089, 'assault': 9090, 'failure': 9091, 'environmental': 9092, 'monitoring': 9093, 'administrator': 9094, 'spoiling': 9095, 'Antonio': 9096, 'Milan': 9097, 'sleeping': 9098, 'complained': 9099, 'IOC': 9100, 'Development': 9101, 'metre': 9102, 'Komala': 9103, 'above': 9104, 'Workington': 9105, 'rule': 9106, 'Bierhoff': 9107, 'warning': 9108, 'Experts': 9109, 'Soon': 9110, 'hopes': 9111, 'run': 9112, 'Karol': 9113, 'whole': 9114, 'occurs': 9115, 'bilateral': 9116, 'statements': 9117, 'bishop': 9118, 'Jack': 9119, 'sympathy': 9120, 'bulk': 9121, 'locations': 9122, 'advocated': 9123, 'Wisc': 9124, 'throne': 9125, 'WIN': 9126, 'bales': 9127, 'Benjamin': 9128, 'Pro': 9129, 'Special': 9130, 'clubs': 9131, 'ton': 9132, 'moderate': 9133, 'guilder': 9134, 'Sosa': 9135, 'taught': 9136, 'arriving': 9137, 'searches': 9138, 'ZDF': 9139, 'play': 9140, 'PRAHA': 9141, 'whistle-stop': 9142, 'Physicians': 9143, 'Ka': 9144, 'Midfielders': 9145, 'et': 9146, 'SCHEDULE': 9147, 'Schutte': 9148, 'viscose': 9149, 'approve': 9150, 'affairs': 9151, 'Spongiform': 9152, 'Stich': 9153, 'Catholics': 9154, 'companies': 9155, 'Ong': 9156, 'Casino': 9157, 'pitched': 9158, 'noted': 9159, 'MOTORCYCLING': 9160, 'efforts': 9161, 'Shiraz': 9162, 'right': 9163, 'coach': 9164, 'outline': 9165, 'Machado': 9166, 'shortstop': 9167, 'Corporate': 9168, 'SARAJEVO': 9169, 'WORLD': 9170, 'Roxbury': 9171, 'MIT': 9172, 'wheelchair': 9173, 'Nadu': 9174, 'Hassan': 9175, 'tracks': 9176, 'TAIPEI': 9177, 'cancer': 9178, 'Werner': 9179, 'Conte': 9180, 'exiled': 9181, 'DOCUMENT': 9182, 'atrocities': 9183, 'winter': 9184, 'born': 9185, 'Abbey': 9186, 'stay': 9187, 'derails': 9188, 'Rotor': 9189, 'earliest': 9190, 'HOME': 9191, 'Lombardi': 9192, 'Aarau': 9193, 'Ejup': 9194, 'operation': 9195, 'coaching': 9196, 'Groningen': 9197, 'evening': 9198, 'Birendra': 9199, 'Shayne': 9200, 'Brann': 9201, 'Namibia': 9202, 'pain': 9203, 'Fife': 9204, 'Maoist': 9205, 'nitrofuran': 9206, 'approved': 9207, 'seems': 9208, 'Allen': 9209, 'Rudolf': 9210, 'Seven': 9211, 'Morgan': 9212, 'white': 9213, 'Muhammad': 9214, 'Mironivka': 9215, 'seat': 9216, 'aflatoxin': 9217, 'pullout': 9218, 'tradition': 9219, 'depend': 9220, 'KANSAS': 9221, 'packaging': 9222, 'for': 9223, 'missing': 9224, 'bed': 9225, 'transactions': 9226, 'Studentesc': 9227, 'Cross': 9228, 'smuggling': 9229, 'evacuated': 9230, 'extended': 9231, 'Koerts': 9232, 'holder': 9233, 'Sovetov': 9234, 'Housing': 9235, 'Silva': 9236, 'director': 9237, 'BASEBALL': 9238, 'both': 9239, 'Phnom': 9240, 'TAKE': 9241, 'passed': 9242, 'trend': 9243, 'Wroclaw': 9244, 'closures': 9245, 'injured': 9246, 'breeders': 9247, 'Faulding': 9248, 'scare': 9249, 'attacks': 9250, 'Indonesia': 9251, 'raw': 9252, 'Virginia': 9253, 'company': 9254, 'Arazi': 9255, 'ballots': 9256, 'north': 9257, 'hopefuls': 9258, 'Neither': 9259, 'helps': 9260, 'contain': 9261, 'SUMMARY': 9262, 'Melbourne': 9263, 'volumes': 9264, 'Kawasaki': 9265, 'Woodforde': 9266, 'together': 9267, 'intention': 9268, 'MIN': 9269, 'drive': 9270, 'Collingwood': 9271, 'job': 9272, 'traded': 9273, 'lives': 9274, 'elimination': 9275, 'splinter': 9276, 'repairs': 9277, 'dealer': 9278, 'downstairs': 9279, 'NORTHAMPTON': 9280, 'Scunthorpe': 9281, 'Claire': 9282, 'customer': 9283, 'Drnovice': 9284, 'Rock': 9285, 'Serbs': 9286, 'garden': 9287, 'hang': 9288, 'property': 9289, 'Nantes': 9290, 'actor': 9291, 'valid': 9292, 'boxcar': 9293, 'Boris': 9294, 'resume': 9295, 'Dhahran': 9296, 'year-ago': 9297, 'frequently': 9298, 'Treaty': 9299, 'Colombian': 9300, 'Lebouc': 9301, 'twice': 9302, 'quarters': 9303, 'importing': 9304, 'PAGES': 9305, 'plugged': 9306, 'business': 9307, 'Tillstrom': 9308, 'Casey': 9309, 'Even': 9310, 'checked': 9311, 'save': 9312, 'undertaking': 9313, 'v': 9314, 'Ryutaro': 9315, 'funded': 9316, 'masked': 9317, 'Kris': 9318, 'Dream': 9319, 'JUNE': 9320, 'pinch-hitter': 9321, 'simply': 9322, 'Dan': 9323, 'Gente': 9324, 'film': 9325, 'Stephane': 9326, 'Erbakan': 9327, 'findings': 9328, 'annum': 9329, 'MANAGER': 9330, 'Henry': 9331, 'total': 9332, 'aggressive': 9333, 'fulfilled': 9334, 'Jing-Qian': 9335, 'tossed': 9336, 'relieved': 9337, 'Penalties': 9338, 'We': 9339, 'Schalken': 9340, 'opportunity': 9341, 'protection': 9342, 'finds': 9343, 'Brown': 9344, 'mid-September': 9345, 'equities': 9346, 'connected': 9347, 'Troy': 9348, 'EXERCISE': 9349, 'Corp': 9350, 'Finns': 9351, 'size': 9352, 'hog': 9353, 'Zemun': 9354, 'year-on-year': 9355, 'Enn': 9356, 'Gustafsson': 9357, 'conduct': 9358, 'Joseph': 9359, 'Ceahlaul': 9360, 'railway': 9361, 'values': 9362, 'oblige': 9363, 'ends': 9364, 'Hinckley': 9365, 'mainland': 9366, 'investing': 9367, 'recommendations': 9368, 'mosque': 9369, 'solo': 9370, 'touch': 9371, 'colleagues': 9372, 'plant': 9373, 'beryllium': 9374, 'Semiconductor': 9375, 'carmaker': 9376, 'filmed': 9377, 'common': 9378, 'Rikl': 9379, 'lamented': 9380, 'Others': 9381, 'insider': 9382, 'reliever': 9383, 'mentor': 9384, 'organisers': 9385, 'Sigma': 9386, 'activity': 9387, 'assets': 9388, 'pass': 9389, 'success': 9390, 'nuclear': 9391, 'zinc': 9392, 'Corrigendum': 9393, 'smashed': 9394, 'Michigan': 9395, 'SEES': 9396, 'TBN': 9397, 'print': 9398, 'Gilford': 9399, 'score': 9400, 'Johannesburg': 9401, 'insurgents': 9402, 'anonymous': 9403, 'aim': 9404, 'REOFFER': 9405, 'secure': 9406, 'Health': 9407, 'rifle': 9408, 'PORTUGUESE': 9409, 'Sammer': 9410, 'BVSC': 9411, 'Harding': 9412, 'SELL': 9413, 'Vacek': 9414, 'Budget': 9415, 'provincial': 9416, 'BADMINTON': 9417, 'heels': 9418, 'Johan': 9419, 'A.S.': 9420, 'STANDARD': 9421, 'year': 9422, 'parallel': 9423, 'devoted': 9424, 'royal': 9425, 'Hendrika': 9426, 'Malone': 9427, 'Empire': 9428, 'Mohammed': 9429, 'KARACHI': 9430, 'coffee': 9431, 'Secretary-General': 9432, 'Temperatures': 9433, 'heat': 9434, 'b': 9435, 'AEK': 9436, 'hijackers': 9437, 'ZURICH': 9438, 'scoreline': 9439, 'consent': 9440, 'Omer': 9441, 'De': 9442, 'provisions': 9443, 'Michelle': 9444, 'interval': 9445, 'Mohammad': 9446, 'excited': 9447, 'Gremio': 9448, 'Spirlea': 9449, 'disarmed': 9450, 'waiting': 9451, 'Slam': 9452, 'Crowley': 9453, 'threat': 9454, 'records': 9455, 'slam': 9456, 'impossible': 9457, 'delivered': 9458, 'accord': 9459, 'prospects': 9460, 'Bank': 9461, 'Gajdos': 9462, 'around': 9463, 'Trading': 9464, 'reeling': 9465, 'Sandrine': 9466, 'work': 9467, 'research': 9468, 'Tarmac': 9469, 'bitter': 9470, 'Chili': 9471, 'walls': 9472, 'Stoichkov': 9473, 'LONDON': 9474, 'nationalist': 9475, 'portfolio': 9476, 'Kuperman': 9477, 'Kumara': 9478, 'ex-president': 9479, 'someone': 9480, 'slashed': 9481, 'FIFTH': 9482, 'television': 9483, 'Carter': 9484, 'Savicevic': 9485, 'Younis': 9486, 'Huber': 9487, 'Staff': 9488, 'activists': 9489, 'one-week': 9490, 'Collective': 9491, 'Balkan': 9492, 'main': 9493, 'home-made': 9494, 'Ijaz': 9495, 'Australia': 9496, 'obstructing': 9497, 'election': 9498, 'buyer': 9499, 'Perelstein': 9500, 'Lazar': 9501, 'rapidly': 9502, 'coordinator': 9503, 'humanitarian': 9504, 'Hansa': 9505, 'ST': 9506, 'construction': 9507, 'NATIONAL': 9508, 'verdict': 9509, 'Quarracino': 9510, 'Israelis': 9511, 'Hissou': 9512, 'increasingly': 9513, 'Barnsley': 9514, 'Constanta': 9515, 'CSKA': 9516, 'Kenya': 9517, 'something': 9518, 'villa': 9519, 'Ayres': 9520, 'margins': 9521, 'Banking': 9522, 'wall': 9523, 'Fla.': 9524, 'week': 9525, 'YANKEES': 9526, 'Switzerland': 9527, 'Interior': 9528, 'pulled': 9529, 'DEFLT': 9530, 'conservative': 9531, 'RALLY': 9532, 'signalled': 9533, 'drawn': 9534, 'Andrew': 9535, 'Albanian': 9536, 'vital': 9537, 'experts': 9538, 'Safety': 9539, 'release': 9540, 'Teresa': 9541, 'contest': 9542, 'Manhattan': 9543, '-DOCSTART-': 9544, 'qualifier': 9545, 'person': 9546, 'tents': 9547, 'style': 9548, 'rather': 9549, 'initiative': 9550, \"'ll\": 9551, 'strikeouts': 9552, 'choice': 9553, 'Jana': 9554, 'throughout': 9555, 'Mansfield': 9556, 'Hasan': 9557, 'McEwen': 9558, 'Scifo': 9559, 'virus': 9560, 'administration': 9561, 'search': 9562, 'Yayuk': 9563, 'Refining': 9564, 'services': 9565, 'Morocco': 9566, 'Production': 9567, 'Bailey': 9568, 'air': 9569, 'materials': 9570, 'operate': 9571, 'C': 9572, 'Indiana': 9573, 'MAY': 9574, 'minister': 9575, 'Chindia': 9576, 'Down': 9577, 'six-hitter': 9578, 'SHEFFIELD': 9579, 'stealing': 9580, 'offering': 9581, 'advice': 9582, 'Likhovtseva': 9583, 'king': 9584, 'Noriyuki': 9585, 'disrupted': 9586, 'Election': 9587, 'order': 9588, 'DBRS': 9589, 'Chernomyrdin': 9590, 'Tommy': 9591, 'refunding': 9592, 'theme': 9593, 'scattered': 9594, 'expanding': 9595, 'Town': 9596, 'breakaway': 9597, 'skilled': 9598, 'Gillingham': 9599, 'Kruger': 9600, 'accident': 9601, 'killer': 9602, 'indicate': 9603, 'first-round': 9604, 'Ocean': 9605, 'sheet': 9606, 'arrests': 9607, 'Klaus': 9608, 'Robbie': 9609, 'woman': 9610, 'yards': 9611, 'Riyadh': 9612, 'Bunce': 9613, 'rich': 9614, 'cash': 9615, 'microfilm': 9616, 'social': 9617, 'amounted': 9618, 'FRIENDLY': 9619, 'often': 9620, 'banks': 9621, 'M.': 9622, 'Andrea': 9623, 'Chong': 9624, 'legislative': 9625, 'Beaver': 9626, 'fully': 9627, 'Ayr': 9628, 'Crafar': 9629, 'averages': 9630, 'Roest': 9631, 'palace': 9632, 'eighth-inning': 9633, 'penultimate': 9634, 'purchased': 9635, 'Surinam': 9636, 'assessed': 9637, 'Milosevic': 9638, 'difficult': 9639, 'shy': 9640, 'ALERT': 9641, 'Roman': 9642, 'generally': 9643, 'offer': 9644, 'Essex': 9645, 'suburb': 9646, 'To': 9647, 'More': 9648, 'treated': 9649, 'strikes': 9650, 'afterwards': 9651, 'fake': 9652, 'demand': 9653, 'Israeli-PLO': 9654, 'Hibernian': 9655, 'owners': 9656, 'Post': 9657, 'region': 9658, 'RUN': 9659, 'Airways': 9660, 'onlookers': 9661, 'reprieve': 9662, 'System': 9663, 'Haven': 9664, 'box': 9665, 'Kurdistan': 9666, 'unclear': 9667, 'Carbonell': 9668, 'Melanie': 9669, 'getting': 9670, 'Dave': 9671, 'Lampitt': 9672, \"'re\": 9673, 'Clarence': 9674, 'conference': 9675, 'found': 9676, 'machinery': 9677, 'Juliet': 9678, 'Ulsan': 9679, 'sought': 9680, 'see': 9681, 'counterparts': 9682, 'subsidiary': 9683, 'energy': 9684, 'fours': 9685, 'enemies': 9686, 'Primary': 9687, 'Nijmeh': 9688, 'rebel': 9689, 'Bangladesh': 9690, 'vice': 9691, 'lock': 9692, 'army': 9693, 'side': 9694, 'Manly': 9695, 'Reppas': 9696, 'unidentified': 9697, 'Ernie': 9698, 'best': 9699, 'FIS': 9700, 'lived': 9701, 'incomplete': 9702, 'Companion': 9703, 'Maslova': 9704, 'Malaysian': 9705, 'Monica': 9706, 'VEREINSBANK': 9707, 'nursing': 9708, 'animals': 9709, 'Eco-Challenge': 9710, 'Stankowski': 9711, 'ended': 9712, 'AC': 9713, 'Shell': 9714, 'ANGELES': 9715, 'Speak': 9716, 'Lanusse': 9717, 'affect': 9718, 'Shanghai': 9719, 'Gornik': 9720, 'interest': 9721, 'Northampton': 9722, 'Laasonen': 9723, 'Funar': 9724, 'Norton': 9725, 'From': 9726, 'reported': 9727, 'Engquist': 9728, 'Globo': 9729, 'those': 9730, 'KATHMANDU': 9731, 'command': 9732, 'Talabani': 9733, 'SBPUs': 9734, 'focus': 9735, 'Hundreds': 9736, 'Shubei': 9737, 'Jewish': 9738, 'Dodgers': 9739, 'walkover': 9740, 'Williams': 9741, 'hryvna': 9742, 'concerned': 9743, 'Legia': 9744, 'hospitalized': 9745, 'Gazprom': 9746, 'Skeid': 9747, 'alerted': 9748, 'detention': 9749, 'Vorskla': 9750, 'AFRICAN': 9751, 'Air': 9752, 'Jacobs': 9753, 'control': 9754, 'summer': 9755, 'B': 9756, 'offered': 9757, 'residents': 9758, 'stock': 9759, 'Salzburg': 9760, 'Beit': 9761, 'Midfielder': 9762, 'omitted': 9763, 'Pembroke': 9764, 'chiefs': 9765, 'a': 9766, 'Jerry': 9767, 'Rahman': 9768, 'versus': 9769, 'demanded': 9770, 'of': 9771, 'Betar': 9772, 'appreciation': 9773, 'Goldstein': 9774, 'author': 9775, 'accidental': 9776, 'demonstrations': 9777, 'Lupu': 9778, 'assured': 9779, 'overs-a-side': 9780, 'tribal': 9781, 'three-hour': 9782, 'Lenzing': 9783, 'drugs': 9784, 'stopping': 9785, 'Bucaram': 9786, 'CTRY': 9787, 'Munton': 9788, 'recovery': 9789, 'Salvador': 9790, 'throwing': 9791, 'CAPTAIN': 9792, 'inmates': 9793, 'OWENS': 9794, 'rules': 9795, 'Piatra': 9796, 'One': 9797, 'Management': 9798, 'coconut': 9799, 'robbers': 9800, 'pills': 9801, 'Lamonts': 9802, 'Tiger': 9803, 'Moscow': 9804, 'Ravanelli': 9805, 'knee': 9806, 'Carol': 9807, 'Tranmere': 9808, 'pay': 9809, 'settlement': 9810, 'Doug': 9811, 'declaration': 9812, 'Vinnytsya': 9813, 'arrest': 9814, 'picked': 9815, 'stockpile': 9816, 'starvation': 9817, 'During': 9818, 'Iraqi': 9819, 'has': 9820, 'deal': 9821, 'minority': 9822, 'Homeland': 9823, 'Isaac': 9824, 'Bulgarian': 9825, 'prayer': 9826, 'corruption': 9827, 'Reiffel': 9828, 'shoot': 9829, 'pointing': 9830, 'commentators': 9831, 'Hope': 9832, 'Dechy': 9833, 'missionary': 9834, 'st': 9835, 'matter': 9836, 'Champions': 9837, 'acquisition': 9838, 'Bryant': 9839, 'wages': 9840, 'Schaller': 9841, 'Pittsburgh': 9842, 'Nepali': 9843, 'functioning': 9844, 'chain': 9845, 'available': 9846, 'maintains': 9847, 'wind': 9848, 'State': 9849, 'congress': 9850, 'ammunition': 9851, 'Chancellor': 9852, 'V': 9853, 'Costas': 9854, 'role': 9855, 'produced': 9856, 'Headingley': 9857, 'bone': 9858, 'Maso': 9859, 'Setubal': 9860, 'Deficit': 9861, 'Observatory': 9862, 'suggesting': 9863, 'Jarmo': 9864, 'four-run': 9865, 'Margaret': 9866, 'spotted': 9867, 'high': 9868, 'WASHINGTON': 9869, 'muni': 9870, 'adjusted': 9871, 'Man': 9872, 'Esnaider': 9873, 'Numerous': 9874, 'DIGEST': 9875, 'Arendt': 9876, 'Odra': 9877, 'javelin': 9878, 'looking': 9879, 'Jersey': 9880, 'RBI': 9881, 'drunks': 9882, 'attache': 9883, 'closer': 9884, 'behind': 9885, 'pace': 9886, 'advantage': 9887, 'Beatrix': 9888, 'VALLETTA': 9889, 'Kathmandu': 9890, 'bushel': 9891, 'Royal': 9892, 'slated': 9893, 'Lelouche': 9894, 'Puchon': 9895, 'prize': 9896, 'defeating': 9897, 'loans': 9898, 'vs': 9899, 'American-style': 9900, 'Conditions': 9901, 'writers': 9902, 'Cheung': 9903, 'latter': 9904, 'A$': 9905, 'photographs': 9906, 'ALMERE': 9907, 'distributed': 9908, 'Gobert': 9909, 'settlements': 9910, 'BAYERISCHE': 9911, 'submitted': 9912, 'insisting': 9913, 'frame': 9914, 'Petrovic': 9915, 'skull': 9916, 'sheep': 9917, 'Bahrain': 9918, 'Germain': 9919, 'Sutjeska': 9920, 'peak': 9921, 'Arges': 9922, 'problem': 9923, 'Field': 9924, 'Sport': 9925, 'start': 9926, 'excellent': 9927, 'CINCO': 9928, 'Vinny': 9929, 'February': 9930, 'Announcement': 9931, 'soon': 9932, 'Islamists': 9933, 'Block': 9934, 'Marchal': 9935, 'export': 9936, 'whales': 9937, 'Smicer': 9938, 'DAY': 9939, 'whether': 9940, 'forehand': 9941, 'progress': 9942, 'rescued': 9943, 'Rostselmash': 9944, 'assistant': 9945, 'half-time': 9946, 'Twins': 9947, 'Newcombe': 9948, 'shattered': 9949, 'BARCELONA': 9950, 'planning': 9951, 'supposed': 9952, 'Teutenberg': 9953, 'Johnstone': 9954, 'Carling': 9955, 'borders': 9956, 'Central': 9957, 'less': 9958, 'Jay': 9959, 'bases-loaded': 9960, 'Rita': 9961, 'Tim': 9962, 'HITS': 9963, 'continuous': 9964, 'Sierra': 9965, 'Assembly': 9966, 'Hereford': 9967, 'Province': 9968, 'Janeiro': 9969, 'combat': 9970, 'Tutsi-dominated': 9971, 'Chelny': 9972, 'threw': 9973, 'elsewhere': 9974, 'fate': 9975, 'tabulated': 9976, 'reopened': 9977, 'onto': 9978, 'Department': 9979, 'Xhosa': 9980, 'food': 9981, 'Analysts': 9982, 'Softbank': 9983, 'reason': 9984, 'contained': 9985, 'MOTOR': 9986, 'wo': 9987, 'Federation': 9988, 'losses': 9989, 'Noel': 9990, 'two-week': 9991, 'Giles': 9992, 'finals': 9993, 'linked': 9994, 'passage': 9995, 'threats': 9996, 'Not': 9997, 'Coupon': 9998, 'helicopter': 9999, 'slips': 10000, 'BSM': 10001, 'natural': 10002, 'Glickman': 10003, 'Oscar': 10004, 'harvested': 10005, 'Stromme': 10006, 'Six': 10007, 'resulted': 10008, 'R.': 10009, 'slipping': 10010, \"'s\": 10011, 'Income': 10012, 'Reading': 10013, 'Juppe': 10014, 'qualified': 10015, 'hand': 10016, 'IN': 10017, 'PKK': 10018, 'Toshiba': 10019, 'requirement': 10020, 'HOUSTON': 10021, 'provide': 10022, 'Provisional': 10023, 'aggression': 10024, 'Greer': 10025, 'luxury': 10026, 'Palestinians': 10027, 'denies': 10028, 'cavorting': 10029, 'Balkans': 10030, 'concern': 10031, 'Nunthorpe': 10032, 'Audi': 10033, 'highest': 10034, 'Cimicchi': 10035, 'solitary': 10036, 'Subaru': 10037, 'lucky': 10038, 'lows': 10039, 'disappearance': 10040, 'authorities': 10041, 'Merrill': 10042, 'H.K.': 10043, 'convent': 10044, 'drinking': 10045, \"'ve\": 10046, 'Rios': 10047, 'networks': 10048, 'sea': 10049, 'Newsdesk': 10050, 'MONEY': 10051, 'Jordi': 10052, 'owned': 10053, 'thanks': 10054, 'consulting': 10055, 'lowers': 10056, 'April': 10057, 'SDA': 10058, 'Montpelier': 10059, 'Banisadr': 10060, 'surgical': 10061, 'Peres': 10062, 'released': 10063, 'foreigners': 10064, 'pledged': 10065, 'quote': 10066, 'serial': 10067, 'patient': 10068, 'four-hour': 10069, 'foreign': 10070, 'bowed': 10071, 'Millns': 10072, 'Hurte': 10073, 'hurts': 10074, 'investors': 10075, 'Turnover': 10076, 'Radka': 10077, 'Eastern': 10078, 'forcing': 10079, 'photos': 10080, 'motorway': 10081, 'three': 10082, 'weapons': 10083, 'force': 10084, 'topsoil': 10085, 'Waldorf': 10086, 'seasonal': 10087, 'Midwest': 10088, 'people': 10089, 'watched': 10090, 'Fox': 10091, 'Ford': 10092, 'end-of-season': 10093, 'competition': 10094, 'Ischinger': 10095, 'Corinthians': 10096, 'advise': 10097, 'osteoporosis': 10098, 'infringement': 10099, 'Union': 10100, 'Filip': 10101, 'suitable': 10102, 'backbone': 10103, 'Index': 10104, 'MONROVIA': 10105, 'airlines': 10106, 'riyal': 10107, 'Price': 10108, 'Fed': 10109, 'Barter': 10110, 'history': 10111, 'PUK': 10112, 'face': 10113, 'crashed': 10114, 'reformer': 10115, 'vowed': 10116, 'Riviera': 10117, 'Hillary': 10118, 'Owen-Jones': 10119, 'Tigers': 10120, 'Reneberg': 10121, 'home': 10122, 'jobs': 10123, 'balloon': 10124, 'fierce': 10125, 'infrastructure': 10126, 'LE': 10127, 'chains': 10128, 'N.J.': 10129, 'Ciller': 10130, 'CTBT': 10131, 'T-bill': 10132, 'weak': 10133, 'mobile': 10134, 'reformist': 10135, 'L.': 10136, 'repeat': 10137, 'failing': 10138, 'top': 10139, 'agricultural': 10140, 'starter': 10141, 'Davey': 10142, 'southeast': 10143, 'dissolution': 10144, 'Moslem-Croat': 10145, 'win': 10146, 'And': 10147, 'dominant': 10148, 'Smith': 10149, 'assemblies': 10150, 'dirt': 10151, 'J.': 10152, 'Akashi': 10153, 'Vicario': 10154, 'long-time': 10155, 'numbers': 10156, 'dog': 10157, 'brand': 10158, 'wreckage': 10159, 'videos': 10160, 'Rules': 10161, 'Mieciel': 10162, 'Chechnya': 10163, 'exit': 10164, 'murders': 10165, 'looked': 10166, 'traditionally': 10167, 'SQUASH': 10168, 'Father': 10169, 'Burnley': 10170, 'sell': 10171, 'prove': 10172, 'contributed': 10173, 'attracted': 10174, 'demonstration': 10175, 'UNITED': 10176, 'Mosier': 10177, 'Jan-April': 10178, 'technology': 10179, 'shareholders': 10180, 'shaken': 10181, 'never': 10182, 'Petroleum': 10183, 'problems': 10184, 'Lima': 10185, 'possible': 10186, 'like': 10187, 'Montserrat': 10188, 'Budapest': 10189, 'Trulsen': 10190, 'conflicts': 10191, 'leaders': 10192, 'does': 10193, 'How': 10194, 'revealed': 10195, 'message': 10196, 'Sir': 10197, 'issuing': 10198, 'saving': 10199, 'Luo': 10200, 'Corp.': 10201, 'NWE': 10202, 'Nizhny': 10203, 'Labour': 10204, 'Abbaye': 10205, 'majorities': 10206, 'COUNTY': 10207, 'JANEIRO': 10208, 'PITTSBURGH': 10209, 'Amoco': 10210, 'bidders': 10211, 'Haas': 10212, 'Sar': 10213, 'given': 10214, 'ATP': 10215, 'Boer': 10216, 'surrounded': 10217, 'BP': 10218, 'ethnic': 10219, 'objections': 10220, 'comparative': 10221, 'establish': 10222, 'resigned': 10223, 'except': 10224, 'suicide': 10225, 'irregularities': 10226, 'Garlic': 10227, 'abuses': 10228, 'Juventude': 10229, 'Nathalie': 10230, 'necessary': 10231, 'spreading': 10232, 'loud': 10233, 'disorder': 10234, 'upper': 10235, 'Carl-Uwe': 10236, 'error': 10237, 'radio': 10238, 'unk_contain_num': 10239, 'watch': 10240, 'purpose': 10241, 'rugby': 10242, 'Linhart': 10243, 'Home': 10244, 'located': 10245, 'jungle': 10246, 'diseases': 10247, 'apart': 10248, 'Karen': 10249, 'Western': 10250, 'develop': 10251, 'Nottinghamshire': 10252, 'strong': 10253, 'whale': 10254, 'Talbott': 10255, 'preliminary': 10256, 'dressed': 10257, 'Yastrezhembsky': 10258, 'pistol': 10259, 'Circuit': 10260, 'COMMACK': 10261, 'APT': 10262, 'digging': 10263, 'Aaron': 10264, 'speech': 10265, 'FROM': 10266, 'Foreign': 10267, 'studies': 10268, 'sowing': 10269, 'Togliatti': 10270, 'Nicky': 10271, 'dismissal': 10272, 'Rose': 10273, 'towns': 10274, 'Chile': 10275, 'stable': 10276, 'servicemen': 10277, 'crazy': 10278, 'Stansted': 10279, 'photographers': 10280, 'impressive': 10281, 'extra': 10282, 'hardly': 10283, 'quake': 10284, 'Vaughn': 10285, 'Ren': 10286, 'Retief': 10287, 'Paulus': 10288, 'magazines': 10289, 'Palmer': 10290, 'Nijmegen': 10291, 'shutdown': 10292, 'expulsion': 10293, 'confused': 10294, 'purposes': 10295, 'proceeding': 10296, 'Dopfer': 10297, 'Annett': 10298, 'set': 10299, 'deliver': 10300, 'inflation': 10301, 'Rafter': 10302, 'boat': 10303, 'JOHANNESBURG': 10304, 'goverment': 10305, 'saved': 10306, 'accepted': 10307, 'AG': 10308, 'Marcos': 10309, 'Liu': 10310, 'barges': 10311, 'provided': 10312, 'Lien': 10313, 'Prior': 10314, 'runs': 10315, 'Jeroen': 10316, 'freedom': 10317, 'Raoux': 10318, 'televised': 10319, 'rejoined': 10320, 'ABC': 10321, 'ATAGI': 10322, 'rejecting': 10323, 'James': 10324, 'escape': 10325, 'inject': 10326, 'Forfar': 10327, 'YORK': 10328, 'Dirk': 10329, 'Metro': 10330, 'easing': 10331, 'concert': 10332, 'Anthony': 10333, 'song': 10334, 'comes': 10335, 'muscular': 10336, 'Atlanta': 10337, 'carry': 10338, 'slain': 10339, 'followed': 10340, 'WARSAW': 10341, 'Detective': 10342, 'Windows': 10343, 'surged': 10344, 'agreed': 10345, 'unite': 10346, 'outscored': 10347, 'GAK': 10348, 'Jan': 10349, 'KEEPS': 10350, 'Parma': 10351, 'curb': 10352, 'NATO-led': 10353, 'Bourlet': 10354, 'French': 10355, 'Cambodia': 10356, 'representing': 10357, 'angered': 10358, 'weekend': 10359, 'Wilander': 10360, 'bank': 10361, 'enable': 10362, 'Durham': 10363, 'allowed': 10364, 'Anwar': 10365, 'worsened': 10366, \"Gen'l\": 10367, 'calling': 10368, 'Corsica': 10369, 'production': 10370, 'headed': 10371, 'Moyer': 10372, 'happened': 10373, 'church': 10374, 'Nixon': 10375, 'retain': 10376, 'displaced': 10377, 'documents': 10378, 'Prime': 10379, 'eat': 10380, 'Michael': 10381, 'bans': 10382, 'homers': 10383, 'armed': 10384, 'mph': 10385, 'bacillus': 10386, 'Heidrun': 10387, 'migrants': 10388, 'site': 10389, 'observe': 10390, 'virtually': 10391, 'Headlines': 10392, 'Miladin': 10393, 'submissions': 10394, 'NBH': 10395, 'Damascus': 10396, 'Kenneth': 10397, 'chronic': 10398, 'Every': 10399, 'must': 10400, 'reorganisation': 10401, 'Port': 10402, 'warmup': 10403, 'files': 10404, 'coup': 10405, 'Somerset': 10406, 'English': 10407, 'affair': 10408, 'Viacom': 10409, 'police': 10410, 'Benetton': 10411, 'raid': 10412, 'Bartoli': 10413, 'preparation': 10414, 'cautious': 10415, 'Penn': 10416, 'individual': 10417, 'feature': 10418, 'sugar': 10419, 'BUDAPEST': 10420, 'abusing': 10421, 'Guzman': 10422, 'Guerrero': 10423, 'Mikael': 10424, 'Russian': 10425, 'might': 10426, 'helping': 10427, 'Romania': 10428, 'Bureau': 10429, 'above-average': 10430, 'Princess': 10431, 'Sobota': 10432, 'freestyle': 10433, 'scoreless': 10434, 'licensed': 10435, 'flags': 10436, 'Ballybunion': 10437, 'emergency': 10438, 'Dortmund': 10439, 'Ferdinand': 10440, 'Weston': 10441, 'Nana': 10442, 'time-trial': 10443, 'dystrophin': 10444, 'Forest': 10445, 'thefts': 10446, 'Mrs.': 10447, 'Speaker': 10448, 'games': 10449, 'reaction': 10450, 'tendinitis': 10451, 'relations': 10452, 'MEETING': 10453, 'presidential': 10454, 'Joyce': 10455, 'Opava': 10456, 'creating': 10457, 'northeastern': 10458, 'unable': 10459, 'tournament': 10460, 'read': 10461, 'Radio': 10462, 'sprint': 10463, 'Agriculture': 10464, 'Flour': 10465, 'burst': 10466, 'visible': 10467, 'brighter': 10468, 'placed': 10469, 'Jean-Paul': 10470, 'crashing': 10471, 'CVG': 10472, 'Medvedev': 10473, 'But': 10474, 'Batchelor': 10475, 'Koepke': 10476, 'disabled': 10477, 'plenty': 10478, 'heads': 10479, 'lone': 10480, 'includes': 10481, 'deadlocked': 10482, 'William': 10483, 'later': 10484, 'registrations': 10485, 'other': 10486, 'Sri': 10487, 'roll': 10488, 'activities': 10489, 'pounds': 10490, 'brain-wasting': 10491, 'JULY': 10492, 'prompted': 10493, 'peace': 10494, 'obliged': 10495, 'Ploiesti': 10496, 'Kamio': 10497, 'Santa': 10498, 'U.S.-brokered': 10499, 'filled': 10500, 'sports': 10501, 'rallied': 10502, 'Chaminda': 10503, 'JOHNSON': 10504, 'associate': 10505, 'regained': 10506, 'CALLS': 10507, 'Pot': 10508, 'Bovine': 10509, 'landless': 10510, 'Necmettin': 10511, 'collapse': 10512, 'ate': 10513, 'driver': 10514, 'ending': 10515, 'high-speed': 10516, 'Voronova': 10517, 'Tromso': 10518, 'register': 10519, 'BBC': 10520, 'acres': 10521, 'resources': 10522, 'Ibrahim': 10523, 'Waldbaum': 10524, 'Alesi': 10525, 'DOETINCHEM': 10526, 'conservation': 10527, 'Alexei': 10528, 'explanation': 10529, 'Levenson': 10530, 'STOCK': 10531, 'captain': 10532, 'weathered': 10533, 'offers': 10534, 'reserves': 10535, 'Moreno': 10536, 'tactics': 10537, 'Delhi': 10538, 'years': 10539, 'Soren': 10540, 'PAULO': 10541, 'Moslems': 10542, 'Kumble': 10543, 'Herron': 10544, 'Traders': 10545, 'fires': 10546, 'band': 10547, 'bars': 10548, 'Loko': 10549, 'BRAZILIAN': 10550, 'criminal': 10551, 'Sjeng': 10552, 'Northamptonshire': 10553, 'Coventry': 10554, 'child': 10555, 'Jacques': 10556, 'at': 10557, 'Sciences': 10558, 'Mongia': 10559, 'Russell': 10560, 'sure': 10561, 'Darlington': 10562, 'PAGE': 10563, 'Oremans': 10564, 'Lambrecks': 10565, 'weighted': 10566, 'VMIG': 10567, 'Chuck': 10568, 'salaries': 10569, 'Des': 10570, 'Scorer': 10571, 'member': 10572, 'telling': 10573, 'cull': 10574, 'France': 10575, 'Barry': 10576, 'hijacking': 10577, 'uprising': 10578, 'Maruyama': 10579, 'Division': 10580, 'concentrate': 10581, 'bit': 10582, 'morning': 10583, 'Wataru': 10584, 'Kevorkian': 10585, 'Mountain': 10586, 'birth': 10587, 'MASTERKOVA': 10588, 'laws': 10589, 'allies': 10590, 'Independence': 10591, 'handgun': 10592, 'initial': 10593, 'January-June': 10594, 'Mushtaq': 10595, 'MONTHS': 10596, 'Emanuele': 10597, 'firms': 10598, 'imports': 10599, 'Gilardi': 10600, 'NEW': 10601, 'ferrying': 10602, 'Indian': 10603, 'D.A.': 10604, 'retirement': 10605, 'subpoena': 10606, 'subpoenas': 10607, 'passengers': 10608, 'Heinz-Harald': 10609, 'rings': 10610, 'Haj': 10611, 'Eritrean': 10612, 'somebody': 10613, 'sells': 10614, 'terror': 10615, 'poised': 10616, 'Phillies': 10617, 'vows': 10618, 'WITH': 10619, 'Pascal': 10620, 'Lucerne': 10621, 'Federico': 10622, 'rapist': 10623, 'Vitoria': 10624, 'Harvey': 10625, 'Silke': 10626, 'caps': 10627, 'rarely': 10628, 'Garhi': 10629, 'wilderness': 10630, 'Online': 10631, 'purchases': 10632, 'physically': 10633, 'Gatera': 10634, 'Ten': 10635, 'countryside': 10636, 'controlled': 10637, 'alive': 10638, 'Tutsis': 10639, 'McCarthy': 10640, 'Kerkrade': 10641, 'Belometti': 10642, 'Julia': 10643, 'E.': 10644, 'connection': 10645, 'Jadeja': 10646, 'DOUBLE': 10647, 'Guadalajara': 10648, 'campaigned': 10649, 'littered': 10650, 'terrorists': 10651, 'Feugill': 10652, 'York': 10653, 'resumption': 10654, 'SCORERS': 10655, 'Sciandri': 10656, 'Reserve': 10657, 'times': 10658, 'cement': 10659, 'sheds': 10660, 'delighted': 10661, 'SCHUMACHER': 10662, 'AL-WATAN': 10663, 'fueled': 10664, 'freezer': 10665, 'MEXICO': 10666, 'hurricane': 10667, 'Liberec': 10668, 'attract': 10669, 'within': 10670, 'Club': 10671, 'Due': 10672, 'AMERICAN': 10673, 'Jan-June': 10674, 'SUNDAY': 10675, 'loser': 10676, 'two-run': 10677, 'sustainable': 10678, 'breakdown': 10679, 'Mauritania': 10680, 'Brothers': 10681, 'RAMALLAH': 10682, 'teachers': 10683, 'Jackie': 10684, 'need': 10685, 'Moenchengladbach': 10686, 'near-term': 10687, 'institutional': 10688, 'source': 10689, 'rifles': 10690, 'slammed': 10691, 'Yastrzhembsky': 10692, 'compound': 10693, 'thrown': 10694, 'Bohdan': 10695, 'Dennis': 10696, 'extortion': 10697, 'patent': 10698, 'indeed': 10699, 'Viking': 10700, 'sent': 10701, 'Leduc': 10702, 'unimported': 10703, 'mine': 10704, 'Duncan': 10705, 'neighbours': 10706, 'exclude': 10707, 'Oxford': 10708, 'They': 10709, 'delays': 10710, 'incompetence': 10711, 'CUBS': 10712, 'Onda': 10713, 'hijackings': 10714, 'SunGard': 10715, 'Gorre': 10716, 'Witnesses': 10717, 'grade': 10718, 'Hamlet': 10719, 'stories': 10720, 'hardline': 10721, 'Following': 10722, 'Korean': 10723, 'communist': 10724, 'managed': 10725, 'narrow': 10726, 'arm': 10727, 'cannot': 10728, 'traders': 10729, 'People': 10730, 'Lenham': 10731}\n"
     ]
    }
   ],
   "source": [
    "print(word_to_idx)"
   ]
  },
  {
   "cell_type": "code",
   "execution_count": 11,
   "id": "bd55e489",
   "metadata": {},
   "outputs": [],
   "source": [
    "def get_vocab_tags_idx(word_to_idx, tag_to_idx):\n",
    "    idx_to_word, idx_to_tag = {}, {}\n",
    "    for word, idx in word_to_idx.items():\n",
    "        idx_to_word[idx] = word\n",
    "    for tag, idx in tag_to_idx.items():\n",
    "        idx_to_tag[idx] = tag\n",
    "    return idx_to_word, idx_to_tag"
   ]
  },
  {
   "cell_type": "code",
   "execution_count": 12,
   "id": "c7ac0dea",
   "metadata": {},
   "outputs": [],
   "source": [
    "idx_to_word, idx_to_tag = get_vocab_tags_idx(word_to_idx, tag_to_idx)"
   ]
  },
  {
   "cell_type": "code",
   "execution_count": 13,
   "id": "4dde05eb",
   "metadata": {},
   "outputs": [],
   "source": [
    "def process_sentences(sentences:list, word_to_idx:dict):\n",
    "    data = []\n",
    "    for sentence in sentences:\n",
    "        tmp_sentence = []\n",
    "        for word in sentence:\n",
    "            if word in word_to_idx.keys():\n",
    "                tmp_sentence.append(word_to_idx[word])\n",
    "            else:\n",
    "                tmp_sentence.append(word_to_idx[word_type(word)])\n",
    "        data.append(tmp_sentence)\n",
    "    return data\n",
    "\n",
    "def process_targets(targets:list, tag_to_idx:dict):\n",
    "    data = []\n",
    "    for target in targets:\n",
    "        tmp_target = []\n",
    "        for tag in target:\n",
    "            tmp_target.append(tag_to_idx[tag])\n",
    "        data.append(tmp_target)\n",
    "    return data\n",
    "    "
   ]
  },
  {
   "cell_type": "code",
   "execution_count": 14,
   "id": "ea2bcc0d",
   "metadata": {},
   "outputs": [],
   "source": [
    "data_X = process_sentences(sentences, word_to_idx)"
   ]
  },
  {
   "cell_type": "code",
   "execution_count": 15,
   "id": "52899686",
   "metadata": {},
   "outputs": [],
   "source": [
    "data_y = process_targets(targets, tag_to_idx)"
   ]
  },
  {
   "cell_type": "code",
   "execution_count": 16,
   "id": "3f28eb7e",
   "metadata": {},
   "outputs": [],
   "source": [
    "# get the maximum length of sentence in train\n",
    "maximum_length = 0\n",
    "for sample in data_X:\n",
    "    if len(sample) > maximum_length:\n",
    "        maximum_length = len(sample)"
   ]
  },
  {
   "cell_type": "code",
   "execution_count": 17,
   "id": "05fa7dd6",
   "metadata": {},
   "outputs": [
    {
     "data": {
      "text/plain": [
       "113"
      ]
     },
     "execution_count": 17,
     "metadata": {},
     "output_type": "execute_result"
    }
   ],
   "source": [
    "maximum_length"
   ]
  },
  {
   "cell_type": "code",
   "execution_count": 18,
   "id": "66015f03",
   "metadata": {},
   "outputs": [],
   "source": [
    "def padding_sentence(data: list, maximum_length=125):\n",
    "    for i in range(len(data)):\n",
    "        if len(data[i]) > maximum_length:  # Truncating\n",
    "            data[i] = data[i][:maximum_length]\n",
    "        elif len(data[i]) < maximum_length:  # Padding \n",
    "            data[i] = data[i] + [0] * (maximum_length - len(data[i]))\n",
    "    return data\n",
    "\n",
    "def padding_tags(data: list, maximum_length=125):\n",
    "    for i in range(len(data)):\n",
    "        if len(data[i]) > maximum_length:  # Truncating\n",
    "            data[i] = data[i][:maximum_length]\n",
    "        elif len(data[i]) < maximum_length:  # Padding with penalty score\n",
    "            data[i] = data[i] + [-100] * (maximum_length - len(data[i]))\n",
    "    return data"
   ]
  },
  {
   "cell_type": "code",
   "execution_count": 19,
   "id": "c04c2f68",
   "metadata": {
    "scrolled": true
   },
   "outputs": [],
   "source": [
    "data_X = padding_sentence(data_X)\n",
    "data_y = padding_tags(data_y)"
   ]
  },
  {
   "cell_type": "code",
   "execution_count": 20,
   "id": "78072eef",
   "metadata": {},
   "outputs": [],
   "source": [
    "X_train = torch.LongTensor(data_X)\n",
    "Y_train = torch.LongTensor(data_y)"
   ]
  },
  {
   "cell_type": "code",
   "execution_count": 21,
   "id": "43faf5e9",
   "metadata": {},
   "outputs": [
    {
     "name": "stdout",
     "output_type": "stream",
     "text": [
      "tensor([[ 8325,  7832,   438,  ...,     0,     0,     0],\n",
      "        [ 4318,  5931,     0,  ...,     0,     0,     0],\n",
      "        [ 3658, 10239,     0,  ...,     0,     0,     0],\n",
      "        ...,\n",
      "        [10580, 10082,     0,  ...,     0,     0,     0],\n",
      "        [ 1326,  6657,  6011,  ...,     0,     0,     0],\n",
      "        [ 9544,     0,     0,  ...,     0,     0,     0]])\n"
     ]
    }
   ],
   "source": [
    "print(X_train)"
   ]
  },
  {
   "cell_type": "code",
   "execution_count": 22,
   "id": "b3c19abf",
   "metadata": {},
   "outputs": [],
   "source": [
    "ds_train = TensorDataset(X_train, Y_train)\n",
    "loader_train = DataLoader(ds_train, batch_size=16, shuffle=False)"
   ]
  },
  {
   "cell_type": "code",
   "execution_count": 23,
   "id": "f584d0dc",
   "metadata": {
    "scrolled": true
   },
   "outputs": [],
   "source": [
    "embedding_weight = dict()\n",
    "f = open(os.path.join('glove.6B.100d'), encoding='utf-8')\n",
    "for line in f:\n",
    "    word_vector = line.split()\n",
    "    word = word_vector[0]\n",
    "    word_emb = np.asarray(word_vector[1:], dtype='float32') \n",
    "    embedding_weight[word] = word_emb\n",
    "\n",
    "embedding_dim = 100\n",
    "embedding_input = np.zeros((len(word_to_idx), embedding_dim))"
   ]
  },
  {
   "cell_type": "code",
   "execution_count": 24,
   "id": "35806f7c",
   "metadata": {
    "scrolled": true
   },
   "outputs": [],
   "source": [
    "for word, idx in word_to_idx.items():\n",
    "    embedding_vec = embedding_weight.get(word.lower())\n",
    "    if embedding_vec is not None:\n",
    "        embedding_input[idx] = embedding_vec"
   ]
  },
  {
   "cell_type": "code",
   "execution_count": 29,
   "id": "1c7b3e84",
   "metadata": {
    "scrolled": false
   },
   "outputs": [
    {
     "name": "stdout",
     "output_type": "stream",
     "text": [
      "[[-0.93299001 -0.14930999 -0.35146999 ...  0.40952    -0.016286\n",
      "   0.22317   ]\n",
      " [ 0.024129    0.19566999 -0.15423    ...  0.17268001  0.35971999\n",
      "   0.029541  ]\n",
      " [ 0.12222     0.13160001  0.27070001 ...  0.35692     0.64782\n",
      "  -0.47792   ]\n",
      " ...\n",
      " [ 0.57792002  0.145      -0.096722   ...  0.1963      0.066402\n",
      "   0.34397   ]\n",
      " [ 0.29019001  0.80497003  0.31187001 ... -0.33603001  0.45998001\n",
      "  -0.11278   ]\n",
      " [ 0.20954999  0.0028596  -0.43630999 ...  0.31975999 -0.31375\n",
      "   0.19766   ]]\n"
     ]
    }
   ],
   "source": [
    "print(embedding_input)"
   ]
  },
  {
   "cell_type": "code",
   "execution_count": 30,
   "id": "2f0b5a2f",
   "metadata": {},
   "outputs": [],
   "source": [
    "#embedding_matrix_model = torch.LongTensor(embedding_matrix)\n",
    "embedding_matrix_model = torch.Tensor(embedding_input)"
   ]
  },
  {
   "cell_type": "markdown",
   "id": "f123d0b7",
   "metadata": {},
   "source": [
    "# model structure define"
   ]
  },
  {
   "cell_type": "code",
   "execution_count": 31,
   "id": "db15633b",
   "metadata": {},
   "outputs": [],
   "source": [
    "class BiLSTMNER(nn.Module):\n",
    "    def __init__(self, vocab_size, target_size, embedding_dim=100, lstm_hidden_dim=256, lstm_layers=1, lstm_dropout=0.33, linear_dim=128):\n",
    "        super().__init__()        \n",
    "        self.dropout = nn.Dropout(0.33)\n",
    "        self.embedding = nn.Embedding(vocab_size, embedding_dim, padding_idx=0)\n",
    "        self.lstm = nn.LSTM(embedding_dim, lstm_hidden_dim,num_layers=lstm_layers,batch_first=True, bidirectional=True) #dropout=lstm_dropout)\n",
    "        self.linear = nn.Linear(lstm_hidden_dim * 2, linear_dim)\n",
    "        self.elu = nn.ELU()\n",
    "        self.classifier = nn.Linear(linear_dim, target_size)\n",
    "\n",
    "    def forward(self, sentence):\n",
    "        embeds = self.dropout(self.embedding(sentence))\n",
    "        lstm_out,_ = self.lstm(embeds)\n",
    "        lstm_out = self.dropout(lstm_out)\n",
    "        linear_out = self.linear(lstm_out)\n",
    "        elu_out = self.elu(linear_out)\n",
    "        output = self.classifier(elu_out)\n",
    "        return output"
   ]
  },
  {
   "cell_type": "code",
   "execution_count": 32,
   "id": "ede276c0",
   "metadata": {
    "scrolled": true
   },
   "outputs": [],
   "source": [
    "model = BiLSTMNER(vocab_size = len(word_to_idx), target_size = len(tag_to_idx))"
   ]
  },
  {
   "cell_type": "code",
   "execution_count": 33,
   "id": "95425351",
   "metadata": {},
   "outputs": [],
   "source": [
    "def read_in_dev_data(filename):\n",
    "    sentences = []\n",
    "    tmp_sentence = []\n",
    "    targets = []\n",
    "    tmp_target = []\n",
    "    with open(filename) as file:\n",
    "        for line in file.readlines():\n",
    "            if len(line) > 1:\n",
    "                _, word, tag = line.strip().split(\" \")\n",
    "                tmp_sentence.append(word)\n",
    "                tmp_target.append(tag)\n",
    "            else:\n",
    "                sentences.append(tmp_sentence)\n",
    "                targets.append(tmp_target)\n",
    "                tmp_sentence = []\n",
    "                tmp_target = []\n",
    "        if len(tmp_sentence)>0:\n",
    "            sentences.append(tmp_sentence)\n",
    "            targets.append(tmp_target)\n",
    "    return sentences, targets"
   ]
  },
  {
   "cell_type": "markdown",
   "id": "c3603675",
   "metadata": {},
   "source": [
    "# dev dataset"
   ]
  },
  {
   "cell_type": "code",
   "execution_count": 34,
   "id": "3427ca2c",
   "metadata": {},
   "outputs": [],
   "source": [
    "dev_sentences, dev_targets = read_in_dev_data(\"./data/dev\")"
   ]
  },
  {
   "cell_type": "code",
   "execution_count": 35,
   "id": "87795497",
   "metadata": {},
   "outputs": [],
   "source": [
    "data_X_dev = process_sentences(dev_sentences, word_to_idx)\n",
    "data_y_dev = process_targets(dev_targets, tag_to_idx)"
   ]
  },
  {
   "cell_type": "code",
   "execution_count": 36,
   "id": "09db1d19",
   "metadata": {},
   "outputs": [],
   "source": [
    "data_X_dev = padding_sentence(data_X_dev)\n",
    "data_y_dev = padding_tags(data_y_dev)"
   ]
  },
  {
   "cell_type": "code",
   "execution_count": 37,
   "id": "ccc56e31",
   "metadata": {},
   "outputs": [],
   "source": [
    "X_dev = torch.LongTensor(data_X_dev)\n",
    "Y_dev = torch.LongTensor(data_y_dev)\n",
    "ds_dev = TensorDataset(X_dev, Y_dev)\n",
    "loader_dev = DataLoader(ds_dev, batch_size=16, shuffle=False)"
   ]
  },
  {
   "cell_type": "markdown",
   "id": "3c170e15",
   "metadata": {},
   "source": [
    "# test dataset"
   ]
  },
  {
   "cell_type": "code",
   "execution_count": 38,
   "id": "c62d39f0",
   "metadata": {},
   "outputs": [],
   "source": [
    "def read_in_test_data(filename):\n",
    "    sentences = []\n",
    "    tmp_sentence = []\n",
    "    with open(filename) as file:\n",
    "        for line in file.readlines():\n",
    "            if len(line) > 1:\n",
    "                _, word = line.strip().split(\" \")\n",
    "                tmp_sentence.append(word)\n",
    "            else:\n",
    "                sentences.append(tmp_sentence)\n",
    "                tmp_sentence = []\n",
    "        if len(tmp_sentence)>0:\n",
    "            sentences.append(tmp_sentence)\n",
    "    return sentences\n",
    "\n",
    "test_sentences = read_in_test_data(\"./data/test\")"
   ]
  },
  {
   "cell_type": "code",
   "execution_count": 39,
   "id": "5b15635b",
   "metadata": {},
   "outputs": [],
   "source": [
    "data_test = process_sentences(test_sentences, word_to_idx)"
   ]
  },
  {
   "cell_type": "code",
   "execution_count": 40,
   "id": "d46bc37c",
   "metadata": {},
   "outputs": [],
   "source": [
    "data_test = process_sentences(test_sentences, word_to_idx)\n",
    "data_X_test = padding_sentence(data_test)\n",
    "X_test = torch.LongTensor(data_X_test)\n",
    "loader_test = DataLoader(X_test, batch_size=16, shuffle=False)"
   ]
  },
  {
   "cell_type": "markdown",
   "id": "bcdf6a42",
   "metadata": {},
   "source": [
    "# Using GPU"
   ]
  },
  {
   "cell_type": "code",
   "execution_count": 41,
   "id": "de6992eb",
   "metadata": {},
   "outputs": [
    {
     "name": "stdout",
     "output_type": "stream",
     "text": [
      "GPU mode\n"
     ]
    }
   ],
   "source": [
    "is_cuda = torch.cuda.is_available()\n",
    "if is_cuda:\n",
    "    device = torch.device(\"cuda\")\n",
    "    print(\"GPU mode\")\n",
    "else:\n",
    "    device = torch.device(\"cpu\")\n",
    "    print(\"CPU mode\")"
   ]
  },
  {
   "cell_type": "markdown",
   "id": "26186107",
   "metadata": {},
   "source": [
    "# train and evaluate model"
   ]
  },
  {
   "cell_type": "code",
   "execution_count": 42,
   "id": "77149748",
   "metadata": {
    "scrolled": false
   },
   "outputs": [],
   "source": [
    "def train_evaluate(model, train_data, dev_data, epoch_num=50, tag_pad_idx = -100):\n",
    "    optimizer = optim.SGD(model.parameters(), lr=0.23, momentum=0.9, nesterov=True) # Set hyperparameter\n",
    "    scheduler = torch.optim.lr_scheduler.ReduceLROnPlateau(optimizer, 'min', patience=4)\n",
    "    criterion = nn.CrossEntropyLoss(ignore_index= -100)\n",
    "    best_loss = float('inf')\n",
    "    predict_table = []\n",
    "    for epoch in range(epoch_num):\n",
    "        # training\n",
    "        train_result = []\n",
    "        train_loss = 0\n",
    "        train_acc = 0\n",
    "        train_total = 0\n",
    "        model.train()\n",
    "        for train_sentence, train_target in train_data:\n",
    "            optimizer.zero_grad()\n",
    "            train_sentence = train_sentence.to(device)\n",
    "            train_target = train_target.to(device)\n",
    "            train_pred = model(train_sentence)\n",
    "            train_pred = train_pred.view(-1, train_pred.shape[-1])\n",
    "            train_target = train_target.view(-1)\n",
    "            train_tmp_loss = criterion(train_pred, train_target)\n",
    "\n",
    "            train_tmp_total = 0\n",
    "            train_tmp_correct = 0\n",
    "            max_pred = train_pred.argmax(dim=1, keepdim = True)\n",
    "            for tmp_pred, tmp_target, tmp_word in zip(max_pred, train_target, train_sentence.view(-1)):\n",
    "                if tmp_word != 0:\n",
    "                    train_result.append((tmp_word.item(), tmp_pred.item(), tmp_target.item()))\n",
    "                    if tmp_target.item() == tmp_pred.item():\n",
    "                        train_tmp_correct += 1\n",
    "                    train_total += 1\n",
    "            train_tmp_loss.backward()\n",
    "            optimizer.step()\n",
    "            train_loss += train_tmp_loss.item()\n",
    "            train_acc += train_tmp_correct\n",
    "            train_total += train_tmp_total\n",
    "        print('Epoch ', epoch, ' :')\n",
    "        print(f'\\tTrain Loss: {train_loss/len(train_data):.6f} | Train Acc: {(train_acc/train_total)*100:.2f}%')\n",
    "\n",
    "        # evaluating\n",
    "        dev_result = []\n",
    "        dev_loss = 0\n",
    "        dev_acc = 0\n",
    "        dev_total = 0\n",
    "        model.eval()\n",
    "        with torch.no_grad():\n",
    "            for dev_sentence, dev_target in dev_data:\n",
    "                dev_sentence = dev_sentence.to(device)\n",
    "                dev_target = dev_target.to(device)\n",
    "                dev_pred = model(dev_sentence)\n",
    "                dev_pred = dev_pred.view(-1, dev_pred.shape[-1])\n",
    "                dev_target = dev_target.view(-1)\n",
    "                dev_tmp_loss = criterion(dev_pred, dev_target)\n",
    "\n",
    "                dev_tmp_total = 0\n",
    "                dev_tmp_correct = 0\n",
    "                max_pred = dev_pred.argmax(dim=1, keepdim=True)\n",
    "                for tmp_pred, tmp_target, tmp_word in zip(max_pred, dev_target, dev_sentence.view(-1)):\n",
    "                    if tmp_word != 0:\n",
    "                        dev_result.append((tmp_word.item(), tmp_pred.item(), tmp_target.item()))\n",
    "                        if tmp_target.item() == tmp_pred.item():\n",
    "                            dev_tmp_correct += 1\n",
    "                        dev_total += 1\n",
    "                dev_loss += dev_tmp_loss.item()\n",
    "                dev_acc += dev_tmp_correct\n",
    "                dev_total += dev_tmp_total\n",
    "        print(f'\\tDev Loss: {dev_loss / len(dev_data):.6f} | Dev Acc: {(dev_acc / dev_total) * 100:.2f}%')\n",
    "        if dev_loss <= best_loss:\n",
    "            best_loss = dev_loss\n",
    "            predict_table = dev_result\n",
    "            torch.save(model.state_dict(), './model/blstm2.pt')\n",
    "    return predict_table"
   ]
  },
  {
   "cell_type": "code",
   "execution_count": 43,
   "id": "6c5ac579",
   "metadata": {},
   "outputs": [
    {
     "data": {
      "text/plain": [
       "BiLSTMNER(\n",
       "  (dropout): Dropout(p=0.33, inplace=False)\n",
       "  (embedding): Embedding(10732, 100, padding_idx=0)\n",
       "  (lstm): LSTM(100, 256, batch_first=True, bidirectional=True)\n",
       "  (linear): Linear(in_features=512, out_features=128, bias=True)\n",
       "  (elu): ELU(alpha=1.0)\n",
       "  (classifier): Linear(in_features=128, out_features=9, bias=True)\n",
       ")"
      ]
     },
     "execution_count": 43,
     "metadata": {},
     "output_type": "execute_result"
    }
   ],
   "source": [
    "model.to(device)"
   ]
  },
  {
   "cell_type": "code",
   "execution_count": 44,
   "id": "5a675604",
   "metadata": {},
   "outputs": [
    {
     "data": {
      "text/plain": [
       "tensor([[-0.9330, -0.1493, -0.3515,  ...,  0.4095, -0.0163,  0.2232],\n",
       "        [ 0.0241,  0.1957, -0.1542,  ...,  0.1727,  0.3597,  0.0295],\n",
       "        [ 0.1222,  0.1316,  0.2707,  ...,  0.3569,  0.6478, -0.4779],\n",
       "        ...,\n",
       "        [ 0.5779,  0.1450, -0.0967,  ...,  0.1963,  0.0664,  0.3440],\n",
       "        [ 0.2902,  0.8050,  0.3119,  ..., -0.3360,  0.4600, -0.1128],\n",
       "        [ 0.2095,  0.0029, -0.4363,  ...,  0.3198, -0.3137,  0.1977]],\n",
       "       device='cuda:0')"
      ]
     },
     "execution_count": 44,
     "metadata": {},
     "output_type": "execute_result"
    }
   ],
   "source": [
    "model.embedding.weight.data.copy_(embedding_matrix_model)"
   ]
  },
  {
   "cell_type": "code",
   "execution_count": 45,
   "id": "dc06d299",
   "metadata": {
    "scrolled": true
   },
   "outputs": [
    {
     "name": "stdout",
     "output_type": "stream",
     "text": [
      "Epoch  0  :\n",
      "\tTrain Loss: 0.335653 | Train Acc: 90.86%\n",
      "\tDev Loss: 0.184087 | Dev Acc: 94.61%\n",
      "Epoch  1  :\n",
      "\tTrain Loss: 0.176551 | Train Acc: 94.61%\n",
      "\tDev Loss: 0.133290 | Dev Acc: 95.97%\n",
      "Epoch  2  :\n",
      "\tTrain Loss: 0.133033 | Train Acc: 95.83%\n",
      "\tDev Loss: 0.110509 | Dev Acc: 96.56%\n",
      "Epoch  3  :\n",
      "\tTrain Loss: 0.110988 | Train Acc: 96.44%\n",
      "\tDev Loss: 0.102620 | Dev Acc: 96.72%\n",
      "Epoch  4  :\n",
      "\tTrain Loss: 0.095492 | Train Acc: 96.92%\n",
      "\tDev Loss: 0.093420 | Dev Acc: 97.12%\n",
      "Epoch  5  :\n",
      "\tTrain Loss: 0.085816 | Train Acc: 97.20%\n",
      "\tDev Loss: 0.091576 | Dev Acc: 97.03%\n",
      "Epoch  6  :\n",
      "\tTrain Loss: 0.073950 | Train Acc: 97.51%\n",
      "\tDev Loss: 0.081089 | Dev Acc: 97.45%\n",
      "Epoch  7  :\n",
      "\tTrain Loss: 0.065665 | Train Acc: 97.79%\n",
      "\tDev Loss: 0.076630 | Dev Acc: 97.53%\n",
      "Epoch  8  :\n",
      "\tTrain Loss: 0.061474 | Train Acc: 97.93%\n",
      "\tDev Loss: 0.076505 | Dev Acc: 97.54%\n",
      "Epoch  9  :\n",
      "\tTrain Loss: 0.055339 | Train Acc: 98.13%\n",
      "\tDev Loss: 0.076674 | Dev Acc: 97.49%\n",
      "Epoch  10  :\n",
      "\tTrain Loss: 0.051273 | Train Acc: 98.23%\n",
      "\tDev Loss: 0.073294 | Dev Acc: 97.67%\n",
      "Epoch  11  :\n",
      "\tTrain Loss: 0.047457 | Train Acc: 98.34%\n",
      "\tDev Loss: 0.073718 | Dev Acc: 97.63%\n",
      "Epoch  12  :\n",
      "\tTrain Loss: 0.044696 | Train Acc: 98.45%\n",
      "\tDev Loss: 0.073640 | Dev Acc: 97.66%\n",
      "Epoch  13  :\n",
      "\tTrain Loss: 0.041495 | Train Acc: 98.52%\n",
      "\tDev Loss: 0.072355 | Dev Acc: 97.70%\n",
      "Epoch  14  :\n",
      "\tTrain Loss: 0.039209 | Train Acc: 98.61%\n",
      "\tDev Loss: 0.074981 | Dev Acc: 97.63%\n",
      "Epoch  15  :\n",
      "\tTrain Loss: 0.037057 | Train Acc: 98.70%\n",
      "\tDev Loss: 0.072881 | Dev Acc: 97.77%\n",
      "Epoch  16  :\n",
      "\tTrain Loss: 0.033974 | Train Acc: 98.77%\n",
      "\tDev Loss: 0.076563 | Dev Acc: 97.57%\n",
      "Epoch  17  :\n",
      "\tTrain Loss: 0.033270 | Train Acc: 98.79%\n",
      "\tDev Loss: 0.071562 | Dev Acc: 97.81%\n",
      "Epoch  18  :\n",
      "\tTrain Loss: 0.029995 | Train Acc: 98.91%\n",
      "\tDev Loss: 0.071037 | Dev Acc: 97.80%\n",
      "Epoch  19  :\n",
      "\tTrain Loss: 0.029623 | Train Acc: 98.93%\n",
      "\tDev Loss: 0.075629 | Dev Acc: 97.72%\n",
      "Epoch  20  :\n",
      "\tTrain Loss: 0.028915 | Train Acc: 98.93%\n",
      "\tDev Loss: 0.071839 | Dev Acc: 97.93%\n",
      "Epoch  21  :\n",
      "\tTrain Loss: 0.027016 | Train Acc: 99.02%\n",
      "\tDev Loss: 0.074542 | Dev Acc: 97.87%\n",
      "Epoch  22  :\n",
      "\tTrain Loss: 0.025868 | Train Acc: 99.05%\n",
      "\tDev Loss: 0.080414 | Dev Acc: 97.71%\n",
      "Epoch  23  :\n",
      "\tTrain Loss: 0.024368 | Train Acc: 99.12%\n",
      "\tDev Loss: 0.076816 | Dev Acc: 97.89%\n",
      "Epoch  24  :\n",
      "\tTrain Loss: 0.023765 | Train Acc: 99.12%\n",
      "\tDev Loss: 0.077491 | Dev Acc: 97.78%\n",
      "Epoch  25  :\n",
      "\tTrain Loss: 0.022791 | Train Acc: 99.14%\n",
      "\tDev Loss: 0.080461 | Dev Acc: 97.77%\n",
      "Epoch  26  :\n",
      "\tTrain Loss: 0.021580 | Train Acc: 99.20%\n",
      "\tDev Loss: 0.079254 | Dev Acc: 97.78%\n",
      "Epoch  27  :\n",
      "\tTrain Loss: 0.021924 | Train Acc: 99.19%\n",
      "\tDev Loss: 0.079487 | Dev Acc: 97.88%\n",
      "Epoch  28  :\n",
      "\tTrain Loss: 0.021542 | Train Acc: 99.21%\n",
      "\tDev Loss: 0.081993 | Dev Acc: 97.78%\n",
      "Epoch  29  :\n",
      "\tTrain Loss: 0.019483 | Train Acc: 99.28%\n",
      "\tDev Loss: 0.075162 | Dev Acc: 97.93%\n",
      "Epoch  30  :\n",
      "\tTrain Loss: 0.019089 | Train Acc: 99.32%\n",
      "\tDev Loss: 0.083255 | Dev Acc: 97.90%\n",
      "Epoch  31  :\n",
      "\tTrain Loss: 0.017829 | Train Acc: 99.33%\n",
      "\tDev Loss: 0.087171 | Dev Acc: 97.83%\n",
      "Epoch  32  :\n",
      "\tTrain Loss: 0.016985 | Train Acc: 99.34%\n",
      "\tDev Loss: 0.083196 | Dev Acc: 97.91%\n",
      "Epoch  33  :\n",
      "\tTrain Loss: 0.016615 | Train Acc: 99.36%\n",
      "\tDev Loss: 0.084526 | Dev Acc: 97.84%\n",
      "Epoch  34  :\n",
      "\tTrain Loss: 0.015777 | Train Acc: 99.40%\n",
      "\tDev Loss: 0.085397 | Dev Acc: 97.89%\n",
      "Epoch  35  :\n",
      "\tTrain Loss: 0.016487 | Train Acc: 99.39%\n",
      "\tDev Loss: 0.086008 | Dev Acc: 97.96%\n",
      "Epoch  36  :\n",
      "\tTrain Loss: 0.015275 | Train Acc: 99.42%\n",
      "\tDev Loss: 0.083331 | Dev Acc: 97.92%\n",
      "Epoch  37  :\n",
      "\tTrain Loss: 0.014536 | Train Acc: 99.44%\n",
      "\tDev Loss: 0.086792 | Dev Acc: 97.87%\n",
      "Epoch  38  :\n",
      "\tTrain Loss: 0.013674 | Train Acc: 99.49%\n",
      "\tDev Loss: 0.086569 | Dev Acc: 97.88%\n",
      "Epoch  39  :\n",
      "\tTrain Loss: 0.013281 | Train Acc: 99.49%\n",
      "\tDev Loss: 0.090890 | Dev Acc: 97.94%\n",
      "Epoch  40  :\n",
      "\tTrain Loss: 0.013000 | Train Acc: 99.50%\n",
      "\tDev Loss: 0.091598 | Dev Acc: 97.90%\n",
      "Epoch  41  :\n",
      "\tTrain Loss: 0.013203 | Train Acc: 99.50%\n",
      "\tDev Loss: 0.090084 | Dev Acc: 97.94%\n",
      "Epoch  42  :\n",
      "\tTrain Loss: 0.012297 | Train Acc: 99.54%\n",
      "\tDev Loss: 0.095896 | Dev Acc: 97.83%\n",
      "Epoch  43  :\n",
      "\tTrain Loss: 0.011517 | Train Acc: 99.54%\n",
      "\tDev Loss: 0.095096 | Dev Acc: 97.87%\n",
      "Epoch  44  :\n",
      "\tTrain Loss: 0.011479 | Train Acc: 99.55%\n",
      "\tDev Loss: 0.089628 | Dev Acc: 98.03%\n",
      "Epoch  45  :\n",
      "\tTrain Loss: 0.012579 | Train Acc: 99.53%\n",
      "\tDev Loss: 0.091414 | Dev Acc: 97.99%\n",
      "Epoch  46  :\n",
      "\tTrain Loss: 0.010954 | Train Acc: 99.60%\n",
      "\tDev Loss: 0.100570 | Dev Acc: 97.98%\n",
      "Epoch  47  :\n",
      "\tTrain Loss: 0.011560 | Train Acc: 99.57%\n",
      "\tDev Loss: 0.095611 | Dev Acc: 97.95%\n",
      "Epoch  48  :\n",
      "\tTrain Loss: 0.010923 | Train Acc: 99.59%\n",
      "\tDev Loss: 0.097519 | Dev Acc: 98.05%\n",
      "Epoch  49  :\n",
      "\tTrain Loss: 0.010468 | Train Acc: 99.59%\n",
      "\tDev Loss: 0.099680 | Dev Acc: 97.91%\n"
     ]
    }
   ],
   "source": [
    "predict_table = train_evaluate(model,loader_train,loader_dev)"
   ]
  },
  {
   "cell_type": "code",
   "execution_count": 46,
   "id": "81dc4cee",
   "metadata": {},
   "outputs": [],
   "source": [
    "y_pred = [int(x[1]) for x in predict_table]\n",
    "i=0\n",
    "new_file = open('./dev2.out', \"w\")\n",
    "with open('./data/dev', \"r\") as file:\n",
    "    for line in file:\n",
    "        if len(line) > 1:\n",
    "            idx, word, tag = line.strip().split(\" \")\n",
    "            new_file.write(str(idx)+' '+str(word)+' '+str(idx_to_tag[y_pred[i]])+'\\n')\n",
    "            i+=1\n",
    "        else:\n",
    "            new_file.write('\\n')\n",
    "file.close()\n",
    "new_file.close()"
   ]
  },
  {
   "cell_type": "markdown",
   "id": "e6fae1e8",
   "metadata": {},
   "source": [
    "# test predict"
   ]
  },
  {
   "cell_type": "code",
   "execution_count": 47,
   "id": "e309675c",
   "metadata": {},
   "outputs": [],
   "source": [
    "output = []\n",
    "model.to(device)\n",
    "model.eval()\n",
    "for test_sentence in loader_test:\n",
    "    test_sentence = test_sentence.to(device)\n",
    "    test_pred = model(test_sentence)\n",
    "    test_pred = test_pred.view(-1, test_pred.shape[-1])\n",
    "    max_pred = test_pred.argmax(dim=1, keepdim = True)\n",
    "    for tmp_pred, word in zip(max_pred, test_sentence.view(-1)):\n",
    "        if word != 0:\n",
    "            output.append(tmp_pred.item())"
   ]
  },
  {
   "cell_type": "code",
   "execution_count": 48,
   "id": "7dea4cce",
   "metadata": {},
   "outputs": [
    {
     "name": "stdout",
     "output_type": "stream",
     "text": [
      "46666\n",
      "46666\n"
     ]
    }
   ],
   "source": [
    "length = 0\n",
    "with open('./data/test', \"r\") as file:\n",
    "    for line in file:\n",
    "        if len(line) > 1: \n",
    "            length+=1\n",
    "file.close()\n",
    "print(length)\n",
    "print(len(output))"
   ]
  },
  {
   "cell_type": "code",
   "execution_count": 49,
   "id": "4ea50988",
   "metadata": {},
   "outputs": [],
   "source": [
    "i=0\n",
    "new_file = open('./test2.out', \"w\")\n",
    "with open('./data/test', \"r\") as file:\n",
    "    for line in file:\n",
    "        if len(line) > 1:\n",
    "            idx, word = line.strip().split(\" \")\n",
    "            new_file.write(str(idx)+' '+str(word)+' '+str(idx_to_tag[output[i]])+'\\n')\n",
    "            i+=1\n",
    "        else:\n",
    "            new_file.write('\\n')\n",
    "file.close()\n",
    "new_file.close()"
   ]
  },
  {
   "cell_type": "code",
   "execution_count": null,
   "id": "3514902c",
   "metadata": {},
   "outputs": [],
   "source": []
  }
 ],
 "metadata": {
  "kernelspec": {
   "display_name": "py375",
   "language": "python",
   "name": "561"
  },
  "language_info": {
   "codemirror_mode": {
    "name": "ipython",
    "version": 3
   },
   "file_extension": ".py",
   "mimetype": "text/x-python",
   "name": "python",
   "nbconvert_exporter": "python",
   "pygments_lexer": "ipython3",
   "version": "3.7.5"
  }
 },
 "nbformat": 4,
 "nbformat_minor": 5
}
